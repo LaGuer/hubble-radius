{
 "cells": [
  {
   "cell_type": "markdown",
   "metadata": {},
   "source": [
    "========================================================================================================================="
   ]
  },
  {
   "cell_type": "markdown",
   "metadata": {},
   "source": [
    "# How to determine the horizon of the visible universe in a Jupyter Notebook"
   ]
  },
  {
   "cell_type": "markdown",
   "metadata": {},
   "source": [
    "========================================================================================================================="
   ]
  },
  {
   "cell_type": "markdown",
   "metadata": {},
   "source": [
    "## 45 correlations converging the theoretical value of the horizon of the critical universe see [Observable_universe](https://en.wikipedia.org/wiki/Observable_universe) and [Schwarzschild_radius](https://en.wikipedia.org/wiki/Schwarzschild_radius)"
   ]
  },
  {
   "cell_type": "markdown",
   "metadata": {},
   "source": [
    "# with $10^{-9}$  precision"
   ]
  },
  {
   "cell_type": "markdown",
   "metadata": {},
   "source": [
    "========================================================================================================================="
   ]
  },
  {
   "cell_type": "markdown",
   "metadata": {},
   "source": [
    "List of physical (NIST CODATA2018) and mathematical constants used:\n",
    "\n",
    "* $\\pi=3.141592653589793$\n",
    "* Euler natural logarithm $e=2.718281828459045$\n",
    "* Euler Mascheroni $\\gamma=0.5772156649015329$\n",
    "* Apery Constant $\\xi(3)=1.202056903159594$ [Apery Constant](https://en.wikipedia.org/wiki/Ap%C3%A9ry%27s_constant)\n",
    "* Atiyah's $\\Gamma=25.178097241906$ [Michael_Atiyah](https://en.wikipedia.org/wiki/Michael_Atiyah)\n",
    "* Lucas Mersenne number [Edouard Lucas](https://en.wikipedia.org/wiki/%C3%89douard_Lucas)\n",
    "* OM Monster [Monster_group](https://en.wikipedia.org/wiki/Monster_group) also known as Fischer–Griess monster\n",
    "* OB Baby Monster [Baby_monster_group](https://en.wikipedia.org/wiki/Baby_monster_group) baby monster group B\n",
    "* OP Pariah Group [Pariah_group](https://en.wikipedia.org/wiki/Pariah_group) six sporadic simple groups\n",
    "* Eddington Electric Constant $a=137.0359990836958$ also known as the inversed fine structure constant CODATA2018\n",
    "* $c=299792458.0$ m/s CODATA2018\n",
    "* $h=6.62607015.10^{-34}$ $J.Hz^{-1}$ Planck constant CODATA2018\n",
    "* $\\hbar=1.0545718176461565.10^{-34}$ $J.s$ Planck constant over 2 pi CODATA2018\n",
    "* $l_P=1.616255.10^{-35}$ m Planck length CODATA2018\n",
    "* $m_P=2.176434.10^{-8}$ kg Planck mass CODATA2018\n",
    "* ƛ$_e$ $=3.861 592 6796.10^{-13}$m Reduced (Electron) Compton Wavelength CODATA2018\n",
    "* ƛ$_p$ $=2.103 089 103 36.10^{-16}$m Reduced (Proton) Compton Wavelength CODATA2018\n",
    "* $\\lambda_{wi}=2.897771955.10^{-3}$ m K (exact) Wien wavelength displacement law constant CODATA2018\n",
    "* $k_B=1.380 649.10^{-23}$ J K^-1  (exact) Boltzmann constant CODATA2018\n",
    "* $t_K=9600.60(1)$s non-Doppler Kotov Periodicity (1000 ppb)\n",
    "* Fermi coupling constant : $1.1663787.10^{-5}$    (GeV)-2          (51 ppb)\n",
    "* Fermi's ratio   F = Fermi's mass / m_e = 573007.3625        (25 ppb)\n",
    "* Fermi-Atiyah's ratio : $F_A = (2\\Gamma . 137)^{3/2}$ ≈ 573007.3652        (0.22 ppb)\n",
    "* Mass of the electron $m_e=9.1093837015.10^{-31}$ kg CODATA2018\n",
    "* Mass of the proton $m_p=1.672 621 923 69.10^{-27}$ kg CODATA2018\n",
    "* Magnetic Moment of the electron/Bohr magneton: $d_e$ ≈ 1.00115965218128 (2 × 10-4  ppb)\n",
    "* Magnetic moment anomaly $1159.65218091.10^{−6}$ ± 0.00000026 [Particle Data Group Leptons](http://pdg.lbl.gov/2019/tables/rpp2019-sum-leptons.pdf) M. Tanabashi et al. (Particle Data Group), Phys. Rev. D 98, 030001 (2018) and 2019\n",
    "\n",
    "* $G=6.67545372.10^{-11}$ $m^{3}.kg^{-1}.s^{-2}$ Newtonian constant of gravitation estimate by Francis M. Sanchez (Jan 2020)\n",
    "* Galaxies Doppler radius $R=c.f /\\Delta.f$=Universe Schwarzschild radius: $2G.M/c^2$\n",
    "* Hubble-Lemaître radius: $c/H_0$"
   ]
  },
  {
   "cell_type": "markdown",
   "metadata": {},
   "source": [
    "𝛢𝛼 𝛣𝛽 𝛤𝛾 𝛥𝛿 𝛦𝜀𝜖 𝛧𝜁 𝛨𝜂 𝛩𝜃𝜗 𝛪𝜄 𝛫𝜅 𝛬𝜆 𝛭𝜇 𝛮𝜈 𝛯𝜉 𝛰𝜊 𝛱𝜋 𝛲𝜌 𝛴𝜎 𝛵𝜏 𝛶𝜐 𝛷𝜙𝜑 𝛸𝜒 𝛹𝜓 𝛺𝜔"
   ]
  },
  {
   "cell_type": "code",
   "execution_count": 1,
   "metadata": {},
   "outputs": [],
   "source": [
    "from decimal import Decimal\n",
    "from scipy import constants\n",
    "import numpy as np\n",
    "import pandas as pd\n",
    "import sympy as sy\n",
    "import matplotlib.pyplot as plt"
   ]
  },
  {
   "cell_type": "markdown",
   "metadata": {},
   "source": [
    "### Sets and fixes the table of constants"
   ]
  },
  {
   "cell_type": "code",
   "execution_count": 2,
   "metadata": {},
   "outputs": [
    {
     "name": "stdout",
     "output_type": "stream",
     "text": [
      "299792458.0\n",
      "6.62607015e-34\n",
      "1.0545718176461565e-34\n",
      "137.0359990836958\n",
      "1.00115965218128\n",
      "1.202056903159594\n",
      "1.6449340668482264\n",
      "2.718281828459045\n",
      "0.5772156649015329\n",
      "25.178097241906\n",
      "573007.364905975\n",
      "3.8615926796089057e-13\n",
      "6.739167620022749e-19\n",
      "2.1030891033555923e-16\n",
      "1837.152646 1836.15267343 1838.68366173\n",
      "9.1093837015e-31 1.67262192369e-27 1.67492749804e-27\n",
      "1.000027430752471\n",
      "328337440236.48914\n",
      "8.434502897752472\n",
      "113.91063459990004\n",
      "1.380649e-23 2.72582 9600.591457\n",
      "0.0008400718024707187\n",
      "6.67545372e-11\n",
      "1.6163947113699356e-35\n",
      "2.176434e-08\n",
      "0.0010630824999999999\n",
      "2878184911147.8315\n",
      "1.1761048867371158e-24\n",
      "2.389015908333496e+22\n",
      "6.739167620022749e-19\n",
      "0.002897771955\n",
      "4.965114232061555\n",
      "2.4263102386830926e-12\n",
      "0.0013440173951173593\n",
      "157705.2404352378\n",
      "178450\n",
      "206.7682869\n",
      "3477.441701\n",
      "50796495.669951715\n",
      "5.294654020152911e-11\n",
      "2.817940326213412e-15\n",
      "1.7128941663434102e+26\n",
      "9.075773400070832e+86\n",
      "8.792233511611562e+52\n",
      "3.8499570411855345e+87\n",
      "1.4923654623153317e+26\n",
      "3814279.1047601975\n",
      "170141183460469231731687303715884105727\n",
      "808017424794512875886459904961710757005754368000000000\n",
      "4154781481226426191177580544000000\n",
      "2663849798329448283764291471531459318169741293570162121768960000000000000\n",
      "8.724905575508272139543742768E+292\n",
      "2.937238508642020695790261107E+365\n"
     ]
    }
   ],
   "source": [
    "c=constants.c\n",
    "print(c)\n",
    "h=constants.h\n",
    "print(h)\n",
    "hbar=constants.hbar\n",
    "print(hbar)\n",
    "a=137.0359990836958\n",
    "print(a)\n",
    "d_e=1.00115965218128\n",
    "print(d_e)\n",
    "zeta3=1.202056903159594\n",
    "print(zeta3)\n",
    "zeta2=np.pi**2/6\n",
    "print(zeta2)\n",
    "#print(c,h,hbar,a,d_e,xi3,xi2)\n",
    "e=np.e\n",
    "print(e)\n",
    "gamma=np.euler_gamma\n",
    "print(gamma)\n",
    "Gamma=(constants.fine_structure**-1*gamma)/np.pi\n",
    "print(Gamma)\n",
    "# F**(2/3)=2*137*Gamma\n",
    "# Fermi's mass given by \n",
    "F=(2*137*Gamma)**1.5\n",
    "print(F)\n",
    "lambdabare=constants.hbar/(constants.m_e*constants.c)\n",
    "print(lambdabare)\n",
    "lambdabar_F=lambdabare/F\n",
    "print(lambdabar_F)\n",
    "lambdabar_p=(constants.hbar/(constants.m_p*constants.c))\n",
    "print(lambdabar_p)\n",
    "H=1837.152646   # (0.06 ppb)\n",
    "p=1836.15267343 # 1836.1526734400013 #(0.06 ppb)\n",
    "n=1838.68366173 # 1838.6836617324586 #(0.5 ppb)\n",
    "print(H,p,n)\n",
    "m_e=constants.m_e\n",
    "m_p=constants.m_p\n",
    "m_n=constants.m_n\n",
    "print(m_e,m_p,m_n)\n",
    "beta=(H-p)**(-1)\n",
    "print(beta)\n",
    "a_w=F**2\n",
    "print(a_w)\n",
    "a_s=a_w/(2*np.pi*(p*H)**(3/2))\n",
    "print(a_s)\n",
    "j=(8*np.pi**2)/np.log(2)\n",
    "print(j)\n",
    "k_B=constants.Boltzmann\n",
    "T_cmb=2.72582\n",
    "t_k=9600.591457\n",
    "print(k_B,T_cmb,t_k)\n",
    "lambdabar_cmb=(constants.hbar*constants.c)/(k_B*T_cmb)\n",
    "print(lambdabar_cmb)\n",
    "# Planck's length CODATA2018 (hbar.G/c^3)^1/2 = 1.61639471.10^-35\n",
    "# l_P=1.616255*10**(-35) CODATA2018\n",
    "G_s=6.67545372*10**-11\n",
    "print(G_s)\n",
    "l_P=((constants.hbar*G_s)/constants.c**3)**0.5\n",
    "print(l_P)\n",
    "# Planck's mass\n",
    "m_P=2.176434*10**(-8)\n",
    "print(m_P)\n",
    "l_wi=1.0630825*10**-3\n",
    "print(l_wi)\n",
    "l_K=9600.591457*c\n",
    "print(l_K)\n",
    "ƛ_w=(constants.hbar/(constants.m_e*constants.c))/F**2\n",
    "print(ƛ_w)\n",
    "lambdabar_w=(constants.hbar/(constants.m_e*constants.c))/F**2\n",
    "P=lambdabare/l_P\n",
    "print(P)\n",
    "lambdabar_F=lambdabare/F\n",
    "print(lambdabar_F)\n",
    "#2.897 771 955... e-3 m.K - NIST CODATA 2018\n",
    "b=2.897771955*10**(-3)\n",
    "#lambdawien=(h*c)/(k_B*)\n",
    "# b=lambda/lambdawien\n",
    "print(b)\n",
    "𝜔=(h*c)/(k_B*b)\n",
    "print(𝜔)\n",
    "lambda_e=lambdabare*2*np.pi\n",
    "print(lambda_e)\n",
    "l_ph=(lambdabare*(np.pi*(a**2))**2)\n",
    "print(l_ph)\n",
    "aprime=137.1106292\n",
    "W=137**2*Gamma/3*d_e\n",
    "print(W)\n",
    "Z=178450\n",
    "print(Z)\n",
    "μ=206.7682869\n",
    "print(μ)\n",
    "τ=3477.441701\n",
    "print(τ)\n",
    "s_4=2*np.pi**2*a**3\n",
    "print(s_4)\n",
    "# Hydrogen Atom Radius\n",
    "r_H=(lambdabare*aprime)\n",
    "print(r_H)\n",
    "r_e=(lambdabare/a)\n",
    "print(r_e)\n",
    "R_N=2*constants.hbar**2/(G_s*((a)*constants.m_e)**3)\n",
    "print(R_N)\n",
    "R_GC=R_N**2/(2*l_P)\n",
    "print(R_GC)\n",
    "M_U=(m_P**4)/(constants.m_e*constants.m_p*constants.m_n)\n",
    "print(M_U)\n",
    "n_ph=(4*np.pi/3)*(lambdabare*2**128/(1+(137**2 + np.pi**2 + e**2)/(H*p) )/l_ph )**3\n",
    "print(n_ph)\n",
    "R1=(np.exp(((a*((1+1/p))*(((np.pi**2)/6)-1))+1)-gamma))*lambdabare\n",
    "print(R1)\n",
    "E_3=e**e**e\n",
    "print(E_3)\n",
    "#E_4=e**e**e**e\n",
    "Lucas=(2**127)-1\n",
    "print(Lucas)\n",
    "OM=2**46 * 3**20 * 5**9 * 7**6 * 11**2 * 13**3 * 17 * 19 * 23 * 29 * 31 * 41 * 47 * 59 * 71 #  Monster Sporadic Group Order 808017424794512875886459904961710757005754368000000000\n",
    "print(OM)\n",
    "OB=2**41 * 3**13 * 5**6 * 7**2 * 11 * 13 * 17 * 19 * 23 * 31 * 47 # Baby Monster Sporadic Group Order 4154781481226426191177580544000000\n",
    "print(OB)\n",
    "OP=2**8 * 3**7 * 5**6 * 7 * 11 * 31 * 37 * 67 * 2**9 * 3**4 * 5 * 7**3 * 11 * 19 * 31 * 2**14 * 3**3 * 5**3 * 7 * 13 * 29 * 2**21 * 3**3 * 5 * 7 * 11**3 * 23 * 29 * 31 * 37 * 43 * 2**7 * 3**5 * 5 * 17 * 19 * 2**3 * 3 * 5 * 7 * 11 * 19 #  Pariah Sporadic Group Order\n",
    "print(OP)\n",
    "xHappy = Decimal(674.5210288)\n",
    "Happy=np.exp(xHappy) # Happy Family Sporadic Group Order 8.7249055755086e292\n",
    "print(Happy)\n",
    "xTSSPG=Decimal(841.5210288)  #  exp(841.2869278)\n",
    "TSSPG=np.exp(xTSSPG)  # 26 Sporadic Group Order: 2.3241836455143e+365\n",
    "print(TSSPG)"
   ]
  },
  {
   "cell_type": "code",
   "execution_count": 3,
   "metadata": {},
   "outputs": [],
   "source": [
    "# URL= 'https://github.com/laguer/hubble-table/hubble-table.csv'\n",
    "URL= 'https://raw.githubusercontent.com/LaGuer/hubble-table/master/hubble-table.csv'\n",
    "from urllib.request import urlretrieve\n",
    "urlretrieve (URL, 'hubble-table.csv')\n",
    "df = pd.read_csv(\"hubble-table.csv\", dtype = {\"Gly\" : \"float64\",\"m\" : \"float64\"}, skiprows = [50,51], sep = \",\")"
   ]
  },
  {
   "cell_type": "code",
   "execution_count": 4,
   "metadata": {},
   "outputs": [],
   "source": [
    "URL1= 'https://raw.githubusercontent.com/LaGuer/hubble-table/master/hubble-table1.csv'\n",
    "from urllib.request import urlretrieve\n",
    "urlretrieve (URL1, 'hubble-table1.csv')\n",
    "df1 = pd.read_csv(\"hubble-table1.csv\", dtype = {\"Gly\" : \"float64\",\"m\" : \"float64\"}, skiprows = [50,51], sep = \",\")"
   ]
  },
  {
   "cell_type": "code",
   "execution_count": 5,
   "metadata": {},
   "outputs": [],
   "source": [
    "URL2= 'https://raw.githubusercontent.com/LaGuer/hubble-table/master/hubble-table2.csv'\n",
    "from urllib.request import urlretrieve\n",
    "urlretrieve (URL2, 'hubble-table2.csv')\n",
    "df2 = pd.read_csv(\"hubble-table2.csv\", dtype = {\"gly\" : \"float64\",\"m\" : \"float64\"}, skiprows = [26,27,28,29,33], sep = \",\")"
   ]
  },
  {
   "cell_type": "code",
   "execution_count": 6,
   "metadata": {},
   "outputs": [],
   "source": [
    "# URL= 'https://github.com/laguer/hubble-table/hubble-table.csv'\n",
    "URL3= 'https://raw.githubusercontent.com/LaGuer/hubble-table/master/hubble-table3.csv'\n",
    "from urllib.request import urlretrieve\n",
    "urlretrieve (URL3, 'hubble-table3.csv')\n",
    "df3 = pd.read_csv(\"hubble-table3.csv\", dtype = {\"Gly\" : \"float64\",\"m\" : \"float64\"}, skiprows = [50,51], sep = \",\")"
   ]
  },
  {
   "cell_type": "code",
   "execution_count": 7,
   "metadata": {},
   "outputs": [
    {
     "data": {
      "text/plain": [
       "('constant-table.csv', <http.client.HTTPMessage at 0x7f72e8644e10>)"
      ]
     },
     "execution_count": 7,
     "metadata": {},
     "output_type": "execute_result"
    }
   ],
   "source": [
    "# URL= 'https://github.com/laguer/hubble-table/hubble-table.csv'\n",
    "URL4= 'https://raw.githubusercontent.com/LaGuer/hubble-table/master/constant-table.csv'\n",
    "from urllib.request import urlretrieve\n",
    "urlretrieve (URL4, 'constant-table.csv')\n",
    "#df4 = pd.read_csv(\"constant-table.csv\", dtype = {\"Gly\" : \"float64\",\"m\" : \"float64\"}, skiprows = [50,51], sep = \",\")"
   ]
  },
  {
   "cell_type": "code",
   "execution_count": 8,
   "metadata": {},
   "outputs": [
    {
     "data": {
      "text/plain": [
       "13.938504169672099"
      ]
     },
     "execution_count": 8,
     "metadata": {},
     "output_type": "execute_result"
    }
   ],
   "source": [
    "lambda_e*(OM)**(7/10)/(constants.light_year*10**9)"
   ]
  },
  {
   "cell_type": "markdown",
   "metadata": {},
   "source": [
    "# Table 1"
   ]
  },
  {
   "cell_type": "code",
   "execution_count": 9,
   "metadata": {},
   "outputs": [
    {
     "data": {
      "text/html": [
       "<div>\n",
       "<style scoped>\n",
       "    .dataframe tbody tr th:only-of-type {\n",
       "        vertical-align: middle;\n",
       "    }\n",
       "\n",
       "    .dataframe tbody tr th {\n",
       "        vertical-align: top;\n",
       "    }\n",
       "\n",
       "    .dataframe thead th {\n",
       "        text-align: right;\n",
       "    }\n",
       "</style>\n",
       "<table border=\"1\" class=\"dataframe\">\n",
       "  <thead>\n",
       "    <tr style=\"text-align: right;\">\n",
       "      <th></th>\n",
       "      <th>LaTeXFormula</th>\n",
       "      <th>PlainFormula</th>\n",
       "      <th>gly</th>\n",
       "      <th>m</th>\n",
       "    </tr>\n",
       "  </thead>\n",
       "  <tbody>\n",
       "    <tr>\n",
       "      <th>0</th>\n",
       "      <td>$$2\\hbar^2/(G.m_e.m_p.m_n)$$</td>\n",
       "      <td>2*hbar**2/(G_s*m_e*m_p*m_n)</td>\n",
       "      <td>1.380048e+10</td>\n",
       "      <td>1.305626e+26</td>\n",
       "    </tr>\n",
       "    <tr>\n",
       "      <th>1</th>\n",
       "      <td>$$2\\hbar^2/(G.m_e.m_p^2)$$</td>\n",
       "      <td>2*hbar**2/(G_s*m_e*m_p**2)</td>\n",
       "      <td>1.380048e+10</td>\n",
       "      <td>1.305626e+26</td>\n",
       "    </tr>\n",
       "    <tr>\n",
       "      <th>2</th>\n",
       "      <td>$$ƛ_e g(6) and g(6)=𝑒𝑥𝑝(2^{6+1/2/6})$$</td>\n",
       "      <td>lambdabare*(np.exp(2**(6+(1/2)))/6)</td>\n",
       "      <td>1.382101e+10</td>\n",
       "      <td>1.307569e+26</td>\n",
       "    </tr>\n",
       "    <tr>\n",
       "      <th>3</th>\n",
       "      <td>$$ƛ_e s_4^5$$</td>\n",
       "      <td>lambdabare*s_4**5</td>\n",
       "      <td>1.380418e+10</td>\n",
       "      <td>1.305976e+26</td>\n",
       "    </tr>\n",
       "    <tr>\n",
       "      <th>4</th>\n",
       "      <td>$$ƛ_p(WZ)^4$$</td>\n",
       "      <td>lambdabar_p*(W*Z)**4</td>\n",
       "      <td>1.394388e+10</td>\n",
       "      <td>1.319193e+26</td>\n",
       "    </tr>\n",
       "    <tr>\n",
       "      <th>5</th>\n",
       "      <td>$$2^{128}.ƛ_e$$</td>\n",
       "      <td>2**128*lambdabare</td>\n",
       "      <td>1.388933e+10</td>\n",
       "      <td>1.314032e+26</td>\n",
       "    </tr>\n",
       "    <tr>\n",
       "      <th>6</th>\n",
       "      <td>$$ƛ_e(τ/μ)^{32}/ω$$</td>\n",
       "      <td>lambdabare*(τ/μ)**32/ω</td>\n",
       "      <td>1.379565e+10</td>\n",
       "      <td>1.305170e+26</td>\n",
       "    </tr>\n",
       "    <tr>\n",
       "      <th>7</th>\n",
       "      <td>$$2ƛ_e a_s^2 W^7$$</td>\n",
       "      <td>2*lambdabare*a_s**2*W**7</td>\n",
       "      <td>1.409009e+10</td>\n",
       "      <td>1.333025e+26</td>\n",
       "    </tr>\n",
       "    <tr>\n",
       "      <th>8</th>\n",
       "      <td>$$ƛ_e(FZ)^{7/2}$$</td>\n",
       "      <td>lambdabare*(F*Z)**(7/2)</td>\n",
       "      <td>1.395438e+10</td>\n",
       "      <td>1.320186e+26</td>\n",
       "    </tr>\n",
       "    <tr>\n",
       "      <th>9</th>\n",
       "      <td>$$\\lambda_e(OM)^{7/10}$$</td>\n",
       "      <td>lambda_e*(OM)**(7/10)</td>\n",
       "      <td>1.393850e+10</td>\n",
       "      <td>1.318684e+26</td>\n",
       "    </tr>\n",
       "    <tr>\n",
       "      <th>10</th>\n",
       "      <td>$$R_N (OM.OB/n_{ph})^2$$</td>\n",
       "      <td>R_N*(OM*OB/n_ph)**2</td>\n",
       "      <td>1.376677e+10</td>\n",
       "      <td>1.302437e+26</td>\n",
       "    </tr>\n",
       "    <tr>\n",
       "      <th>11</th>\n",
       "      <td>$$R_N (\\pi.OM.OB/3)^2 /exp(e^6)$$</td>\n",
       "      <td>R_N*(np.pi*OM*OB /3)**2/(np.exp(e**6))</td>\n",
       "      <td>1.389639e+10</td>\n",
       "      <td>1.314700e+26</td>\n",
       "    </tr>\n",
       "    <tr>\n",
       "      <th>12</th>\n",
       "      <td>$$ƛ_e 2^{128} / d_e^2 (H /p )^6$$</td>\n",
       "      <td>lambdabare*2**128/d_e**2 *(H /p )**6</td>\n",
       "      <td>1.390251e+10</td>\n",
       "      <td>1.315279e+26</td>\n",
       "    </tr>\n",
       "    <tr>\n",
       "      <th>13</th>\n",
       "      <td>$$((a/\\sqrt(137)(4\\pi.F)^2)ƛ_e^4l_{ph}^3(ƛ_{CMB}/l_P)^8)^{1/7}$$</td>\n",
       "      <td>((a/(np.sqrt(137)*(4*np.pi*F)**2))*(lambdabare**4)*(l_ph**3)*(lambdabar_cmb/l_P)**8)**(1/7)</td>\n",
       "      <td>1.380699e+10</td>\n",
       "      <td>1.306242e+26</td>\n",
       "    </tr>\n",
       "    <tr>\n",
       "      <th>14</th>\n",
       "      <td>$$4P^3l_{Wi}ƛ_e/R_N$$</td>\n",
       "      <td>(4*P**3*l_wi*lambdabare)/R_N</td>\n",
       "      <td>1.381641e+10</td>\n",
       "      <td>1.307134e+26</td>\n",
       "    </tr>\n",
       "    <tr>\n",
       "      <th>15</th>\n",
       "      <td>$$R_{a}=ƛ_e.(2.\\pi^2.a^3)^5$$</td>\n",
       "      <td>((constants.pi**2*(2*(1/constants.fine_structure)**3))**5)*(constants.hbar/(constants.m_e*const...</td>\n",
       "      <td>1.380418e+10</td>\n",
       "      <td>1.305976e+26</td>\n",
       "    </tr>\n",
       "    <tr>\n",
       "      <th>16</th>\n",
       "      <td>$$ƛ_FP^2e/8$$</td>\n",
       "      <td>lambdabar_F*P**2*e/8</td>\n",
       "      <td>1.381415e+10</td>\n",
       "      <td>1.306919e+26</td>\n",
       "    </tr>\n",
       "    <tr>\n",
       "      <th>17</th>\n",
       "      <td>$$ƛ_FP^3/p^7$$</td>\n",
       "      <td>lambdabar_F*P**3/p**7</td>\n",
       "      <td>1.380312e+10</td>\n",
       "      <td>1.305876e+26</td>\n",
       "    </tr>\n",
       "    <tr>\n",
       "      <th>18</th>\n",
       "      <td>$$R_{Rydberg}=\\frac{(ƛ_{Ryd}.n^4)^2}{ƛ_p}$$</td>\n",
       "      <td>((lambdabarRyd*n**4)**2)/lambdabar_p</td>\n",
       "      <td>1.381037e+10</td>\n",
       "      <td>1.306562e+26</td>\n",
       "    </tr>\n",
       "    <tr>\n",
       "      <th>19</th>\n",
       "      <td>$$R_{ƛ_w}=ƛ_w.(\\frac{2^{70}.\\gamma.n^3}{\\Gamma^4})^2$$</td>\n",
       "      <td>(((2**70*np.euler_gamma*n**3)/Gamma**4)**2)*ƛ_w</td>\n",
       "      <td>1.381198e+10</td>\n",
       "      <td>1.306714e+26</td>\n",
       "    </tr>\n",
       "    <tr>\n",
       "      <th>20</th>\n",
       "      <td>$$R_{kotov-fermi}=\\frac{2.(c.t_k)^2/ƛ_e}{F^2}$$</td>\n",
       "      <td>2*(c*t_k)**2/lambdabare/F**2</td>\n",
       "      <td>1.381198e+10</td>\n",
       "      <td>1.306714e+26</td>\n",
       "    </tr>\n",
       "    <tr>\n",
       "      <th>21</th>\n",
       "      <td>$$R_N (R_{GC} /l_P )^3 /\\Pi^{26}$$</td>\n",
       "      <td>R_N*(R_GC/l_P)**3/TSSPG</td>\n",
       "      <td>1.379000e+10</td>\n",
       "      <td>1.300000e+26</td>\n",
       "    </tr>\n",
       "    <tr>\n",
       "      <th>22</th>\n",
       "      <td>$$ƛ_Fe(Pe^e)^2/\\sqrt(pn)$$</td>\n",
       "      <td>lambdabar_F*e*(P*e**e)**2/np.sqrt(p*n)</td>\n",
       "      <td>1.381261e+10</td>\n",
       "      <td>1.306774e+26</td>\n",
       "    </tr>\n",
       "    <tr>\n",
       "      <th>23</th>\n",
       "      <td>$$(ƛ_e^2/l_P)(j/16)^16( e^e )^2.d_e\\sqrt(2)$$</td>\n",
       "      <td>(lambdabare**2/l_P)(j/16)**16( e**e )**2*d_e*np.sqrt(2)</td>\n",
       "      <td>1.381203e+10</td>\n",
       "      <td>1.306715e+26</td>\n",
       "    </tr>\n",
       "    <tr>\n",
       "      <th>24</th>\n",
       "      <td>$$3^{1/137}R_{GC}^{2/3}r_e^{1/3} /l_K$$</td>\n",
       "      <td>3**(1/137)*R_GC**(2/3)*(lambdabare/a)**(4/3)/l_K/(constants.light_year*10**9)</td>\n",
       "      <td>1.381245e+10</td>\n",
       "      <td>1.306759e+26</td>\n",
       "    </tr>\n",
       "    <tr>\n",
       "      <th>25</th>\n",
       "      <td>$$ƛ_e2^{128}/(1+(137^2 + \\pi^2 + e^2 )/pH)$$</td>\n",
       "      <td>lambdabare*2**128/(1+(137**2 + np.pi**2 + e**2)/(H*p) )</td>\n",
       "      <td>1.381241e+10</td>\n",
       "      <td>1.306754e+26</td>\n",
       "    </tr>\n",
       "  </tbody>\n",
       "</table>\n",
       "</div>"
      ],
      "text/plain": [
       "                                                        LaTeXFormula  \\\n",
       "0                                       $$2\\hbar^2/(G.m_e.m_p.m_n)$$   \n",
       "1                                         $$2\\hbar^2/(G.m_e.m_p^2)$$   \n",
       "2                             $$ƛ_e g(6) and g(6)=𝑒𝑥𝑝(2^{6+1/2/6})$$   \n",
       "3                                                      $$ƛ_e s_4^5$$   \n",
       "4                                                      $$ƛ_p(WZ)^4$$   \n",
       "5                                                    $$2^{128}.ƛ_e$$   \n",
       "6                                                $$ƛ_e(τ/μ)^{32}/ω$$   \n",
       "7                                                 $$2ƛ_e a_s^2 W^7$$   \n",
       "8                                                  $$ƛ_e(FZ)^{7/2}$$   \n",
       "9                                           $$\\lambda_e(OM)^{7/10}$$   \n",
       "10                                          $$R_N (OM.OB/n_{ph})^2$$   \n",
       "11                                 $$R_N (\\pi.OM.OB/3)^2 /exp(e^6)$$   \n",
       "12                                 $$ƛ_e 2^{128} / d_e^2 (H /p )^6$$   \n",
       "13  $$((a/\\sqrt(137)(4\\pi.F)^2)ƛ_e^4l_{ph}^3(ƛ_{CMB}/l_P)^8)^{1/7}$$   \n",
       "14                                             $$4P^3l_{Wi}ƛ_e/R_N$$   \n",
       "15                                     $$R_{a}=ƛ_e.(2.\\pi^2.a^3)^5$$   \n",
       "16                                                     $$ƛ_FP^2e/8$$   \n",
       "17                                                    $$ƛ_FP^3/p^7$$   \n",
       "18                       $$R_{Rydberg}=\\frac{(ƛ_{Ryd}.n^4)^2}{ƛ_p}$$   \n",
       "19            $$R_{ƛ_w}=ƛ_w.(\\frac{2^{70}.\\gamma.n^3}{\\Gamma^4})^2$$   \n",
       "20                   $$R_{kotov-fermi}=\\frac{2.(c.t_k)^2/ƛ_e}{F^2}$$   \n",
       "21                                $$R_N (R_{GC} /l_P )^3 /\\Pi^{26}$$   \n",
       "22                                        $$ƛ_Fe(Pe^e)^2/\\sqrt(pn)$$   \n",
       "23                     $$(ƛ_e^2/l_P)(j/16)^16( e^e )^2.d_e\\sqrt(2)$$   \n",
       "24                           $$3^{1/137}R_{GC}^{2/3}r_e^{1/3} /l_K$$   \n",
       "25                      $$ƛ_e2^{128}/(1+(137^2 + \\pi^2 + e^2 )/pH)$$   \n",
       "\n",
       "                                                                                           PlainFormula  \\\n",
       "0                                                                           2*hbar**2/(G_s*m_e*m_p*m_n)   \n",
       "1                                                                            2*hbar**2/(G_s*m_e*m_p**2)   \n",
       "2                                                                   lambdabare*(np.exp(2**(6+(1/2)))/6)   \n",
       "3                                                                                     lambdabare*s_4**5   \n",
       "4                                                                                  lambdabar_p*(W*Z)**4   \n",
       "5                                                                                     2**128*lambdabare   \n",
       "6                                                                                lambdabare*(τ/μ)**32/ω   \n",
       "7                                                                              2*lambdabare*a_s**2*W**7   \n",
       "8                                                                               lambdabare*(F*Z)**(7/2)   \n",
       "9                                                                                 lambda_e*(OM)**(7/10)   \n",
       "10                                                                                  R_N*(OM*OB/n_ph)**2   \n",
       "11                                                               R_N*(np.pi*OM*OB /3)**2/(np.exp(e**6))   \n",
       "12                                                                 lambdabare*2**128/d_e**2 *(H /p )**6   \n",
       "13          ((a/(np.sqrt(137)*(4*np.pi*F)**2))*(lambdabare**4)*(l_ph**3)*(lambdabar_cmb/l_P)**8)**(1/7)   \n",
       "14                                                                         (4*P**3*l_wi*lambdabare)/R_N   \n",
       "15   ((constants.pi**2*(2*(1/constants.fine_structure)**3))**5)*(constants.hbar/(constants.m_e*const...   \n",
       "16                                                                                 lambdabar_F*P**2*e/8   \n",
       "17                                                                                lambdabar_F*P**3/p**7   \n",
       "18                                                                 ((lambdabarRyd*n**4)**2)/lambdabar_p   \n",
       "19                                                      (((2**70*np.euler_gamma*n**3)/Gamma**4)**2)*ƛ_w   \n",
       "20                                                                         2*(c*t_k)**2/lambdabare/F**2   \n",
       "21                                                                              R_N*(R_GC/l_P)**3/TSSPG   \n",
       "22                                                               lambdabar_F*e*(P*e**e)**2/np.sqrt(p*n)   \n",
       "23                                              (lambdabare**2/l_P)(j/16)**16( e**e )**2*d_e*np.sqrt(2)   \n",
       "24                        3**(1/137)*R_GC**(2/3)*(lambdabare/a)**(4/3)/l_K/(constants.light_year*10**9)   \n",
       "25                                              lambdabare*2**128/(1+(137**2 + np.pi**2 + e**2)/(H*p) )   \n",
       "\n",
       "             gly             m  \n",
       "0   1.380048e+10  1.305626e+26  \n",
       "1   1.380048e+10  1.305626e+26  \n",
       "2   1.382101e+10  1.307569e+26  \n",
       "3   1.380418e+10  1.305976e+26  \n",
       "4   1.394388e+10  1.319193e+26  \n",
       "5   1.388933e+10  1.314032e+26  \n",
       "6   1.379565e+10  1.305170e+26  \n",
       "7   1.409009e+10  1.333025e+26  \n",
       "8   1.395438e+10  1.320186e+26  \n",
       "9   1.393850e+10  1.318684e+26  \n",
       "10  1.376677e+10  1.302437e+26  \n",
       "11  1.389639e+10  1.314700e+26  \n",
       "12  1.390251e+10  1.315279e+26  \n",
       "13  1.380699e+10  1.306242e+26  \n",
       "14  1.381641e+10  1.307134e+26  \n",
       "15  1.380418e+10  1.305976e+26  \n",
       "16  1.381415e+10  1.306919e+26  \n",
       "17  1.380312e+10  1.305876e+26  \n",
       "18  1.381037e+10  1.306562e+26  \n",
       "19  1.381198e+10  1.306714e+26  \n",
       "20  1.381198e+10  1.306714e+26  \n",
       "21  1.379000e+10  1.300000e+26  \n",
       "22  1.381261e+10  1.306774e+26  \n",
       "23  1.381203e+10  1.306715e+26  \n",
       "24  1.381245e+10  1.306759e+26  \n",
       "25  1.381241e+10  1.306754e+26  "
      ]
     },
     "execution_count": 9,
     "metadata": {},
     "output_type": "execute_result"
    }
   ],
   "source": [
    "display = pd.options.display\n",
    "display.max_columns = (None)\n",
    "display.max_rows = 40\n",
    "display.max_colwidth = 100\n",
    "display.width = None\n",
    "\n",
    "#pd.set_option('display.width', 20)\n",
    "#pd.set_option('display.max_colwidth', None)\n",
    "df2.iloc[:,[0,1,2,3]]\n",
    "#print(df)"
   ]
  },
  {
   "cell_type": "markdown",
   "metadata": {},
   "source": [
    "# Table 2"
   ]
  },
  {
   "cell_type": "code",
   "execution_count": 11,
   "metadata": {},
   "outputs": [
    {
     "data": {
      "text/html": [
       "<div>\n",
       "<style scoped>\n",
       "    .dataframe tbody tr th:only-of-type {\n",
       "        vertical-align: middle;\n",
       "    }\n",
       "\n",
       "    .dataframe tbody tr th {\n",
       "        vertical-align: top;\n",
       "    }\n",
       "\n",
       "    .dataframe thead th {\n",
       "        text-align: right;\n",
       "    }\n",
       "</style>\n",
       "<table border=\"1\" class=\"dataframe\">\n",
       "  <thead>\n",
       "    <tr style=\"text-align: right;\">\n",
       "      <th></th>\n",
       "      <th>LaTeXFormula</th>\n",
       "      <th>PlainFormula</th>\n",
       "      <th>gly</th>\n",
       "      <th>m</th>\n",
       "    </tr>\n",
       "  </thead>\n",
       "  <tbody>\n",
       "    <tr>\n",
       "      <th>0</th>\n",
       "      <td>$$ƛ_Fe(Pe^e)^2/\\sqrt(pn)$$</td>\n",
       "      <td>lambdabar_F*e*(P*e**e)**2/np.sqrt(p*n)</td>\n",
       "      <td>1.381261e+10</td>\n",
       "      <td>1.306774e+26</td>\n",
       "    </tr>\n",
       "    <tr>\n",
       "      <th>1</th>\n",
       "      <td>$$((a/\\sqrt(137)(4\\pi F)^2)ƛ_e^4 l_{ph}^3(\\lambda_{CMB}/l_P)^8 )^{1/7}$$</td>\n",
       "      <td>((a/(np.sqrt(137)*(4*np.pi*F)**2))*(lambdabare**4)*(l_ph**3)*(lambdabar_cmb/l_P)**8)**(1/7)</td>\n",
       "      <td>1.380699e+10</td>\n",
       "      <td>1.306715e+26</td>\n",
       "    </tr>\n",
       "    <tr>\n",
       "      <th>2</th>\n",
       "      <td>$$(e^{e^{e}})^{\\sqrt a}).(a-136))^{1/2}ƛ_e$$</td>\n",
       "      <td>((e**e**e)**(np.sqrt(a))*(a-136))**(1/2)*lambdabare</td>\n",
       "      <td>1.381372e+10</td>\n",
       "      <td>1.306879e+26</td>\n",
       "    </tr>\n",
       "    <tr>\n",
       "      <th>3</th>\n",
       "      <td>$$ƛ_e(a^a)^{5/38}$$</td>\n",
       "      <td>lambdabare*(a**a)**(5/38)</td>\n",
       "      <td>1.381084e+10</td>\n",
       "      <td>1.306606e+26</td>\n",
       "    </tr>\n",
       "    <tr>\n",
       "      <th>4</th>\n",
       "      <td>$$(ƛ_e^2/l_P)(j/16)^{16}( e^e )^2.d_e\\sqrt(2)$$</td>\n",
       "      <td>(lambdabare**2/l_P)(j/16)**16( e**e )**2*d_e*np.sqrt(2)</td>\n",
       "      <td>1.381203e+10</td>\n",
       "      <td>1.306715e+26</td>\n",
       "    </tr>\n",
       "    <tr>\n",
       "      <th>5</th>\n",
       "      <td>$$R1(8/\\sqrt(3a))^{1/7}$$</td>\n",
       "      <td>R1*(8/np.sqrt(3*a))**(1/7)</td>\n",
       "      <td>1.381186e+10</td>\n",
       "      <td>1.306703e+26</td>\n",
       "    </tr>\n",
       "    <tr>\n",
       "      <th>6</th>\n",
       "      <td>$$3^{1/137}R_{GC}^{2/3}r_e^{1/3} /l_K$$</td>\n",
       "      <td>3**(1/137)*R_GC**(2/3)*(lambdabare/a)**(4/3)/l_K/(constants.light_year*10**9)</td>\n",
       "      <td>1.381245e+10</td>\n",
       "      <td>1.306759e+26</td>\n",
       "    </tr>\n",
       "    <tr>\n",
       "      <th>7</th>\n",
       "      <td>$$ƛ_e.exp((e^{4e-1/a}-ln2(P^4/a^3 ))/2)^{1/2}$$</td>\n",
       "      <td>np.exp(np.sqrt((e**(4*e-1/a)-np.log(P**4/a**3)**2)/2))*lambdabare</td>\n",
       "      <td>1.381169e+10</td>\n",
       "      <td>1.306719e+26</td>\n",
       "    </tr>\n",
       "    <tr>\n",
       "      <th>8</th>\n",
       "      <td>$$ƛ_e(3j^j/(2H)^{1/6} $$</td>\n",
       "      <td>lambdabare*(3*j**j/(2*H))**(1/6)</td>\n",
       "      <td>1.381199e+10</td>\n",
       "      <td>1.306715e+26</td>\n",
       "    </tr>\n",
       "    <tr>\n",
       "      <th>9</th>\n",
       "      <td>$$2\\beta ƛ_ej^{17}(4\\pi)^2\\sqrt(137)$$</td>\n",
       "      <td>2*beta*lambdabare*(j**17)*(4*np.pi)**2*np.sqrt(137)</td>\n",
       "      <td>1.381199e+10</td>\n",
       "      <td>1.306715e+26</td>\n",
       "    </tr>\n",
       "    <tr>\n",
       "      <th>10</th>\n",
       "      <td>$$(\\beta FP^{3/2}(n/p)^{7/2}/2\\pi).ƛ_e$$</td>\n",
       "      <td>beta*F*P**(3/2)*(n/p)**(7/2)/(2*np.pi)*lambdabare</td>\n",
       "      <td>1.381199e+10</td>\n",
       "      <td>1.306716e+26</td>\n",
       "    </tr>\n",
       "    <tr>\n",
       "      <th>11</th>\n",
       "      <td>$$ƛ_e 2^{128}(1 - (137^2 + \\pi^2 + e^2 )/pH)$$</td>\n",
       "      <td>lambdabare*2**128/(1+(137**2 + np.pi**2 + e**2)/(H*p) )</td>\n",
       "      <td>1.381241e+10</td>\n",
       "      <td>1.306754e+26</td>\n",
       "    </tr>\n",
       "    <tr>\n",
       "      <th>12</th>\n",
       "      <td>$$(\\Pi_{26}^2 ( ƛ_e /j)^{18} R_N /2)^{1/19}$$</td>\n",
       "      <td>(TSSPG**2*(lambdabare/j)**18*R_N/2)**(1/19)</td>\n",
       "      <td>1.381400e+10</td>\n",
       "      <td>1.306000e+26</td>\n",
       "    </tr>\n",
       "    <tr>\n",
       "      <th>13</th>\n",
       "      <td>$$ƛ_e \\Pi_{26}^{1/9}/(j+e)$$</td>\n",
       "      <td>lambdabare*TSSPG**(1/9)/(j+e)</td>\n",
       "      <td>1.381300e+10</td>\n",
       "      <td>1.306000e+26</td>\n",
       "    </tr>\n",
       "    <tr>\n",
       "      <th>14</th>\n",
       "      <td>$$2(l_K /F)^2 /ƛ_e$$</td>\n",
       "      <td>2*(l_K/F)**2/lambdabare</td>\n",
       "      <td>1.381198e+10</td>\n",
       "      <td>1.306714e+26</td>\n",
       "    </tr>\n",
       "  </tbody>\n",
       "</table>\n",
       "</div>"
      ],
      "text/plain": [
       "                                                                LaTeXFormula  \\\n",
       "0                                                 $$ƛ_Fe(Pe^e)^2/\\sqrt(pn)$$   \n",
       "1   $$((a/\\sqrt(137)(4\\pi F)^2)ƛ_e^4 l_{ph}^3(\\lambda_{CMB}/l_P)^8 )^{1/7}$$   \n",
       "2                               $$(e^{e^{e}})^{\\sqrt a}).(a-136))^{1/2}ƛ_e$$   \n",
       "3                                                        $$ƛ_e(a^a)^{5/38}$$   \n",
       "4                            $$(ƛ_e^2/l_P)(j/16)^{16}( e^e )^2.d_e\\sqrt(2)$$   \n",
       "5                                                  $$R1(8/\\sqrt(3a))^{1/7}$$   \n",
       "6                                    $$3^{1/137}R_{GC}^{2/3}r_e^{1/3} /l_K$$   \n",
       "7                            $$ƛ_e.exp((e^{4e-1/a}-ln2(P^4/a^3 ))/2)^{1/2}$$   \n",
       "8                                                   $$ƛ_e(3j^j/(2H)^{1/6} $$   \n",
       "9                                     $$2\\beta ƛ_ej^{17}(4\\pi)^2\\sqrt(137)$$   \n",
       "10                                  $$(\\beta FP^{3/2}(n/p)^{7/2}/2\\pi).ƛ_e$$   \n",
       "11                            $$ƛ_e 2^{128}(1 - (137^2 + \\pi^2 + e^2 )/pH)$$   \n",
       "12                             $$(\\Pi_{26}^2 ( ƛ_e /j)^{18} R_N /2)^{1/19}$$   \n",
       "13                                              $$ƛ_e \\Pi_{26}^{1/9}/(j+e)$$   \n",
       "14                                                      $$2(l_K /F)^2 /ƛ_e$$   \n",
       "\n",
       "                                                                                    PlainFormula  \\\n",
       "0                                                         lambdabar_F*e*(P*e**e)**2/np.sqrt(p*n)   \n",
       "1    ((a/(np.sqrt(137)*(4*np.pi*F)**2))*(lambdabare**4)*(l_ph**3)*(lambdabar_cmb/l_P)**8)**(1/7)   \n",
       "2                                            ((e**e**e)**(np.sqrt(a))*(a-136))**(1/2)*lambdabare   \n",
       "3                                                                      lambdabare*(a**a)**(5/38)   \n",
       "4                                        (lambdabare**2/l_P)(j/16)**16( e**e )**2*d_e*np.sqrt(2)   \n",
       "5                                                                     R1*(8/np.sqrt(3*a))**(1/7)   \n",
       "6                  3**(1/137)*R_GC**(2/3)*(lambdabare/a)**(4/3)/l_K/(constants.light_year*10**9)   \n",
       "7                              np.exp(np.sqrt((e**(4*e-1/a)-np.log(P**4/a**3)**2)/2))*lambdabare   \n",
       "8                                                               lambdabare*(3*j**j/(2*H))**(1/6)   \n",
       "9                                            2*beta*lambdabare*(j**17)*(4*np.pi)**2*np.sqrt(137)   \n",
       "10                                             beta*F*P**(3/2)*(n/p)**(7/2)/(2*np.pi)*lambdabare   \n",
       "11                                       lambdabare*2**128/(1+(137**2 + np.pi**2 + e**2)/(H*p) )   \n",
       "12                                                   (TSSPG**2*(lambdabare/j)**18*R_N/2)**(1/19)   \n",
       "13                                                                 lambdabare*TSSPG**(1/9)/(j+e)   \n",
       "14                                                                       2*(l_K/F)**2/lambdabare   \n",
       "\n",
       "             gly             m  \n",
       "0   1.381261e+10  1.306774e+26  \n",
       "1   1.380699e+10  1.306715e+26  \n",
       "2   1.381372e+10  1.306879e+26  \n",
       "3   1.381084e+10  1.306606e+26  \n",
       "4   1.381203e+10  1.306715e+26  \n",
       "5   1.381186e+10  1.306703e+26  \n",
       "6   1.381245e+10  1.306759e+26  \n",
       "7   1.381169e+10  1.306719e+26  \n",
       "8   1.381199e+10  1.306715e+26  \n",
       "9   1.381199e+10  1.306715e+26  \n",
       "10  1.381199e+10  1.306716e+26  \n",
       "11  1.381241e+10  1.306754e+26  \n",
       "12  1.381400e+10  1.306000e+26  \n",
       "13  1.381300e+10  1.306000e+26  \n",
       "14  1.381198e+10  1.306714e+26  "
      ]
     },
     "execution_count": 11,
     "metadata": {},
     "output_type": "execute_result"
    }
   ],
   "source": [
    "df1 = pd.read_csv(\"hubble-table1.csv\", dtype = {\"gly\" : \"float64\",\"m\" : \"float64\"}, skiprows = [17], sep = \",\")\n",
    "#df1.head (20)\n",
    "df1.iloc[:,[0,1,2,3]]"
   ]
  },
  {
   "cell_type": "code",
   "execution_count": 68,
   "metadata": {},
   "outputs": [
    {
     "data": {
      "text/plain": [
       "Decimal('2.937238508642020695790261107E+365')"
      ]
     },
     "execution_count": 68,
     "metadata": {},
     "output_type": "execute_result"
    }
   ],
   "source": [
    "TSSPG"
   ]
  },
  {
   "cell_type": "code",
   "execution_count": 70,
   "metadata": {},
   "outputs": [
    {
     "name": "stdout",
     "output_type": "stream",
     "text": [
      "Infinity\n"
     ]
    }
   ],
   "source": [
    "R13 = Decimal(lambdabare*2.937238508642020695790261107e+365**(1/9)/(j+e))\n",
    "#lambdabare*2.937238508642020695790261107e+365**(1/9)/(j+e)\t\n",
    "print(R13)"
   ]
  },
  {
   "cell_type": "markdown",
   "metadata": {},
   "source": [
    "# Table 3"
   ]
  },
  {
   "cell_type": "code",
   "execution_count": 12,
   "metadata": {},
   "outputs": [
    {
     "data": {
      "text/html": [
       "<div>\n",
       "<style scoped>\n",
       "    .dataframe tbody tr th:only-of-type {\n",
       "        vertical-align: middle;\n",
       "    }\n",
       "\n",
       "    .dataframe tbody tr th {\n",
       "        vertical-align: top;\n",
       "    }\n",
       "\n",
       "    .dataframe thead th {\n",
       "        text-align: right;\n",
       "    }\n",
       "</style>\n",
       "<table border=\"1\" class=\"dataframe\">\n",
       "  <thead>\n",
       "    <tr style=\"text-align: right;\">\n",
       "      <th></th>\n",
       "      <th>LaTeXFormula</th>\n",
       "      <th>gly</th>\n",
       "      <th>m</th>\n",
       "    </tr>\n",
       "  </thead>\n",
       "  <tbody>\n",
       "    <tr>\n",
       "      <th>0</th>\n",
       "      <td>$$(11/4)^{3/610}R1^2 /R_N$$</td>\n",
       "      <td>1.381198e+10</td>\n",
       "      <td>1.306714e+26</td>\n",
       "    </tr>\n",
       "    <tr>\n",
       "      <th>1</th>\n",
       "      <td>$$ƛ_e 2^{137} (\\gamma n^3 )^2 /(137^3 \\Gamma^{11})$$</td>\n",
       "      <td>1.381198e+10</td>\n",
       "      <td>1.306714e+26</td>\n",
       "    </tr>\n",
       "    <tr>\n",
       "      <th>2</th>\n",
       "      <td>$$((1-(137^2 + np.pi^2 + e^2 )/(p.H)).2^{128})ƛ_e$$</td>\n",
       "      <td>1.381198e+10</td>\n",
       "      <td>1.306714e+26</td>\n",
       "    </tr>\n",
       "    <tr>\n",
       "      <th>3</th>\n",
       "      <td>$$ƛ_e g(6)/ (1 + \\sqrt(137 +\\sqrt(136))/jn)$$</td>\n",
       "      <td>1.381198e+10</td>\n",
       "      <td>1.306714e+26</td>\n",
       "    </tr>\n",
       "    <tr>\n",
       "      <th>4</th>\n",
       "      <td>$$2ƛ_e(pn/H^2)(g(5)/ln (2-1/a^2.j))^2 and g(5)=exp(2^{(5+1/2)/5})$$</td>\n",
       "      <td>1.381198e+10</td>\n",
       "      <td>1.306714e+26</td>\n",
       "    </tr>\n",
       "    <tr>\n",
       "      <th>5</th>\n",
       "      <td>$$R_{ƛ_w}=ƛ_e/F^2.(\\frac{2^{70}.\\gamma.n^3}{\\Gamma^4})^2$$</td>\n",
       "      <td>1.381198e+10</td>\n",
       "      <td>1.306714e+26</td>\n",
       "    </tr>\n",
       "  </tbody>\n",
       "</table>\n",
       "</div>"
      ],
      "text/plain": [
       "                                                          LaTeXFormula  \\\n",
       "0                                          $$(11/4)^{3/610}R1^2 /R_N$$   \n",
       "1                 $$ƛ_e 2^{137} (\\gamma n^3 )^2 /(137^3 \\Gamma^{11})$$   \n",
       "2                  $$((1-(137^2 + np.pi^2 + e^2 )/(p.H)).2^{128})ƛ_e$$   \n",
       "3                        $$ƛ_e g(6)/ (1 + \\sqrt(137 +\\sqrt(136))/jn)$$   \n",
       "4  $$2ƛ_e(pn/H^2)(g(5)/ln (2-1/a^2.j))^2 and g(5)=exp(2^{(5+1/2)/5})$$   \n",
       "5           $$R_{ƛ_w}=ƛ_e/F^2.(\\frac{2^{70}.\\gamma.n^3}{\\Gamma^4})^2$$   \n",
       "\n",
       "            gly             m  \n",
       "0  1.381198e+10  1.306714e+26  \n",
       "1  1.381198e+10  1.306714e+26  \n",
       "2  1.381198e+10  1.306714e+26  \n",
       "3  1.381198e+10  1.306714e+26  \n",
       "4  1.381198e+10  1.306714e+26  \n",
       "5  1.381198e+10  1.306714e+26  "
      ]
     },
     "execution_count": 12,
     "metadata": {},
     "output_type": "execute_result"
    }
   ],
   "source": [
    "df3 = pd.read_csv(\"hubble-table3.csv\", dtype = {\"gly\" : \"float64\",\"m\" : \"float64\"}, skiprows = [50,51], sep = \",\")\n",
    "df3.iloc[:,[0,2,3]]\n",
    "#df3.head(10)"
   ]
  },
  {
   "cell_type": "code",
   "execution_count": 30,
   "metadata": {},
   "outputs": [
    {
     "data": {
      "text/plain": [
       "1.333025065793213e+26"
      ]
     },
     "execution_count": 30,
     "metadata": {},
     "output_type": "execute_result"
    }
   ],
   "source": [
    "2*lambdabare*a_s**2*W**7"
   ]
  },
  {
   "cell_type": "code",
   "execution_count": 288,
   "metadata": {},
   "outputs": [
    {
     "data": {
      "image/png": "[encoded data removed]",
      "text/plain": [
       "<Figure size 432x288 with 1 Axes>"
      ]
     },
     "metadata": {
      "needs_background": "light"
     },
     "output_type": "display_data"
    }
   ],
   "source": [
    "from mpl_toolkits.axes_grid1 import host_subplot\n",
    "import mpl_toolkits.axisartist as AA\n",
    "import matplotlib.pyplot as plt\n",
    "fig, ax = plt.subplots()\n",
    "ax.scatter(df2.iloc[:,[3,3]], df2.iloc[:,[2,2]], s=12 )\n",
    "plt.ylabel('Value displayed in $10^{10}$ Gly')\n",
    "plt.xlabel('Distance displayed in $10^{26}$m')\n",
    "plt.title('Hubble distance table', fontsize=18, color=\"black\")\n",
    "ax.grid()\n",
    "plt.show()"
   ]
  },
  {
   "cell_type": "code",
   "execution_count": 289,
   "metadata": {},
   "outputs": [
    {
     "data": {
      "image/png": "[encoded data removed]",
      "text/plain": [
       "<Figure size 432x288 with 1 Axes>"
      ]
     },
     "metadata": {
      "needs_background": "light"
     },
     "output_type": "display_data"
    }
   ],
   "source": [
    "from mpl_toolkits.axes_grid1 import host_subplot\n",
    "import mpl_toolkits.axisartist as AA\n",
    "import matplotlib.pyplot as plt\n",
    "fig, ax = plt.subplots()\n",
    "ax.scatter(df1.iloc[:,[3,3]], df1.iloc[:,[2,2]], s=12 )\n",
    "plt.ylabel('Value displayed in $10^{10}$ Gly')\n",
    "#plt.xlabel('Distance displayed in $1.306.10^{26}$m')\n",
    "plt.title('Hubble distance table', fontsize=18, color=\"black\")\n",
    "ax.grid()\n",
    "plt.show()"
   ]
  },
  {
   "cell_type": "code",
   "execution_count": 62,
   "metadata": {},
   "outputs": [
    {
     "data": {
      "text/html": [
       "<div>\n",
       "<style scoped>\n",
       "    .dataframe tbody tr th:only-of-type {\n",
       "        vertical-align: middle;\n",
       "    }\n",
       "\n",
       "    .dataframe tbody tr th {\n",
       "        vertical-align: top;\n",
       "    }\n",
       "\n",
       "    .dataframe thead th {\n",
       "        text-align: right;\n",
       "    }\n",
       "</style>\n",
       "<table border=\"1\" class=\"dataframe\">\n",
       "  <thead>\n",
       "    <tr style=\"text-align: right;\">\n",
       "      <th></th>\n",
       "      <th>Gly</th>\n",
       "      <th>m</th>\n",
       "    </tr>\n",
       "    <tr>\n",
       "      <th>LaTeXFormula</th>\n",
       "      <th></th>\n",
       "      <th></th>\n",
       "    </tr>\n",
       "  </thead>\n",
       "  <tbody>\n",
       "    <tr>\n",
       "      <th>$$((1-(137^2 + np.pi^2 + e^2 )/(p.H)).2^{128})ƛ_e$$</th>\n",
       "      <td>1.381198e+10</td>\n",
       "      <td>1.306714e+26</td>\n",
       "    </tr>\n",
       "    <tr>\n",
       "      <th>$$((11/4)^{3/610}.R1^2)/R_N$$</th>\n",
       "      <td>1.381196e+10</td>\n",
       "      <td>1.306710e+26</td>\n",
       "    </tr>\n",
       "    <tr>\n",
       "      <th>$$((a/\\sqrt(137)(4\\pi F)^2)ƛ_e^4 l_{ph}^3(\\lambda_{CMB}/l_P)^8 )^(1/7)$$</th>\n",
       "      <td>1.380699e+10</td>\n",
       "      <td>1.306715e+26</td>\n",
       "    </tr>\n",
       "    <tr>\n",
       "      <th>$$((a/\\sqrt(137)(4\\pi.F)^2)ƛ_e^4l_{ph}^3(ƛ_{CMB}/l_P)^8)^{1/7}$$</th>\n",
       "      <td>1.380699e+10</td>\n",
       "      <td>1.306242e+26</td>\n",
       "    </tr>\n",
       "    <tr>\n",
       "      <th>$$(\\beta FP^{3/2}(n/p)^{7/2}/2\\pi).ƛ_e$$</th>\n",
       "      <td>1.381199e+10</td>\n",
       "      <td>1.306716e+26</td>\n",
       "    </tr>\n",
       "    <tr>\n",
       "      <th>$$(e^{e^{e}})^{\\sqrt a}).(a-136))^{1/2}ƛ_e$$</th>\n",
       "      <td>1.381372e+10</td>\n",
       "      <td>1.306879e+26</td>\n",
       "    </tr>\n",
       "    <tr>\n",
       "      <th>$$(ƛ_e^2/l_P)(j/16)^16( e^e )^2.d_e\\sqrt(2)$$</th>\n",
       "      <td>1.381203e+10</td>\n",
       "      <td>1.306715e+26</td>\n",
       "    </tr>\n",
       "    <tr>\n",
       "      <th>$$2(l_K /F)^2 /ƛ_e$$</th>\n",
       "      <td>1.381198e+10</td>\n",
       "      <td>1.306714e+26</td>\n",
       "    </tr>\n",
       "    <tr>\n",
       "      <th>$$2\\beta ƛ_ej^{17}(4\\pi)^2\\sqrt(137)$$</th>\n",
       "      <td>1.381199e+10</td>\n",
       "      <td>1.306715e+26</td>\n",
       "    </tr>\n",
       "    <tr>\n",
       "      <th>$$2\\hbar^2/(G.m_e.m_p.m_n)$$</th>\n",
       "      <td>1.380048e+10</td>\n",
       "      <td>1.305626e+26</td>\n",
       "    </tr>\n",
       "    <tr>\n",
       "      <th>$$2ƛ_e(pn/H^2)(g(5)/ln (2-1/a^2.j))^2 and g(5)=exp(2^{(5+1/2)/5})$$</th>\n",
       "      <td>1.381198e+10</td>\n",
       "      <td>1.306714e+26</td>\n",
       "    </tr>\n",
       "    <tr>\n",
       "      <th>$$3^{1/137}R_{GC}^{2/3}r_e^{1/3} /l_K$$</th>\n",
       "      <td>1.381245e+10</td>\n",
       "      <td>1.306759e+26</td>\n",
       "    </tr>\n",
       "    <tr>\n",
       "      <th>$$4P^3l_{Wi}ƛ_e/R_N$$</th>\n",
       "      <td>1.381641e+10</td>\n",
       "      <td>1.307134e+26</td>\n",
       "    </tr>\n",
       "    <tr>\n",
       "      <th>$$R1(8/\\sqrt(3a))^{1/7}$$</th>\n",
       "      <td>1.381186e+10</td>\n",
       "      <td>1.306000e+26</td>\n",
       "    </tr>\n",
       "    <tr>\n",
       "      <th>$$R_N a^a /\\Pi_{happy}$$</th>\n",
       "      <td>1.381100e+10</td>\n",
       "      <td>1.306000e+26</td>\n",
       "    </tr>\n",
       "    <tr>\n",
       "      <th>$$R_{Rydberg}=\\frac{(ƛ_{Ryd}.n^4)^2}{ƛ_p}$$</th>\n",
       "      <td>1.381037e+10</td>\n",
       "      <td>1.306562e+26</td>\n",
       "    </tr>\n",
       "    <tr>\n",
       "      <th>$$R_{a}=ƛ_e.(2.\\pi^2.a^3)^5$$</th>\n",
       "      <td>2.760836e+10</td>\n",
       "      <td>2.611952e+26</td>\n",
       "    </tr>\n",
       "    <tr>\n",
       "      <th>$$R_{kotov-fermi}=\\frac{2.(c.t_k)^2/ƛ_e}{F^2}$$</th>\n",
       "      <td>1.381198e+10</td>\n",
       "      <td>1.306714e+26</td>\n",
       "    </tr>\n",
       "    <tr>\n",
       "      <th>$$R_{ƛ_w}=ƛ_e/F^2.(\\frac{2^{70}.\\gamma.n^3}{\\Gamma^4})^2$$</th>\n",
       "      <td>1.381198e+10</td>\n",
       "      <td>1.306714e+26</td>\n",
       "    </tr>\n",
       "    <tr>\n",
       "      <th>$$R_{ƛ_w}=ƛ_w.(\\frac{2^{70}.\\gamma.n^3}{\\Gamma^4})^2$$</th>\n",
       "      <td>1.381198e+10</td>\n",
       "      <td>1.306714e+26</td>\n",
       "    </tr>\n",
       "    <tr>\n",
       "      <th>$$ƛ_FP^2e/8$$</th>\n",
       "      <td>1.381415e+10</td>\n",
       "      <td>1.306919e+26</td>\n",
       "    </tr>\n",
       "    <tr>\n",
       "      <th>$$ƛ_FP^3/p^7$$</th>\n",
       "      <td>1.380312e+10</td>\n",
       "      <td>1.305876e+26</td>\n",
       "    </tr>\n",
       "    <tr>\n",
       "      <th>$$ƛ_Fe(Pe^e)^2/\\sqrt(pn)$$</th>\n",
       "      <td>1.381261e+10</td>\n",
       "      <td>1.306774e+26</td>\n",
       "    </tr>\n",
       "    <tr>\n",
       "      <th>$$ƛ_e 2^{128} / d_e^2 (H /p )^6$$</th>\n",
       "      <td>1.390251e+10</td>\n",
       "      <td>1.315279e+26</td>\n",
       "    </tr>\n",
       "    <tr>\n",
       "      <th>$$ƛ_e 2^{137} (\\gamma n^3 )^2 /(137^3 \\Gamma^{11})$$</th>\n",
       "      <td>1.381198e+10</td>\n",
       "      <td>1.306714e+26</td>\n",
       "    </tr>\n",
       "    <tr>\n",
       "      <th>$$ƛ_e g(6) and g(6)=𝑒𝑥𝑝(2^{6+1/2}/6)$$</th>\n",
       "      <td>1.382101e+10</td>\n",
       "      <td>1.307569e+26</td>\n",
       "    </tr>\n",
       "    <tr>\n",
       "      <th>$$ƛ_e g(6)/ (1 + \\sqrt(137 +\\sqrt(136))/jn)$$</th>\n",
       "      <td>1.381198e+10</td>\n",
       "      <td>1.306714e+26</td>\n",
       "    </tr>\n",
       "    <tr>\n",
       "      <th>$$ƛ_e(3j^j/(2H)^{1/6} $$</th>\n",
       "      <td>1.381199e+10</td>\n",
       "      <td>1.306715e+26</td>\n",
       "    </tr>\n",
       "    <tr>\n",
       "      <th>$$ƛ_e(a^a)^{5/38}$$</th>\n",
       "      <td>1.381084e+10</td>\n",
       "      <td>1.306606e+26</td>\n",
       "    </tr>\n",
       "    <tr>\n",
       "      <th>$$ƛ_e.exp((e^{4e-1/a}-ln2(P^4/a^3 ))/2)^{1/2}$$</th>\n",
       "      <td>1.381169e+10</td>\n",
       "      <td>1.306719e+26</td>\n",
       "    </tr>\n",
       "    <tr>\n",
       "      <th>$$ƛ_e2^{128}/(1+(137^2 + \\pi^2 + e^2 )/pH)$$</th>\n",
       "      <td>1.381241e+10</td>\n",
       "      <td>1.306754e+26</td>\n",
       "    </tr>\n",
       "    <tr>\n",
       "      <th>$$ƛ_e\\pi^{155/2}$$</th>\n",
       "      <td>1.380247e+10</td>\n",
       "      <td>1.305815e+26</td>\n",
       "    </tr>\n",
       "  </tbody>\n",
       "</table>\n",
       "</div>"
      ],
      "text/plain": [
       "                                                                                   Gly  \\\n",
       "LaTeXFormula                                                                             \n",
       "$$((1-(137^2 + np.pi^2 + e^2 )/(p.H)).2^{128})ƛ_e$$                       1.381198e+10   \n",
       "$$((11/4)^{3/610}.R1^2)/R_N$$                                             1.381196e+10   \n",
       "$$((a/\\sqrt(137)(4\\pi F)^2)ƛ_e^4 l_{ph}^3(\\lambda_{CMB}/l_P)^8 )^(1/7)$$  1.380699e+10   \n",
       "$$((a/\\sqrt(137)(4\\pi.F)^2)ƛ_e^4l_{ph}^3(ƛ_{CMB}/l_P)^8)^{1/7}$$          1.380699e+10   \n",
       "$$(\\beta FP^{3/2}(n/p)^{7/2}/2\\pi).ƛ_e$$                                  1.381199e+10   \n",
       "$$(e^{e^{e}})^{\\sqrt a}).(a-136))^{1/2}ƛ_e$$                              1.381372e+10   \n",
       "$$(ƛ_e^2/l_P)(j/16)^16( e^e )^2.d_e\\sqrt(2)$$                             1.381203e+10   \n",
       "$$2(l_K /F)^2 /ƛ_e$$                                                      1.381198e+10   \n",
       "$$2\\beta ƛ_ej^{17}(4\\pi)^2\\sqrt(137)$$                                    1.381199e+10   \n",
       "$$2\\hbar^2/(G.m_e.m_p.m_n)$$                                              1.380048e+10   \n",
       "$$2ƛ_e(pn/H^2)(g(5)/ln (2-1/a^2.j))^2 and g(5)=exp(2^{(5+1/2)/5})$$       1.381198e+10   \n",
       "$$3^{1/137}R_{GC}^{2/3}r_e^{1/3} /l_K$$                                   1.381245e+10   \n",
       "$$4P^3l_{Wi}ƛ_e/R_N$$                                                     1.381641e+10   \n",
       "$$R1(8/\\sqrt(3a))^{1/7}$$                                                 1.381186e+10   \n",
       "$$R_N a^a /\\Pi_{happy}$$                                                  1.381100e+10   \n",
       "$$R_{Rydberg}=\\frac{(ƛ_{Ryd}.n^4)^2}{ƛ_p}$$                               1.381037e+10   \n",
       "$$R_{a}=ƛ_e.(2.\\pi^2.a^3)^5$$                                             2.760836e+10   \n",
       "$$R_{kotov-fermi}=\\frac{2.(c.t_k)^2/ƛ_e}{F^2}$$                           1.381198e+10   \n",
       "$$R_{ƛ_w}=ƛ_e/F^2.(\\frac{2^{70}.\\gamma.n^3}{\\Gamma^4})^2$$                1.381198e+10   \n",
       "$$R_{ƛ_w}=ƛ_w.(\\frac{2^{70}.\\gamma.n^3}{\\Gamma^4})^2$$                    1.381198e+10   \n",
       "$$ƛ_FP^2e/8$$                                                             1.381415e+10   \n",
       "$$ƛ_FP^3/p^7$$                                                            1.380312e+10   \n",
       "$$ƛ_Fe(Pe^e)^2/\\sqrt(pn)$$                                                1.381261e+10   \n",
       "$$ƛ_e 2^{128} / d_e^2 (H /p )^6$$                                         1.390251e+10   \n",
       "$$ƛ_e 2^{137} (\\gamma n^3 )^2 /(137^3 \\Gamma^{11})$$                      1.381198e+10   \n",
       "$$ƛ_e g(6) and g(6)=𝑒𝑥𝑝(2^{6+1/2}/6)$$                                    1.382101e+10   \n",
       "$$ƛ_e g(6)/ (1 + \\sqrt(137 +\\sqrt(136))/jn)$$                             1.381198e+10   \n",
       "$$ƛ_e(3j^j/(2H)^{1/6} $$                                                  1.381199e+10   \n",
       "$$ƛ_e(a^a)^{5/38}$$                                                       1.381084e+10   \n",
       "$$ƛ_e.exp((e^{4e-1/a}-ln2(P^4/a^3 ))/2)^{1/2}$$                           1.381169e+10   \n",
       "$$ƛ_e2^{128}/(1+(137^2 + \\pi^2 + e^2 )/pH)$$                              1.381241e+10   \n",
       "$$ƛ_e\\pi^{155/2}$$                                                        1.380247e+10   \n",
       "\n",
       "                                                                                     m  \n",
       "LaTeXFormula                                                                            \n",
       "$$((1-(137^2 + np.pi^2 + e^2 )/(p.H)).2^{128})ƛ_e$$                       1.306714e+26  \n",
       "$$((11/4)^{3/610}.R1^2)/R_N$$                                             1.306710e+26  \n",
       "$$((a/\\sqrt(137)(4\\pi F)^2)ƛ_e^4 l_{ph}^3(\\lambda_{CMB}/l_P)^8 )^(1/7)$$  1.306715e+26  \n",
       "$$((a/\\sqrt(137)(4\\pi.F)^2)ƛ_e^4l_{ph}^3(ƛ_{CMB}/l_P)^8)^{1/7}$$          1.306242e+26  \n",
       "$$(\\beta FP^{3/2}(n/p)^{7/2}/2\\pi).ƛ_e$$                                  1.306716e+26  \n",
       "$$(e^{e^{e}})^{\\sqrt a}).(a-136))^{1/2}ƛ_e$$                              1.306879e+26  \n",
       "$$(ƛ_e^2/l_P)(j/16)^16( e^e )^2.d_e\\sqrt(2)$$                             1.306715e+26  \n",
       "$$2(l_K /F)^2 /ƛ_e$$                                                      1.306714e+26  \n",
       "$$2\\beta ƛ_ej^{17}(4\\pi)^2\\sqrt(137)$$                                    1.306715e+26  \n",
       "$$2\\hbar^2/(G.m_e.m_p.m_n)$$                                              1.305626e+26  \n",
       "$$2ƛ_e(pn/H^2)(g(5)/ln (2-1/a^2.j))^2 and g(5)=exp(2^{(5+1/2)/5})$$       1.306714e+26  \n",
       "$$3^{1/137}R_{GC}^{2/3}r_e^{1/3} /l_K$$                                   1.306759e+26  \n",
       "$$4P^3l_{Wi}ƛ_e/R_N$$                                                     1.307134e+26  \n",
       "$$R1(8/\\sqrt(3a))^{1/7}$$                                                 1.306000e+26  \n",
       "$$R_N a^a /\\Pi_{happy}$$                                                  1.306000e+26  \n",
       "$$R_{Rydberg}=\\frac{(ƛ_{Ryd}.n^4)^2}{ƛ_p}$$                               1.306562e+26  \n",
       "$$R_{a}=ƛ_e.(2.\\pi^2.a^3)^5$$                                             2.611952e+26  \n",
       "$$R_{kotov-fermi}=\\frac{2.(c.t_k)^2/ƛ_e}{F^2}$$                           1.306714e+26  \n",
       "$$R_{ƛ_w}=ƛ_e/F^2.(\\frac{2^{70}.\\gamma.n^3}{\\Gamma^4})^2$$                1.306714e+26  \n",
       "$$R_{ƛ_w}=ƛ_w.(\\frac{2^{70}.\\gamma.n^3}{\\Gamma^4})^2$$                    1.306714e+26  \n",
       "$$ƛ_FP^2e/8$$                                                             1.306919e+26  \n",
       "$$ƛ_FP^3/p^7$$                                                            1.305876e+26  \n",
       "$$ƛ_Fe(Pe^e)^2/\\sqrt(pn)$$                                                1.306774e+26  \n",
       "$$ƛ_e 2^{128} / d_e^2 (H /p )^6$$                                         1.315279e+26  \n",
       "$$ƛ_e 2^{137} (\\gamma n^3 )^2 /(137^3 \\Gamma^{11})$$                      1.306714e+26  \n",
       "$$ƛ_e g(6) and g(6)=𝑒𝑥𝑝(2^{6+1/2}/6)$$                                    1.307569e+26  \n",
       "$$ƛ_e g(6)/ (1 + \\sqrt(137 +\\sqrt(136))/jn)$$                             1.306714e+26  \n",
       "$$ƛ_e(3j^j/(2H)^{1/6} $$                                                  1.306715e+26  \n",
       "$$ƛ_e(a^a)^{5/38}$$                                                       1.306606e+26  \n",
       "$$ƛ_e.exp((e^{4e-1/a}-ln2(P^4/a^3 ))/2)^{1/2}$$                           1.306719e+26  \n",
       "$$ƛ_e2^{128}/(1+(137^2 + \\pi^2 + e^2 )/pH)$$                              1.306754e+26  \n",
       "$$ƛ_e\\pi^{155/2}$$                                                        1.305815e+26  "
      ]
     },
     "execution_count": 62,
     "metadata": {},
     "output_type": "execute_result"
    }
   ],
   "source": [
    "pd.pivot_table(df, index=['LaTeXFormula'], aggfunc='sum')"
   ]
  },
  {
   "cell_type": "code",
   "execution_count": 291,
   "metadata": {},
   "outputs": [],
   "source": [
    "#pd.set_option('display.max_rows', df.shape[0]+1)\n",
    "#print(df)"
   ]
  },
  {
   "cell_type": "code",
   "execution_count": null,
   "metadata": {},
   "outputs": [],
   "source": [
    "df = pd.read_csv(\"hubble-table.csv\", dtype = {\"Gly\" : \"float64\",\"m\" : \"float64\"}, skiprows = [50,51], sep = \",\")\n",
    "display = pd.options.display\n",
    "#display.max_columns = (None)\n",
    "#display.max_rows = 24\n",
    "#display.max_colwidth = 50\n",
    "\n",
    "#pd.set_option('display.max_rows', df.shape[0]+1)\n",
    "pd.set_option('display.max_rows', None)\n",
    "pd.set_option('display.max_columns', None)\n",
    "pd.set_option('display.width', None)\n",
    "pd.set_option('display.max_colwidth', 80)\n",
    "pd.set_option('display.precision', 9)\n",
    "print(df)"
   ]
  },
  {
   "cell_type": "code",
   "execution_count": 63,
   "metadata": {},
   "outputs": [
    {
     "data": {
      "text/html": [
       "<div>\n",
       "<style scoped>\n",
       "    .dataframe tbody tr th:only-of-type {\n",
       "        vertical-align: middle;\n",
       "    }\n",
       "\n",
       "    .dataframe tbody tr th {\n",
       "        vertical-align: top;\n",
       "    }\n",
       "\n",
       "    .dataframe thead th {\n",
       "        text-align: right;\n",
       "    }\n",
       "</style>\n",
       "<table border=\"1\" class=\"dataframe\">\n",
       "  <thead>\n",
       "    <tr style=\"text-align: right;\">\n",
       "      <th></th>\n",
       "      <th>LaTeXFormula</th>\n",
       "      <th>PlainFormula</th>\n",
       "      <th>gly</th>\n",
       "      <th>m</th>\n",
       "    </tr>\n",
       "  </thead>\n",
       "  <tbody>\n",
       "    <tr>\n",
       "      <th>0</th>\n",
       "      <td>$$2\\hbar^2/(G.m_e.m_p.m_n)$$</td>\n",
       "      <td>2*hbar**2/(G_s*m_e*m_p*m_n)</td>\n",
       "      <td>1.380048e+10</td>\n",
       "      <td>1.305626e+26</td>\n",
       "    </tr>\n",
       "    <tr>\n",
       "      <th>1</th>\n",
       "      <td>$$2\\hbar^2/(G.m_e.m_p^2)$$</td>\n",
       "      <td>2*hbar**2/(G_s*m_e*m_p**2)</td>\n",
       "      <td>1.380048e+10</td>\n",
       "      <td>1.305626e+26</td>\n",
       "    </tr>\n",
       "    <tr>\n",
       "      <th>2</th>\n",
       "      <td>$$ƛ_e g(6) and g(6)=𝑒𝑥𝑝(2^{6+1/2/6})$$</td>\n",
       "      <td>lambdabare*(np.exp(2**(6+(1/2)))/6)</td>\n",
       "      <td>1.382101e+10</td>\n",
       "      <td>1.307569e+26</td>\n",
       "    </tr>\n",
       "    <tr>\n",
       "      <th>3</th>\n",
       "      <td>$$ƛ_e s_4^5$$</td>\n",
       "      <td>lambdabare*s_4**5</td>\n",
       "      <td>1.380418e+10</td>\n",
       "      <td>1.305976e+26</td>\n",
       "    </tr>\n",
       "    <tr>\n",
       "      <th>4</th>\n",
       "      <td>$$ƛ_p(WZ)^4$$</td>\n",
       "      <td>lambdabar_p*(W*Z)**4</td>\n",
       "      <td>1.394388e+10</td>\n",
       "      <td>1.319193e+26</td>\n",
       "    </tr>\n",
       "    <tr>\n",
       "      <th>5</th>\n",
       "      <td>$$2^{128}.ƛ_e$$</td>\n",
       "      <td>2**128*lambdabare</td>\n",
       "      <td>1.388933e+10</td>\n",
       "      <td>1.314032e+26</td>\n",
       "    </tr>\n",
       "    <tr>\n",
       "      <th>6</th>\n",
       "      <td>$$ƛ_e(τ/μ)^{32}/ω$$</td>\n",
       "      <td>lambdabare*(τ/μ)**32/ω</td>\n",
       "      <td>1.379565e+10</td>\n",
       "      <td>1.305170e+26</td>\n",
       "    </tr>\n",
       "    <tr>\n",
       "      <th>7</th>\n",
       "      <td>$$2ƛ_e a_s^2 W^7$$</td>\n",
       "      <td>2*lambdabare*a_s**2*W**7</td>\n",
       "      <td>1.409009e+10</td>\n",
       "      <td>1.333025e+26</td>\n",
       "    </tr>\n",
       "    <tr>\n",
       "      <th>8</th>\n",
       "      <td>$$ƛ_e(FZ)^{7/2}$$</td>\n",
       "      <td>lambdabare*(F*Z)**(7/2)</td>\n",
       "      <td>1.395438e+10</td>\n",
       "      <td>1.320186e+26</td>\n",
       "    </tr>\n",
       "    <tr>\n",
       "      <th>9</th>\n",
       "      <td>$$\\lambda_e(OM)^{7/10}$$</td>\n",
       "      <td>lambda_e*(OM)**(7/10)</td>\n",
       "      <td>1.393850e+10</td>\n",
       "      <td>1.318684e+26</td>\n",
       "    </tr>\n",
       "    <tr>\n",
       "      <th>10</th>\n",
       "      <td>$$R_N (OM.OB/n_{ph})^2$$</td>\n",
       "      <td>R_N*(OM*OB/n_ph)**2</td>\n",
       "      <td>1.376677e+10</td>\n",
       "      <td>1.302437e+26</td>\n",
       "    </tr>\n",
       "    <tr>\n",
       "      <th>11</th>\n",
       "      <td>$$R_N (\\pi.OM.OB/3)^2 /exp(e^6)$$</td>\n",
       "      <td>R_N*(np.pi*OM*OB /3)**2/(np.exp(e**6))</td>\n",
       "      <td>1.389639e+10</td>\n",
       "      <td>1.314700e+26</td>\n",
       "    </tr>\n",
       "    <tr>\n",
       "      <th>12</th>\n",
       "      <td>$$ƛ_e 2^{128} / d_e^2 (H /p )^6$$</td>\n",
       "      <td>lambdabare*2**128/d_e**2 *(H /p )**6</td>\n",
       "      <td>1.390251e+10</td>\n",
       "      <td>1.315279e+26</td>\n",
       "    </tr>\n",
       "    <tr>\n",
       "      <th>13</th>\n",
       "      <td>$$((a/\\sqrt(137)(4\\pi.F)^2)ƛ_e^4l_{ph}^3(ƛ_{CMB}/l_P)^8)^{1/7}$$</td>\n",
       "      <td>((a/(np.sqrt(137)*(4*np.pi*F)**2))*(lambdabare**4)*(l_ph**3)*(lambdabar_cmb/l_P)**8)**(1/7)</td>\n",
       "      <td>1.380699e+10</td>\n",
       "      <td>1.306242e+26</td>\n",
       "    </tr>\n",
       "    <tr>\n",
       "      <th>14</th>\n",
       "      <td>$$4P^3l_{Wi}ƛ_e/R_N$$</td>\n",
       "      <td>(4*P**3*l_wi*lambdabare)/R_N</td>\n",
       "      <td>1.381641e+10</td>\n",
       "      <td>1.307134e+26</td>\n",
       "    </tr>\n",
       "    <tr>\n",
       "      <th>15</th>\n",
       "      <td>$$R_{a}=ƛ_e.(2.\\pi^2.a^3)^5$$</td>\n",
       "      <td>((constants.pi**2*(2*(1/constants.fine_structure)**3))**5)*(constants.hbar/(constants.m_e*const...</td>\n",
       "      <td>1.380418e+10</td>\n",
       "      <td>1.305976e+26</td>\n",
       "    </tr>\n",
       "    <tr>\n",
       "      <th>16</th>\n",
       "      <td>$$ƛ_FP^2e/8$$</td>\n",
       "      <td>lambdabar_F*P**2*e/8</td>\n",
       "      <td>1.381415e+10</td>\n",
       "      <td>1.306919e+26</td>\n",
       "    </tr>\n",
       "    <tr>\n",
       "      <th>17</th>\n",
       "      <td>$$ƛ_FP^3/p^7$$</td>\n",
       "      <td>lambdabar_F*P**3/p**7</td>\n",
       "      <td>1.380312e+10</td>\n",
       "      <td>1.305876e+26</td>\n",
       "    </tr>\n",
       "    <tr>\n",
       "      <th>18</th>\n",
       "      <td>$$R_{Rydberg}=\\frac{(ƛ_{Ryd}.n^4)^2}{ƛ_p}$$</td>\n",
       "      <td>((lambdabarRyd*n**4)**2)/lambdabar_p</td>\n",
       "      <td>1.381037e+10</td>\n",
       "      <td>1.306562e+26</td>\n",
       "    </tr>\n",
       "    <tr>\n",
       "      <th>19</th>\n",
       "      <td>$$R_{ƛ_w}=ƛ_w.(\\frac{2^{70}.\\gamma.n^3}{\\Gamma^4})^2$$</td>\n",
       "      <td>(((2**70*np.euler_gamma*n**3)/Gamma**4)**2)*ƛ_w</td>\n",
       "      <td>1.381198e+10</td>\n",
       "      <td>1.306714e+26</td>\n",
       "    </tr>\n",
       "    <tr>\n",
       "      <th>20</th>\n",
       "      <td>$$R_{kotov-fermi}=\\frac{2.(c.t_k)^2/ƛ_e}{F^2}$$</td>\n",
       "      <td>2*(c*t_k)**2/lambdabare/F**2</td>\n",
       "      <td>1.381198e+10</td>\n",
       "      <td>1.306714e+26</td>\n",
       "    </tr>\n",
       "    <tr>\n",
       "      <th>21</th>\n",
       "      <td>$$R_N (R_{GC} /l_P )^3 /\\Pi^{26}$$</td>\n",
       "      <td>R_N*(R_GC/l_P)**3/26SPG</td>\n",
       "      <td>1.379000e+10</td>\n",
       "      <td>1.300000e+26</td>\n",
       "    </tr>\n",
       "    <tr>\n",
       "      <th>22</th>\n",
       "      <td>$$R_N a^a /\\Pi_{happy}$$</td>\n",
       "      <td>R_N*a**a/OP</td>\n",
       "      <td>1.381411e+10</td>\n",
       "      <td>1.306916e+26</td>\n",
       "    </tr>\n",
       "    <tr>\n",
       "      <th>23</th>\n",
       "      <td>$$ƛ_Fe(Pe^e)^2/\\sqrt(pn)$$</td>\n",
       "      <td>lambdabar_F*e*(P*e**e)**2/np.sqrt(p*n)</td>\n",
       "      <td>1.381261e+10</td>\n",
       "      <td>1.306774e+26</td>\n",
       "    </tr>\n",
       "    <tr>\n",
       "      <th>24</th>\n",
       "      <td>$$(ƛ_e^2/l_P)(j/16)^16( e^e )^2.d_e\\sqrt(2)$$</td>\n",
       "      <td>(lambdabare**2/l_P)(j/16)**16( e**e )**2*d_e*np.sqrt(2)</td>\n",
       "      <td>1.381203e+10</td>\n",
       "      <td>1.306715e+26</td>\n",
       "    </tr>\n",
       "    <tr>\n",
       "      <th>25</th>\n",
       "      <td>$$3^{1/137}R_{GC}^{2/3}r_e^{1/3} /l_K$$</td>\n",
       "      <td>3**(1/137)*R_GC**(2/3)*(lambdabare/a)**(4/3)/l_K/(constants.light_year*10**9)</td>\n",
       "      <td>1.381245e+10</td>\n",
       "      <td>1.306759e+26</td>\n",
       "    </tr>\n",
       "    <tr>\n",
       "      <th>26</th>\n",
       "      <td>$$ƛ_e2^{128}/(1+(137^2 + \\pi^2 + e^2 )/pH)$$</td>\n",
       "      <td>lambdabare*2**128/(1+(137**2 + np.pi**2 + e**2)/(H*p) )</td>\n",
       "      <td>1.381241e+10</td>\n",
       "      <td>1.306754e+26</td>\n",
       "    </tr>\n",
       "  </tbody>\n",
       "</table>\n",
       "</div>"
      ],
      "text/plain": [
       "                                                        LaTeXFormula  \\\n",
       "0                                       $$2\\hbar^2/(G.m_e.m_p.m_n)$$   \n",
       "1                                         $$2\\hbar^2/(G.m_e.m_p^2)$$   \n",
       "2                             $$ƛ_e g(6) and g(6)=𝑒𝑥𝑝(2^{6+1/2/6})$$   \n",
       "3                                                      $$ƛ_e s_4^5$$   \n",
       "4                                                      $$ƛ_p(WZ)^4$$   \n",
       "5                                                    $$2^{128}.ƛ_e$$   \n",
       "6                                                $$ƛ_e(τ/μ)^{32}/ω$$   \n",
       "7                                                 $$2ƛ_e a_s^2 W^7$$   \n",
       "8                                                  $$ƛ_e(FZ)^{7/2}$$   \n",
       "9                                           $$\\lambda_e(OM)^{7/10}$$   \n",
       "10                                          $$R_N (OM.OB/n_{ph})^2$$   \n",
       "11                                 $$R_N (\\pi.OM.OB/3)^2 /exp(e^6)$$   \n",
       "12                                 $$ƛ_e 2^{128} / d_e^2 (H /p )^6$$   \n",
       "13  $$((a/\\sqrt(137)(4\\pi.F)^2)ƛ_e^4l_{ph}^3(ƛ_{CMB}/l_P)^8)^{1/7}$$   \n",
       "14                                             $$4P^3l_{Wi}ƛ_e/R_N$$   \n",
       "15                                     $$R_{a}=ƛ_e.(2.\\pi^2.a^3)^5$$   \n",
       "16                                                     $$ƛ_FP^2e/8$$   \n",
       "17                                                    $$ƛ_FP^3/p^7$$   \n",
       "18                       $$R_{Rydberg}=\\frac{(ƛ_{Ryd}.n^4)^2}{ƛ_p}$$   \n",
       "19            $$R_{ƛ_w}=ƛ_w.(\\frac{2^{70}.\\gamma.n^3}{\\Gamma^4})^2$$   \n",
       "20                   $$R_{kotov-fermi}=\\frac{2.(c.t_k)^2/ƛ_e}{F^2}$$   \n",
       "21                                $$R_N (R_{GC} /l_P )^3 /\\Pi^{26}$$   \n",
       "22                                          $$R_N a^a /\\Pi_{happy}$$   \n",
       "23                                        $$ƛ_Fe(Pe^e)^2/\\sqrt(pn)$$   \n",
       "24                     $$(ƛ_e^2/l_P)(j/16)^16( e^e )^2.d_e\\sqrt(2)$$   \n",
       "25                           $$3^{1/137}R_{GC}^{2/3}r_e^{1/3} /l_K$$   \n",
       "26                      $$ƛ_e2^{128}/(1+(137^2 + \\pi^2 + e^2 )/pH)$$   \n",
       "\n",
       "                                                                                           PlainFormula  \\\n",
       "0                                                                           2*hbar**2/(G_s*m_e*m_p*m_n)   \n",
       "1                                                                            2*hbar**2/(G_s*m_e*m_p**2)   \n",
       "2                                                                   lambdabare*(np.exp(2**(6+(1/2)))/6)   \n",
       "3                                                                                     lambdabare*s_4**5   \n",
       "4                                                                                  lambdabar_p*(W*Z)**4   \n",
       "5                                                                                     2**128*lambdabare   \n",
       "6                                                                                lambdabare*(τ/μ)**32/ω   \n",
       "7                                                                              2*lambdabare*a_s**2*W**7   \n",
       "8                                                                               lambdabare*(F*Z)**(7/2)   \n",
       "9                                                                                 lambda_e*(OM)**(7/10)   \n",
       "10                                                                                  R_N*(OM*OB/n_ph)**2   \n",
       "11                                                               R_N*(np.pi*OM*OB /3)**2/(np.exp(e**6))   \n",
       "12                                                                 lambdabare*2**128/d_e**2 *(H /p )**6   \n",
       "13          ((a/(np.sqrt(137)*(4*np.pi*F)**2))*(lambdabare**4)*(l_ph**3)*(lambdabar_cmb/l_P)**8)**(1/7)   \n",
       "14                                                                         (4*P**3*l_wi*lambdabare)/R_N   \n",
       "15   ((constants.pi**2*(2*(1/constants.fine_structure)**3))**5)*(constants.hbar/(constants.m_e*const...   \n",
       "16                                                                                 lambdabar_F*P**2*e/8   \n",
       "17                                                                                lambdabar_F*P**3/p**7   \n",
       "18                                                                 ((lambdabarRyd*n**4)**2)/lambdabar_p   \n",
       "19                                                      (((2**70*np.euler_gamma*n**3)/Gamma**4)**2)*ƛ_w   \n",
       "20                                                                         2*(c*t_k)**2/lambdabare/F**2   \n",
       "21                                                                              R_N*(R_GC/l_P)**3/26SPG   \n",
       "22                                                                                          R_N*a**a/OP   \n",
       "23                                                               lambdabar_F*e*(P*e**e)**2/np.sqrt(p*n)   \n",
       "24                                              (lambdabare**2/l_P)(j/16)**16( e**e )**2*d_e*np.sqrt(2)   \n",
       "25                        3**(1/137)*R_GC**(2/3)*(lambdabare/a)**(4/3)/l_K/(constants.light_year*10**9)   \n",
       "26                                              lambdabare*2**128/(1+(137**2 + np.pi**2 + e**2)/(H*p) )   \n",
       "\n",
       "             gly             m  \n",
       "0   1.380048e+10  1.305626e+26  \n",
       "1   1.380048e+10  1.305626e+26  \n",
       "2   1.382101e+10  1.307569e+26  \n",
       "3   1.380418e+10  1.305976e+26  \n",
       "4   1.394388e+10  1.319193e+26  \n",
       "5   1.388933e+10  1.314032e+26  \n",
       "6   1.379565e+10  1.305170e+26  \n",
       "7   1.409009e+10  1.333025e+26  \n",
       "8   1.395438e+10  1.320186e+26  \n",
       "9   1.393850e+10  1.318684e+26  \n",
       "10  1.376677e+10  1.302437e+26  \n",
       "11  1.389639e+10  1.314700e+26  \n",
       "12  1.390251e+10  1.315279e+26  \n",
       "13  1.380699e+10  1.306242e+26  \n",
       "14  1.381641e+10  1.307134e+26  \n",
       "15  1.380418e+10  1.305976e+26  \n",
       "16  1.381415e+10  1.306919e+26  \n",
       "17  1.380312e+10  1.305876e+26  \n",
       "18  1.381037e+10  1.306562e+26  \n",
       "19  1.381198e+10  1.306714e+26  \n",
       "20  1.381198e+10  1.306714e+26  \n",
       "21  1.379000e+10  1.300000e+26  \n",
       "22  1.381411e+10  1.306916e+26  \n",
       "23  1.381261e+10  1.306774e+26  \n",
       "24  1.381203e+10  1.306715e+26  \n",
       "25  1.381245e+10  1.306759e+26  \n",
       "26  1.381241e+10  1.306754e+26  "
      ]
     },
     "execution_count": 63,
     "metadata": {},
     "output_type": "execute_result"
    }
   ],
   "source": [
    "df2.iloc[:,[0,1,2,3]]\n",
    "#print(df)"
   ]
  },
  {
   "cell_type": "code",
   "execution_count": 64,
   "metadata": {},
   "outputs": [
    {
     "name": "stdout",
     "output_type": "stream",
     "text": [
      "                gly             m\n",
      "count  2.700000e+01  2.700000e+01\n",
      "mean   1.384209e+10  1.309391e+26\n",
      "std    7.104979e+07  6.909137e+23\n",
      "min    1.376677e+10  1.300000e+26\n",
      "25%    1.380418e+10  1.305976e+26\n",
      "50%    1.381241e+10  1.306754e+26\n",
      "75%    1.385517e+10  1.310800e+26\n",
      "max    1.409009e+10  1.333025e+26\n"
     ]
    }
   ],
   "source": [
    "print(df2.describe())\n",
    "df2.describe();"
   ]
  },
  {
   "cell_type": "code",
   "execution_count": 295,
   "metadata": {},
   "outputs": [
    {
     "data": {
      "image/png": "[encoded data removed]",
      "text/plain": [
       "<Figure size 432x288 with 1 Axes>"
      ]
     },
     "metadata": {
      "needs_background": "light"
     },
     "output_type": "display_data"
    }
   ],
   "source": [
    "from mpl_toolkits.axes_grid1 import host_subplot\n",
    "import mpl_toolkits.axisartist as AA\n",
    "import matplotlib.pyplot as plt\n",
    "fig, ax = plt.subplots()\n",
    "ax.scatter(df2.iloc[:,[3,3]], df2.iloc[:,[2,2]], s=12 )\n",
    "plt.ylabel('Value displayed in $10^{10}$ Gly')\n",
    "plt.xlabel('Distance displayed in $10^{26}$m')\n",
    "plt.title('Hubble distance table', fontsize=18, color=\"black\")\n",
    "ax.grid()\n",
    "plt.show()"
   ]
  },
  {
   "cell_type": "code",
   "execution_count": 296,
   "metadata": {},
   "outputs": [
    {
     "data": {
      "image/png": "[encoded data removed]",
      "text/plain": [
       "<Figure size 432x288 with 1 Axes>"
      ]
     },
     "metadata": {
      "needs_background": "light"
     },
     "output_type": "display_data"
    }
   ],
   "source": [
    "from mpl_toolkits.axes_grid1 import host_subplot\n",
    "import mpl_toolkits.axisartist as AA\n",
    "import matplotlib.pyplot as plt\n",
    "fig, ax = plt.subplots()\n",
    "\n",
    "ax.scatter(df3.iloc[:,[3,3]], df3.iloc[:,[2,2]], s=12 )\n",
    "plt.ylabel('Value displayed in $10^{10}$ Gly')\n",
    "plt.xlabel('Distance displayed in $10^{26}$m')\n",
    "plt.title('Hubble distance table', fontsize=18, color=\"black\")\n",
    "ax.grid()\n",
    "\n",
    "plt.show()"
   ]
  },
  {
   "cell_type": "markdown",
   "metadata": {},
   "source": [
    "### Example: Pick a formula from the above table, select it from the \"PlainFormula\" column and Copy / paste it into the cell below to get the result in meter :"
   ]
  },
  {
   "cell_type": "code",
   "execution_count": null,
   "metadata": {},
   "outputs": [],
   "source": []
  },
  {
   "cell_type": "code",
   "execution_count": 297,
   "metadata": {},
   "outputs": [],
   "source": [
    "%matplotlib inline\n",
    "import quantities as pq\n",
    "import numpy as np\n",
    "import matplotlib.pyplot as plt"
   ]
  },
  {
   "cell_type": "code",
   "execution_count": 298,
   "metadata": {},
   "outputs": [
    {
     "name": "stdout",
     "output_type": "stream",
     "text": [
      "UnitConstant('Planck_constant', 6.62606896e-34 * s*J, 'h')\n",
      "UnitConstant('Boltzmann_constant', 1.3806504e-23 * J/K, 'k')\n"
     ]
    }
   ],
   "source": [
    "print(repr(pq.constants.Planck_constant))\n",
    "print(repr(pq.constants.Boltzmann_constant))"
   ]
  },
  {
   "cell_type": "code",
   "execution_count": 299,
   "metadata": {},
   "outputs": [],
   "source": [
    "def B(wl,T):\n",
    "    '''wl is an array of wavelengths with units of length\n",
    "    T is a temperature in Kelvin\n",
    "    the result is an array of s.r. with units W/(m**2 * nm * sr)\n",
    "    '''\n",
    "    I = 2 * pq.constants.h * (pq.c)**2 / wl**5 *  \\\n",
    "        1 / (np.exp((pq.constants.h*pq.c \\\n",
    "        / (wl*pq.constants.k*T)).simplified)-1)\n",
    "    return I.rescale(pq.watt/(pq.m**2 * pq.nm *pq.sr))"
   ]
  },
  {
   "cell_type": "code",
   "execution_count": 300,
   "metadata": {},
   "outputs": [
    {
     "data": {
      "text/plain": [
       "array(26421.6296097) * W/(m**2*nm*sr)"
      ]
     },
     "execution_count": 300,
     "metadata": {},
     "output_type": "execute_result"
    }
   ],
   "source": [
    "B( 5000 *pq.angstrom, 5780 *pq.K)"
   ]
  },
  {
   "cell_type": "code",
   "execution_count": 301,
   "metadata": {},
   "outputs": [],
   "source": [
    "#T0 = 2.7255 * pq.Kelvin\n",
    "T1 = 4000 * pq.Kelvin\n",
    "T2 = 5000 * pq.Kelvin\n",
    "T3 = 6000 * pq.Kelvin\n",
    "T4 = 7000 * pq.Kelvin"
   ]
  },
  {
   "cell_type": "markdown",
   "metadata": {},
   "source": [
    "wl = np.arange(10,2000,10) * pq.nm\n",
    "fig, ax = plt.subplots(figsize=(12, 8))\n",
    "ax.plot(wl, B(wl,T4), label='7000K')\n",
    "ax.plot(wl, B(wl,T3), label='6000K')\n",
    "ax.plot(wl, B(wl,T2), label='5000K')\n",
    "ax.plot(wl, B(wl,T1), label='4000K')\n",
    "#ax.plot(wl, B(wl,T0), label='2.7255K')\n",
    "ax.legend()\n",
    "ax.set_title('Blackbody radiation')\n",
    "ax.title.set_fontsize(20)\n",
    "ax.set_xlabel('wavelength in nm')\n",
    "ax.xaxis.label.set_fontsize(15)\n",
    "ax.set_ylabel('spectral radiance $(W m^{-2}nm^{-1}sr^{-1})$')\n",
    "ax.yaxis.label.set_fontsize(15)\n",
    "ax.axvspan(0,400,facecolor = 'violet',alpha = 0.6)\n",
    "ax.axvspan(400,700, facecolor='yellow', alpha = 0.5)\n",
    "ax.axvspan(700,2000, facecolor ='red', alpha = 0.3)\n",
    "ax.text(150,6e4, 'UV', fontsize=30, color = 'b')\n",
    "ax.text(1200,6e4, 'IR', fontsize=30, color = 'r')\n",
    "ax.text(420,6e4, 'VISIBLE', fontsize=20, color = 'green')"
   ]
  },
  {
   "cell_type": "code",
   "execution_count": 302,
   "metadata": {},
   "outputs": [
    {
     "name": "stdout",
     "output_type": "stream",
     "text": [
      "UnitConstant('Wien_wavelength_displacement_law_constant', 0.0028977685 * m*K, 'b')\n"
     ]
    }
   ],
   "source": [
    "print(repr(pq.constants.b))"
   ]
  },
  {
   "cell_type": "code",
   "execution_count": 303,
   "metadata": {},
   "outputs": [
    {
     "name": "stdout",
     "output_type": "stream",
     "text": [
      "3219 Angstrom\n"
     ]
    }
   ],
   "source": [
    "l_max = pq.constants.b/(9000 * pq.K)\n",
    "print('%d Angstrom' %l_max.rescale(pq.angstrom))"
   ]
  },
  {
   "cell_type": "code",
   "execution_count": 304,
   "metadata": {},
   "outputs": [
    {
     "name": "stdout",
     "output_type": "stream",
     "text": [
      "Its effective temperature will be: 7244 K\n"
     ]
    }
   ],
   "source": [
    "# Suppose that the radiation from a SN Type 1a  has its maximum intensity at 400 nm\n",
    "lmax  = 400 * pq.nm\n",
    "T = pq.constants.b / lmax\n",
    "print(\"Its effective temperature will be: %d K\" %T.simplified)"
   ]
  },
  {
   "cell_type": "code",
   "execution_count": 305,
   "metadata": {},
   "outputs": [
    {
     "name": "stdout",
     "output_type": "stream",
     "text": [
      "1 sigma (Stefan_Boltzmann_constant) = 5.6704e-08 kg/(s**3*K**4)\n"
     ]
    }
   ],
   "source": [
    "print(pq.constants.sigma, '=', pq.constants.sigma.simplified)"
   ]
  },
  {
   "cell_type": "code",
   "execution_count": 306,
   "metadata": {},
   "outputs": [
    {
     "name": "stdout",
     "output_type": "stream",
     "text": [
      "1.30671e+26 m\n"
     ]
    }
   ],
   "source": [
    "# We will need the value of the radius of the Sun:\n",
    "#sun_radius = 695000000.0 * pq.m\n",
    "#l_sun = 3.839e26 * pq.watt\n",
    "hubble_radius = 1.30671*10**26 * pq.m\n",
    "print(hubble_radius)\n",
    "#l_sun = 3.839e26 * pq.watt\n",
    "#temp_sun = (l_sun/(4 * np.pi * sun_radius**2 * pq.constants.sigma))**(1./4)\n",
    "#print (temp_sun.simplified)"
   ]
  },
  {
   "cell_type": "code",
   "execution_count": 307,
   "metadata": {},
   "outputs": [
    {
     "name": "stdout",
     "output_type": "stream",
     "text": [
      "0.0010630813846842417 m*K\n"
     ]
    }
   ],
   "source": [
    "TCMB = 2.7255 *pq.K\n",
    "lmax = pq.constants.b / T_cmb\n",
    "print (lmax.simplified)"
   ]
  },
  {
   "cell_type": "markdown",
   "metadata": {},
   "source": [
    "wl = np.arange(0.1,10,0.1) * pq.mm\n",
    "I = B(wl,TCMB).rescale(pq.watt/(pq.m**2 * pq.mm * pq.sr))\n",
    "fig, ax = plt.subplots(figsize=(10, 8))\n",
    "ax.plot(wl, I*1e7)\n",
    "ax.set_title('Blackbody spectrum at T = 2.7255 K \\\n",
    "\\n (wavelength in mm)')\n",
    "ax.title.set_fontsize(20)\n",
    "ax.set_xlabel('Wavelength in mm')\n",
    "ax.xaxis.label.set_fontsize(15)\n",
    "ax.set_ylabel('Spectral Radiance ($10^{-7} W m^{-2} mm^{-1} sr^{-1}$)')\n",
    "ax.yaxis.label.set_fontsize(15)\n",
    "ax.grid()"
   ]
  },
  {
   "cell_type": "code",
   "execution_count": 309,
   "metadata": {},
   "outputs": [
    {
     "data": {
      "text/plain": [
       "1.3067030578901262e+26"
      ]
     },
     "execution_count": 309,
     "metadata": {},
     "output_type": "execute_result"
    }
   ],
   "source": [
    "R1*(8/np.sqrt(3*a))**(1/7)#/(constants.light_year*10**9)"
   ]
  },
  {
   "cell_type": "code",
   "execution_count": 312,
   "metadata": {},
   "outputs": [
    {
     "data": {
      "text/plain": [
       "13.811976767663971"
      ]
     },
     "execution_count": 312,
     "metadata": {},
     "output_type": "execute_result"
    }
   ],
   "source": [
    "#2 ƛ e (pn/H^2)(g(5)/ln (2 – 1/a^2 j))^2\n",
    "2*lambdabare*(p*n/H**2)*((np.exp(2**(5+(1/2)))/5)/np.log(2-1/(a**2*j)))**2/(constants.light_year*10**9)"
   ]
  },
  {
   "cell_type": "code",
   "execution_count": 316,
   "metadata": {},
   "outputs": [
    {
     "data": {
      "text/plain": [
       "13.811976769267615"
      ]
     },
     "execution_count": 316,
     "metadata": {},
     "output_type": "execute_result"
    }
   ],
   "source": [
    "# Example\n",
    "2*(c*t_k)**2/lambdabare/F**2/(constants.light_year*10**9)"
   ]
  },
  {
   "cell_type": "code",
   "execution_count": 65,
   "metadata": {},
   "outputs": [
    {
     "data": {
      "text/html": [
       "<div>\n",
       "<style scoped>\n",
       "    .dataframe tbody tr th:only-of-type {\n",
       "        vertical-align: middle;\n",
       "    }\n",
       "\n",
       "    .dataframe tbody tr th {\n",
       "        vertical-align: top;\n",
       "    }\n",
       "\n",
       "    .dataframe thead th {\n",
       "        text-align: right;\n",
       "    }\n",
       "</style>\n",
       "<table border=\"1\" class=\"dataframe\">\n",
       "  <thead>\n",
       "    <tr style=\"text-align: right;\">\n",
       "      <th></th>\n",
       "      <th>LaTeXFormula</th>\n",
       "      <th>PlainFormula</th>\n",
       "      <th>gly</th>\n",
       "      <th>m</th>\n",
       "    </tr>\n",
       "  </thead>\n",
       "  <tbody>\n",
       "    <tr>\n",
       "      <th>0</th>\n",
       "      <td>$$2\\hbar^2/(G.m_e.m_p.m_n)$$</td>\n",
       "      <td>2*hbar**2/(G_s*m_e*m_p*m_n)</td>\n",
       "      <td>1.380048e+10</td>\n",
       "      <td>1.305626e+26</td>\n",
       "    </tr>\n",
       "    <tr>\n",
       "      <th>1</th>\n",
       "      <td>$$2\\hbar^2/(G.m_e.m_p^2)$$</td>\n",
       "      <td>2*hbar**2/(G_s*m_e*m_p**2)</td>\n",
       "      <td>1.380048e+10</td>\n",
       "      <td>1.305626e+26</td>\n",
       "    </tr>\n",
       "    <tr>\n",
       "      <th>2</th>\n",
       "      <td>$$ƛ_e g(6) and g(6)=𝑒𝑥𝑝(2^{6+1/2/6})$$</td>\n",
       "      <td>lambdabare*(np.exp(2**(6+(1/2)))/6)</td>\n",
       "      <td>1.382101e+10</td>\n",
       "      <td>1.307569e+26</td>\n",
       "    </tr>\n",
       "    <tr>\n",
       "      <th>3</th>\n",
       "      <td>$$ƛ_e s_4^5$$</td>\n",
       "      <td>lambdabare*s_4**5</td>\n",
       "      <td>1.380418e+10</td>\n",
       "      <td>1.305976e+26</td>\n",
       "    </tr>\n",
       "    <tr>\n",
       "      <th>4</th>\n",
       "      <td>$$ƛ_p(WZ)^4$$</td>\n",
       "      <td>lambdabar_p*(W*Z)**4</td>\n",
       "      <td>1.394388e+10</td>\n",
       "      <td>1.319193e+26</td>\n",
       "    </tr>\n",
       "    <tr>\n",
       "      <th>5</th>\n",
       "      <td>$$2^{128}.ƛ_e$$</td>\n",
       "      <td>2**128*lambdabare</td>\n",
       "      <td>1.388933e+10</td>\n",
       "      <td>1.314032e+26</td>\n",
       "    </tr>\n",
       "    <tr>\n",
       "      <th>6</th>\n",
       "      <td>$$ƛ_e(τ/μ)^{32}/ω$$</td>\n",
       "      <td>lambdabare*(τ/μ)**32/ω</td>\n",
       "      <td>1.379565e+10</td>\n",
       "      <td>1.305170e+26</td>\n",
       "    </tr>\n",
       "    <tr>\n",
       "      <th>7</th>\n",
       "      <td>$$2ƛ_e a_s^2 W^7$$</td>\n",
       "      <td>2*lambdabare*a_s**2*W**7</td>\n",
       "      <td>1.409009e+10</td>\n",
       "      <td>1.333025e+26</td>\n",
       "    </tr>\n",
       "    <tr>\n",
       "      <th>8</th>\n",
       "      <td>$$ƛ_e(FZ)^{7/2}$$</td>\n",
       "      <td>lambdabare*(F*Z)**(7/2)</td>\n",
       "      <td>1.395438e+10</td>\n",
       "      <td>1.320186e+26</td>\n",
       "    </tr>\n",
       "    <tr>\n",
       "      <th>9</th>\n",
       "      <td>$$\\lambda_e(OM)^{7/10}$$</td>\n",
       "      <td>lambda_e*(OM)**(7/10)</td>\n",
       "      <td>1.393850e+10</td>\n",
       "      <td>1.318684e+26</td>\n",
       "    </tr>\n",
       "    <tr>\n",
       "      <th>10</th>\n",
       "      <td>$$R_N (OM.OB/n_{ph})^2$$</td>\n",
       "      <td>R_N*(OM*OB/n_ph)**2</td>\n",
       "      <td>1.376677e+10</td>\n",
       "      <td>1.302437e+26</td>\n",
       "    </tr>\n",
       "    <tr>\n",
       "      <th>11</th>\n",
       "      <td>$$R_N (\\pi.OM.OB/3)^2 /exp(e^6)$$</td>\n",
       "      <td>R_N*(np.pi*OM*OB /3)**2/(np.exp(e**6))</td>\n",
       "      <td>1.389639e+10</td>\n",
       "      <td>1.314700e+26</td>\n",
       "    </tr>\n",
       "    <tr>\n",
       "      <th>12</th>\n",
       "      <td>$$ƛ_e 2^{128} / d_e^2 (H /p )^6$$</td>\n",
       "      <td>lambdabare*2**128/d_e**2 *(H /p )**6</td>\n",
       "      <td>1.390251e+10</td>\n",
       "      <td>1.315279e+26</td>\n",
       "    </tr>\n",
       "    <tr>\n",
       "      <th>13</th>\n",
       "      <td>$$((a/\\sqrt(137)(4\\pi.F)^2)ƛ_e^4l_{ph}^3(ƛ_{CMB}/l_P)^8)^{1/7}$$</td>\n",
       "      <td>((a/(np.sqrt(137)*(4*np.pi*F)**2))*(lambdabare**4)*(l_ph**3)*(lambdabar_cmb/l_P)**8)**(1/7)</td>\n",
       "      <td>1.380699e+10</td>\n",
       "      <td>1.306242e+26</td>\n",
       "    </tr>\n",
       "    <tr>\n",
       "      <th>14</th>\n",
       "      <td>$$4P^3l_{Wi}ƛ_e/R_N$$</td>\n",
       "      <td>(4*P**3*l_wi*lambdabare)/R_N</td>\n",
       "      <td>1.381641e+10</td>\n",
       "      <td>1.307134e+26</td>\n",
       "    </tr>\n",
       "    <tr>\n",
       "      <th>15</th>\n",
       "      <td>$$R_{a}=ƛ_e.(2.\\pi^2.a^3)^5$$</td>\n",
       "      <td>((constants.pi**2*(2*(1/constants.fine_structure)**3))**5)*(constants.hbar/(constants.m_e*constants.c))</td>\n",
       "      <td>1.380418e+10</td>\n",
       "      <td>1.305976e+26</td>\n",
       "    </tr>\n",
       "    <tr>\n",
       "      <th>16</th>\n",
       "      <td>$$ƛ_FP^2e/8$$</td>\n",
       "      <td>lambdabar_F*P**2*e/8</td>\n",
       "      <td>1.381415e+10</td>\n",
       "      <td>1.306919e+26</td>\n",
       "    </tr>\n",
       "    <tr>\n",
       "      <th>17</th>\n",
       "      <td>$$ƛ_FP^3/p^7$$</td>\n",
       "      <td>lambdabar_F*P**3/p**7</td>\n",
       "      <td>1.380312e+10</td>\n",
       "      <td>1.305876e+26</td>\n",
       "    </tr>\n",
       "    <tr>\n",
       "      <th>18</th>\n",
       "      <td>$$R_{Rydberg}=\\frac{(ƛ_{Ryd}.n^4)^2}{ƛ_p}$$</td>\n",
       "      <td>((lambdabarRyd*n**4)**2)/lambdabar_p</td>\n",
       "      <td>1.381037e+10</td>\n",
       "      <td>1.306562e+26</td>\n",
       "    </tr>\n",
       "    <tr>\n",
       "      <th>19</th>\n",
       "      <td>$$R_{ƛ_w}=ƛ_w.(\\frac{2^{70}.\\gamma.n^3}{\\Gamma^4})^2$$</td>\n",
       "      <td>(((2**70*np.euler_gamma*n**3)/Gamma**4)**2)*ƛ_w</td>\n",
       "      <td>1.381198e+10</td>\n",
       "      <td>1.306714e+26</td>\n",
       "    </tr>\n",
       "  </tbody>\n",
       "</table>\n",
       "</div>"
      ],
      "text/plain": [
       "                                                        LaTeXFormula  \\\n",
       "0                                       $$2\\hbar^2/(G.m_e.m_p.m_n)$$   \n",
       "1                                         $$2\\hbar^2/(G.m_e.m_p^2)$$   \n",
       "2                             $$ƛ_e g(6) and g(6)=𝑒𝑥𝑝(2^{6+1/2/6})$$   \n",
       "3                                                      $$ƛ_e s_4^5$$   \n",
       "4                                                      $$ƛ_p(WZ)^4$$   \n",
       "5                                                    $$2^{128}.ƛ_e$$   \n",
       "6                                                $$ƛ_e(τ/μ)^{32}/ω$$   \n",
       "7                                                 $$2ƛ_e a_s^2 W^7$$   \n",
       "8                                                  $$ƛ_e(FZ)^{7/2}$$   \n",
       "9                                           $$\\lambda_e(OM)^{7/10}$$   \n",
       "10                                          $$R_N (OM.OB/n_{ph})^2$$   \n",
       "11                                 $$R_N (\\pi.OM.OB/3)^2 /exp(e^6)$$   \n",
       "12                                 $$ƛ_e 2^{128} / d_e^2 (H /p )^6$$   \n",
       "13  $$((a/\\sqrt(137)(4\\pi.F)^2)ƛ_e^4l_{ph}^3(ƛ_{CMB}/l_P)^8)^{1/7}$$   \n",
       "14                                             $$4P^3l_{Wi}ƛ_e/R_N$$   \n",
       "15                                     $$R_{a}=ƛ_e.(2.\\pi^2.a^3)^5$$   \n",
       "16                                                     $$ƛ_FP^2e/8$$   \n",
       "17                                                    $$ƛ_FP^3/p^7$$   \n",
       "18                       $$R_{Rydberg}=\\frac{(ƛ_{Ryd}.n^4)^2}{ƛ_p}$$   \n",
       "19            $$R_{ƛ_w}=ƛ_w.(\\frac{2^{70}.\\gamma.n^3}{\\Gamma^4})^2$$   \n",
       "\n",
       "                                                                                                PlainFormula  \\\n",
       "0                                                                                2*hbar**2/(G_s*m_e*m_p*m_n)   \n",
       "1                                                                                 2*hbar**2/(G_s*m_e*m_p**2)   \n",
       "2                                                                        lambdabare*(np.exp(2**(6+(1/2)))/6)   \n",
       "3                                                                                          lambdabare*s_4**5   \n",
       "4                                                                                       lambdabar_p*(W*Z)**4   \n",
       "5                                                                                          2**128*lambdabare   \n",
       "6                                                                                     lambdabare*(τ/μ)**32/ω   \n",
       "7                                                                                   2*lambdabare*a_s**2*W**7   \n",
       "8                                                                                    lambdabare*(F*Z)**(7/2)   \n",
       "9                                                                                      lambda_e*(OM)**(7/10)   \n",
       "10                                                                                       R_N*(OM*OB/n_ph)**2   \n",
       "11                                                                    R_N*(np.pi*OM*OB /3)**2/(np.exp(e**6))   \n",
       "12                                                                      lambdabare*2**128/d_e**2 *(H /p )**6   \n",
       "13               ((a/(np.sqrt(137)*(4*np.pi*F)**2))*(lambdabare**4)*(l_ph**3)*(lambdabar_cmb/l_P)**8)**(1/7)   \n",
       "14                                                                              (4*P**3*l_wi*lambdabare)/R_N   \n",
       "15   ((constants.pi**2*(2*(1/constants.fine_structure)**3))**5)*(constants.hbar/(constants.m_e*constants.c))   \n",
       "16                                                                                      lambdabar_F*P**2*e/8   \n",
       "17                                                                                     lambdabar_F*P**3/p**7   \n",
       "18                                                                      ((lambdabarRyd*n**4)**2)/lambdabar_p   \n",
       "19                                                           (((2**70*np.euler_gamma*n**3)/Gamma**4)**2)*ƛ_w   \n",
       "\n",
       "             gly             m  \n",
       "0   1.380048e+10  1.305626e+26  \n",
       "1   1.380048e+10  1.305626e+26  \n",
       "2   1.382101e+10  1.307569e+26  \n",
       "3   1.380418e+10  1.305976e+26  \n",
       "4   1.394388e+10  1.319193e+26  \n",
       "5   1.388933e+10  1.314032e+26  \n",
       "6   1.379565e+10  1.305170e+26  \n",
       "7   1.409009e+10  1.333025e+26  \n",
       "8   1.395438e+10  1.320186e+26  \n",
       "9   1.393850e+10  1.318684e+26  \n",
       "10  1.376677e+10  1.302437e+26  \n",
       "11  1.389639e+10  1.314700e+26  \n",
       "12  1.390251e+10  1.315279e+26  \n",
       "13  1.380699e+10  1.306242e+26  \n",
       "14  1.381641e+10  1.307134e+26  \n",
       "15  1.380418e+10  1.305976e+26  \n",
       "16  1.381415e+10  1.306919e+26  \n",
       "17  1.380312e+10  1.305876e+26  \n",
       "18  1.381037e+10  1.306562e+26  \n",
       "19  1.381198e+10  1.306714e+26  "
      ]
     },
     "execution_count": 65,
     "metadata": {},
     "output_type": "execute_result"
    }
   ],
   "source": [
    "import pandas as pd\n",
    "display = pd.options.display\n",
    "display.max_columns = (None)\n",
    "display.max_rows = 35\n",
    "display.max_colwidth = 199\n",
    "display.width = None\n",
    "\n",
    "df2 = pd.read_csv(\"hubble-table2.csv\", dtype = {\"gly\" : \"float64\",\"m\" : \"float64\"}, skiprows = [29,31], sep = \",\")\n",
    "df3 = pd.read_csv(\"hubble-table3.csv\", dtype = {\"gly\" : \"float64\",\"m\" : \"float64\"}, skiprows = [30,31], sep = \",\")\n",
    "df2.head (20)"
   ]
  },
  {
   "cell_type": "code",
   "execution_count": 320,
   "metadata": {},
   "outputs": [
    {
     "data": {
      "text/plain": [
       "4.939837402842264e+30"
      ]
     },
     "execution_count": 320,
     "metadata": {},
     "output_type": "execute_result"
    }
   ],
   "source": [
    "2*lambdabare*2**128*((137**2 + np.pi**2 + e**2 )/p*H)"
   ]
  },
  {
   "cell_type": "code",
   "execution_count": 321,
   "metadata": {},
   "outputs": [
    {
     "data": {
      "text/plain": [
       "-18795.489696091594"
      ]
     },
     "execution_count": 321,
     "metadata": {},
     "output_type": "execute_result"
    }
   ],
   "source": [
    "(1 - (137**2 + np.pi**2 + e**2 )/p*H)"
   ]
  },
  {
   "cell_type": "code",
   "execution_count": 322,
   "metadata": {},
   "outputs": [
    {
     "data": {
      "text/plain": [
       "1.3140318971018876e+26"
      ]
     },
     "execution_count": 322,
     "metadata": {},
     "output_type": "execute_result"
    }
   ],
   "source": [
    "lambdabare*2**128*1-(137**2 + np.pi**2 + e**2 )/(p*H)"
   ]
  },
  {
   "cell_type": "code",
   "execution_count": 323,
   "metadata": {},
   "outputs": [
    {
     "data": {
      "text/plain": [
       "1.3067544300679512e+26"
      ]
     },
     "execution_count": 323,
     "metadata": {},
     "output_type": "execute_result"
    }
   ],
   "source": [
    "lambdabare*2**128/(1+(137**2 + np.pi**2 + e**2)/(H*p) )"
   ]
  },
  {
   "cell_type": "code",
   "execution_count": 324,
   "metadata": {},
   "outputs": [
    {
     "data": {
      "text/plain": [
       "13.811976831988007"
      ]
     },
     "execution_count": 324,
     "metadata": {},
     "output_type": "execute_result"
    }
   ],
   "source": [
    "((1-(137**2 + np.pi**2 + e**2 )/(p*H))*2**128)*lambdabare/(constants.light_year*10**9)"
   ]
  },
  {
   "cell_type": "code",
   "execution_count": 325,
   "metadata": {},
   "outputs": [
    {
     "data": {
      "text/plain": [
       "13.812405224471854"
      ]
     },
     "execution_count": 325,
     "metadata": {},
     "output_type": "execute_result"
    }
   ],
   "source": [
    "lambdabare*2**128/(1+(137**2 + np.pi**2 + e**2)/(H*p) )/(constants.light_year*10**9)"
   ]
  },
  {
   "cell_type": "code",
   "execution_count": 326,
   "metadata": {},
   "outputs": [
    {
     "data": {
      "text/plain": [
       "1.3152791928061182e+26"
      ]
     },
     "execution_count": 326,
     "metadata": {},
     "output_type": "execute_result"
    }
   ],
   "source": [
    "lambdabare*2**128 / d_e**2 * (H /p )**6"
   ]
  },
  {
   "cell_type": "code",
   "execution_count": 327,
   "metadata": {},
   "outputs": [
    {
     "data": {
      "text/plain": [
       "1.3067153891523966e+26"
      ]
     },
     "execution_count": 327,
     "metadata": {},
     "output_type": "execute_result"
    }
   ],
   "source": [
    "#ƛ_e(3j^j/(2H)^{1/6} \n",
    "lambdabare*(3*j**j/(2*H))**(1/6)"
   ]
  },
  {
   "cell_type": "code",
   "execution_count": 66,
   "metadata": {},
   "outputs": [
    {
     "data": {
      "text/html": [
       "<div>\n",
       "<style scoped>\n",
       "    .dataframe tbody tr th:only-of-type {\n",
       "        vertical-align: middle;\n",
       "    }\n",
       "\n",
       "    .dataframe tbody tr th {\n",
       "        vertical-align: top;\n",
       "    }\n",
       "\n",
       "    .dataframe thead th {\n",
       "        text-align: right;\n",
       "    }\n",
       "</style>\n",
       "<table border=\"1\" class=\"dataframe\">\n",
       "  <thead>\n",
       "    <tr style=\"text-align: right;\">\n",
       "      <th></th>\n",
       "      <th>LaTeXFormula</th>\n",
       "      <th>PlainFormula</th>\n",
       "      <th>gly</th>\n",
       "      <th>m</th>\n",
       "    </tr>\n",
       "  </thead>\n",
       "  <tbody>\n",
       "    <tr>\n",
       "      <th>0</th>\n",
       "      <td>$$(11/4)^{3/610}R1^2 /R_N$$</td>\n",
       "      <td>(11/4)**(3/610)*R1/R_N</td>\n",
       "      <td>1.381198e+10</td>\n",
       "      <td>1.306714e+26</td>\n",
       "    </tr>\n",
       "    <tr>\n",
       "      <th>1</th>\n",
       "      <td>$$ƛ_e 2^{137} (\\gamma n^3 )^2 /(137^3 \\Gamma^{11})$$</td>\n",
       "      <td>lambdabare*2**137*(gamma*n**3)**2/(137**3*Gamma**11)</td>\n",
       "      <td>1.381198e+10</td>\n",
       "      <td>1.306714e+26</td>\n",
       "    </tr>\n",
       "    <tr>\n",
       "      <th>2</th>\n",
       "      <td>$$((1-(137^2 + np.pi^2 + e^2 )/(p.H)).2^{128})ƛ_e$$</td>\n",
       "      <td>((1-(137**2 + np.pi**2 + e**2 )/(p*H))*2**128)*lambdabare</td>\n",
       "      <td>1.381198e+10</td>\n",
       "      <td>1.306714e+26</td>\n",
       "    </tr>\n",
       "    <tr>\n",
       "      <th>3</th>\n",
       "      <td>$$ƛ_e g(6)/ (1 + \\sqrt(137 +\\sqrt(136))/jn)$$</td>\n",
       "      <td>((constants.hbar/(constants.m_e*constants.c))*np.exp(2**(6+(1/2)))/6)/(1+np.sqrt(137**2+np.sqrt(136))/(j*n))</td>\n",
       "      <td>1.381198e+10</td>\n",
       "      <td>1.306714e+26</td>\n",
       "    </tr>\n",
       "    <tr>\n",
       "      <th>4</th>\n",
       "      <td>$$2ƛ_e(pn/H^2)(g(5)/ln (2-1/a^2.j))^2 and g(5)=exp(2^{(5+1/2)/5})$$</td>\n",
       "      <td>2*lambdabare*(p*n/H**2)*(np.exp(2**(5+(1/2)))/5/np.log(2-((a**2*j)**-1)))**2</td>\n",
       "      <td>1.381198e+10</td>\n",
       "      <td>1.306714e+26</td>\n",
       "    </tr>\n",
       "    <tr>\n",
       "      <th>5</th>\n",
       "      <td>$$R_{ƛ_w}=ƛ_e/F^2.(\\frac{2^{70}.\\gamma.n^3}{\\Gamma^4})^2$$</td>\n",
       "      <td>(((2**70*np.euler_gamma*n**3)/Gamma**4)**2)*(lambdabare/F**2)</td>\n",
       "      <td>1.381198e+10</td>\n",
       "      <td>1.306714e+26</td>\n",
       "    </tr>\n",
       "    <tr>\n",
       "      <th>6</th>\n",
       "      <td>$$2(l_K /F)^2 /ƛ_e$$</td>\n",
       "      <td>2*(l_K/F)**2/lambdabare</td>\n",
       "      <td>1.381198e+10</td>\n",
       "      <td>1.306714e+26</td>\n",
       "    </tr>\n",
       "  </tbody>\n",
       "</table>\n",
       "</div>"
      ],
      "text/plain": [
       "                                                          LaTeXFormula  \\\n",
       "0                                          $$(11/4)^{3/610}R1^2 /R_N$$   \n",
       "1                 $$ƛ_e 2^{137} (\\gamma n^3 )^2 /(137^3 \\Gamma^{11})$$   \n",
       "2                  $$((1-(137^2 + np.pi^2 + e^2 )/(p.H)).2^{128})ƛ_e$$   \n",
       "3                        $$ƛ_e g(6)/ (1 + \\sqrt(137 +\\sqrt(136))/jn)$$   \n",
       "4  $$2ƛ_e(pn/H^2)(g(5)/ln (2-1/a^2.j))^2 and g(5)=exp(2^{(5+1/2)/5})$$   \n",
       "5           $$R_{ƛ_w}=ƛ_e/F^2.(\\frac{2^{70}.\\gamma.n^3}{\\Gamma^4})^2$$   \n",
       "6                                                 $$2(l_K /F)^2 /ƛ_e$$   \n",
       "\n",
       "                                                                                                    PlainFormula  \\\n",
       "0                                                                                         (11/4)**(3/610)*R1/R_N   \n",
       "1                                                           lambdabare*2**137*(gamma*n**3)**2/(137**3*Gamma**11)   \n",
       "2                                                      ((1-(137**2 + np.pi**2 + e**2 )/(p*H))*2**128)*lambdabare   \n",
       "3   ((constants.hbar/(constants.m_e*constants.c))*np.exp(2**(6+(1/2)))/6)/(1+np.sqrt(137**2+np.sqrt(136))/(j*n))   \n",
       "4                                   2*lambdabare*(p*n/H**2)*(np.exp(2**(5+(1/2)))/5/np.log(2-((a**2*j)**-1)))**2   \n",
       "5                                                  (((2**70*np.euler_gamma*n**3)/Gamma**4)**2)*(lambdabare/F**2)   \n",
       "6                                                                                        2*(l_K/F)**2/lambdabare   \n",
       "\n",
       "            gly             m  \n",
       "0  1.381198e+10  1.306714e+26  \n",
       "1  1.381198e+10  1.306714e+26  \n",
       "2  1.381198e+10  1.306714e+26  \n",
       "3  1.381198e+10  1.306714e+26  \n",
       "4  1.381198e+10  1.306714e+26  \n",
       "5  1.381198e+10  1.306714e+26  \n",
       "6  1.381198e+10  1.306714e+26  "
      ]
     },
     "execution_count": 66,
     "metadata": {},
     "output_type": "execute_result"
    }
   ],
   "source": [
    "df3 = pd.read_csv(\"hubble-table3.csv\", dtype = {\"gly\" : \"float64\",\"m\" : \"float64\"}, skiprows = [11,31], sep = \",\")\n",
    "df3.head (11)"
   ]
  },
  {
   "cell_type": "code",
   "execution_count": 67,
   "metadata": {},
   "outputs": [
    {
     "name": "stdout",
     "output_type": "stream",
     "text": [
      "                gly             m\n",
      "count  7.000000e+00  7.000000e+00\n",
      "mean   1.381198e+10  1.306714e+26\n",
      "std    1.427988e+02  1.350981e+18\n",
      "min    1.381198e+10  1.306714e+26\n",
      "25%    1.381198e+10  1.306714e+26\n",
      "50%    1.381198e+10  1.306714e+26\n",
      "75%    1.381198e+10  1.306714e+26\n",
      "max    1.381198e+10  1.306714e+26\n"
     ]
    }
   ],
   "source": [
    "print(df3.describe())\n",
    "df3.describe();"
   ]
  },
  {
   "cell_type": "code",
   "execution_count": 335,
   "metadata": {},
   "outputs": [
    {
     "data": {
      "image/png": "[encoded data removed]",
      "text/plain": [
       "<Figure size 432x288 with 1 Axes>"
      ]
     },
     "metadata": {
      "needs_background": "light"
     },
     "output_type": "display_data"
    }
   ],
   "source": [
    "from mpl_toolkits.axes_grid1 import host_subplot\n",
    "import mpl_toolkits.axisartist as AA\n",
    "import matplotlib.pyplot as plt\n",
    "fig, ax = plt.subplots()\n",
    "#ax.set_xscale('linear', basex=2)\n",
    "#ax.set_yscale('linear', basey=2)\n",
    "ax.scatter(df2.iloc[:,[3,3]], df2.iloc[:,[2,2]], s=12 )\n",
    "plt.ylabel('Value displayed in $10^{10}$ Gly')\n",
    "plt.xlabel('Distance displayed in $10^{26}$m')\n",
    "plt.title('Hubble distance table', fontsize=18, color=\"black\")\n",
    "ax.grid()\n",
    "#host = host_subplot(111, axes_class=AA.Axes)\n",
    "#par2 = host.twiny()\n",
    "#p3, = par2.plot([0, 10, 14], [0, 1.6, 83096], label=\"Velocity\")\n",
    "#ax.set_xlim(13.795*10**9, 13.905*10**9)\n",
    "#par2.set_xlim(-0.5, 8)\n",
    "#par2.set_ylim(0, 10e99)\n",
    "\n",
    "#host.legend()\n",
    "#plt.colorbar(label='log$_{10}$(population)')\n",
    "#host.axis[\"bottom\"].label.set_color(p1.get_color())\n",
    "#par2.axis[\"bottom\"].label.set_color(p3.get_color())\n",
    "plt.show()"
   ]
  },
  {
   "cell_type": "code",
   "execution_count": 336,
   "metadata": {},
   "outputs": [
    {
     "name": "stdout",
     "output_type": "stream",
     "text": [
      "                   gly                m\n",
      "count  3.000000000e+01  3.000000000e+01\n",
      "mean   1.381055226e+10  1.306554403e+26\n",
      "std    3.642661851e+06  3.716318457e+22\n",
      "min    1.380047597e+10  1.305625836e+26\n",
      "25%    1.381087639e+10  1.306573059e+26\n",
      "50%    1.381197677e+10  1.306713906e+26\n",
      "75%    1.381199411e+10  1.306715535e+26\n",
      "max    1.381641431e+10  1.307133718e+26\n"
     ]
    }
   ],
   "source": [
    "print(df2.describe())\n",
    "df2.describe();"
   ]
  },
  {
   "cell_type": "code",
   "execution_count": 337,
   "metadata": {},
   "outputs": [
    {
     "data": {
      "text/html": [
       "<div>\n",
       "<style scoped>\n",
       "    .dataframe tbody tr th:only-of-type {\n",
       "        vertical-align: middle;\n",
       "    }\n",
       "\n",
       "    .dataframe tbody tr th {\n",
       "        vertical-align: top;\n",
       "    }\n",
       "\n",
       "    .dataframe thead th {\n",
       "        text-align: right;\n",
       "    }\n",
       "</style>\n",
       "<table border=\"1\" class=\"dataframe\">\n",
       "  <thead>\n",
       "    <tr style=\"text-align: right;\">\n",
       "      <th></th>\n",
       "      <th>gly</th>\n",
       "      <th>m</th>\n",
       "    </tr>\n",
       "  </thead>\n",
       "  <tbody>\n",
       "    <tr>\n",
       "      <th>count</th>\n",
       "      <td>7.000000000e+00</td>\n",
       "      <td>7.000000000e+00</td>\n",
       "    </tr>\n",
       "    <tr>\n",
       "      <th>mean</th>\n",
       "      <td>1.381197679e+10</td>\n",
       "      <td>1.306713897e+26</td>\n",
       "    </tr>\n",
       "    <tr>\n",
       "      <th>std</th>\n",
       "      <td>1.427988289e+02</td>\n",
       "      <td>1.350981226e+18</td>\n",
       "    </tr>\n",
       "    <tr>\n",
       "      <th>min</th>\n",
       "      <td>1.381197653e+10</td>\n",
       "      <td>1.306713872e+26</td>\n",
       "    </tr>\n",
       "    <tr>\n",
       "      <th>25%</th>\n",
       "      <td>1.381197677e+10</td>\n",
       "      <td>1.306713895e+26</td>\n",
       "    </tr>\n",
       "    <tr>\n",
       "      <th>50%</th>\n",
       "      <td>1.381197677e+10</td>\n",
       "      <td>1.306713895e+26</td>\n",
       "    </tr>\n",
       "    <tr>\n",
       "      <th>75%</th>\n",
       "      <td>1.381197689e+10</td>\n",
       "      <td>1.306713906e+26</td>\n",
       "    </tr>\n",
       "    <tr>\n",
       "      <th>max</th>\n",
       "      <td>1.381197695e+10</td>\n",
       "      <td>1.306713912e+26</td>\n",
       "    </tr>\n",
       "  </tbody>\n",
       "</table>\n",
       "</div>"
      ],
      "text/plain": [
       "                   gly                m\n",
       "count  7.000000000e+00  7.000000000e+00\n",
       "mean   1.381197679e+10  1.306713897e+26\n",
       "std    1.427988289e+02  1.350981226e+18\n",
       "min    1.381197653e+10  1.306713872e+26\n",
       "25%    1.381197677e+10  1.306713895e+26\n",
       "50%    1.381197677e+10  1.306713895e+26\n",
       "75%    1.381197689e+10  1.306713906e+26\n",
       "max    1.381197695e+10  1.306713912e+26"
      ]
     },
     "execution_count": 337,
     "metadata": {},
     "output_type": "execute_result"
    }
   ],
   "source": [
    "df3.describe()"
   ]
  },
  {
   "cell_type": "code",
   "execution_count": 338,
   "metadata": {},
   "outputs": [
    {
     "data": {
      "text/plain": [
       "LaTeXFormula      object\n",
       " PlainFormula     object\n",
       " Gly             float64\n",
       " m               float64\n",
       "dtype: object"
      ]
     },
     "execution_count": 338,
     "metadata": {},
     "output_type": "execute_result"
    }
   ],
   "source": [
    "df.dtypes"
   ]
  },
  {
   "cell_type": "code",
   "execution_count": 339,
   "metadata": {},
   "outputs": [
    {
     "data": {
      "text/plain": [
       "LaTeXFormula      object\n",
       " PlainFormula     object\n",
       " gly             float64\n",
       " m               float64\n",
       "dtype: object"
      ]
     },
     "execution_count": 339,
     "metadata": {},
     "output_type": "execute_result"
    }
   ],
   "source": [
    "df2.dtypes"
   ]
  },
  {
   "cell_type": "code",
   "execution_count": 340,
   "metadata": {},
   "outputs": [
    {
     "data": {
      "text/plain": [
       "LaTeXFormula      object\n",
       " PlainFormula     object\n",
       " gly             float64\n",
       " m               float64\n",
       "dtype: object"
      ]
     },
     "execution_count": 340,
     "metadata": {},
     "output_type": "execute_result"
    }
   ],
   "source": [
    "df3.dtypes"
   ]
  },
  {
   "cell_type": "code",
   "execution_count": 341,
   "metadata": {},
   "outputs": [],
   "source": [
    "#df4.dtypes"
   ]
  },
  {
   "cell_type": "code",
   "execution_count": 342,
   "metadata": {},
   "outputs": [],
   "source": [
    "# df.plot(style=['o','rx'])"
   ]
  },
  {
   "cell_type": "code",
   "execution_count": 343,
   "metadata": {},
   "outputs": [
    {
     "name": "stdout",
     "output_type": "stream",
     "text": [
      "                   gly                m\n",
      "count  7.000000000e+00  7.000000000e+00\n",
      "mean   1.381197679e+10  1.306713897e+26\n",
      "std    1.427988289e+02  1.350981226e+18\n",
      "min    1.381197653e+10  1.306713872e+26\n",
      "25%    1.381197677e+10  1.306713895e+26\n",
      "50%    1.381197677e+10  1.306713895e+26\n",
      "75%    1.381197689e+10  1.306713906e+26\n",
      "max    1.381197695e+10  1.306713912e+26\n"
     ]
    }
   ],
   "source": [
    "print(df3.describe())\n",
    "df3.describe();"
   ]
  },
  {
   "cell_type": "code",
   "execution_count": 344,
   "metadata": {},
   "outputs": [
    {
     "data": {
      "text/html": [
       "<div>\n",
       "<style scoped>\n",
       "    .dataframe tbody tr th:only-of-type {\n",
       "        vertical-align: middle;\n",
       "    }\n",
       "\n",
       "    .dataframe tbody tr th {\n",
       "        vertical-align: top;\n",
       "    }\n",
       "\n",
       "    .dataframe thead th {\n",
       "        text-align: right;\n",
       "    }\n",
       "</style>\n",
       "<table border=\"1\" class=\"dataframe\">\n",
       "  <thead>\n",
       "    <tr style=\"text-align: right;\">\n",
       "      <th></th>\n",
       "      <th>LaTeXFormula</th>\n",
       "      <th>gly</th>\n",
       "      <th>m</th>\n",
       "    </tr>\n",
       "  </thead>\n",
       "  <tbody>\n",
       "    <tr>\n",
       "      <th>0</th>\n",
       "      <td>$$(11/4)^{3/610}R1^2 /R_N$$</td>\n",
       "      <td>1.381197653e+10</td>\n",
       "      <td>1.306713872e+26</td>\n",
       "    </tr>\n",
       "    <tr>\n",
       "      <th>1</th>\n",
       "      <td>$$ƛ_e 2^{137} (\\gamma n^3 )^2 /(137^3 \\Gamma^{11})$$</td>\n",
       "      <td>1.381197695e+10</td>\n",
       "      <td>1.306713912e+26</td>\n",
       "    </tr>\n",
       "    <tr>\n",
       "      <th>2</th>\n",
       "      <td>$$((1-(137^2 + np.pi^2 + e^2 )/(p.H)).2^{128})ƛ_e$$</td>\n",
       "      <td>1.381197683e+10</td>\n",
       "      <td>1.306713901e+26</td>\n",
       "    </tr>\n",
       "    <tr>\n",
       "      <th>3</th>\n",
       "      <td>$$ƛ_e g(6)/ (1 + \\sqrt(137 +\\sqrt(136))/jn)$$</td>\n",
       "      <td>1.381197677e+10</td>\n",
       "      <td>1.306713895e+26</td>\n",
       "    </tr>\n",
       "    <tr>\n",
       "      <th>4</th>\n",
       "      <td>$$2ƛ_e(pn/H^2)(g(5)/ln (2-1/a^2.j))^2 and g(5)=exp(2^{(5+1/2)/5})$$</td>\n",
       "      <td>1.381197677e+10</td>\n",
       "      <td>1.306713895e+26</td>\n",
       "    </tr>\n",
       "    <tr>\n",
       "      <th>5</th>\n",
       "      <td>$$R_{ƛ_w}=ƛ_e/F^2.(\\frac{2^{70}.\\gamma.n^3}{\\Gamma^4})^2$$</td>\n",
       "      <td>1.381197695e+10</td>\n",
       "      <td>1.306713912e+26</td>\n",
       "    </tr>\n",
       "    <tr>\n",
       "      <th>6</th>\n",
       "      <td>$$2(l_K /F)^2 /ƛ_e$$</td>\n",
       "      <td>1.381197677e+10</td>\n",
       "      <td>1.306713895e+26</td>\n",
       "    </tr>\n",
       "  </tbody>\n",
       "</table>\n",
       "</div>"
      ],
      "text/plain": [
       "                                                          LaTeXFormula  \\\n",
       "0                                          $$(11/4)^{3/610}R1^2 /R_N$$   \n",
       "1                 $$ƛ_e 2^{137} (\\gamma n^3 )^2 /(137^3 \\Gamma^{11})$$   \n",
       "2                  $$((1-(137^2 + np.pi^2 + e^2 )/(p.H)).2^{128})ƛ_e$$   \n",
       "3                        $$ƛ_e g(6)/ (1 + \\sqrt(137 +\\sqrt(136))/jn)$$   \n",
       "4  $$2ƛ_e(pn/H^2)(g(5)/ln (2-1/a^2.j))^2 and g(5)=exp(2^{(5+1/2)/5})$$   \n",
       "5           $$R_{ƛ_w}=ƛ_e/F^2.(\\frac{2^{70}.\\gamma.n^3}{\\Gamma^4})^2$$   \n",
       "6                                                 $$2(l_K /F)^2 /ƛ_e$$   \n",
       "\n",
       "               gly                m  \n",
       "0  1.381197653e+10  1.306713872e+26  \n",
       "1  1.381197695e+10  1.306713912e+26  \n",
       "2  1.381197683e+10  1.306713901e+26  \n",
       "3  1.381197677e+10  1.306713895e+26  \n",
       "4  1.381197677e+10  1.306713895e+26  \n",
       "5  1.381197695e+10  1.306713912e+26  \n",
       "6  1.381197677e+10  1.306713895e+26  "
      ]
     },
     "execution_count": 344,
     "metadata": {},
     "output_type": "execute_result"
    }
   ],
   "source": [
    "#df.order(-gly, m)\n",
    "#df.sort_values(by='gly', axis=1, ascending=True, inplace=True)\n",
    "#df.sort(['gly', 'm'], ascending=[True, False])\n",
    "#df1 = df.sort(['gly', 'm'], ascending=[True, False])\n",
    "#stacked_df=df.stack()\n",
    "#stacked_df\n",
    "df3.iloc[:,[0,2,3]]"
   ]
  },
  {
   "cell_type": "code",
   "execution_count": null,
   "metadata": {},
   "outputs": [],
   "source": []
  },
  {
   "cell_type": "code",
   "execution_count": 345,
   "metadata": {},
   "outputs": [],
   "source": [
    "#m, gly = distance['m'], distance['gly']\n",
    "#gly, m = distance['gly'], distance['m']"
   ]
  },
  {
   "cell_type": "code",
   "execution_count": 346,
   "metadata": {},
   "outputs": [
    {
     "data": {
      "image/png": "[encoded data removed]",
      "text/plain": [
       "<Figure size 700x490 with 2 Axes>"
      ]
     },
     "metadata": {
      "needs_background": "light"
     },
     "output_type": "display_data"
    }
   ],
   "source": [
    "%matplotlib inline\n",
    "w = 5\n",
    "h = 3.5\n",
    "d = 140\n",
    "plt.figure(figsize=(w, h), dpi=d)\n",
    "table3=df.iloc[:,[3,3]]\n",
    "table4=df.iloc[:,[2,2]]\n",
    "for area in [13.81190, 13.81195, 13.81199]:\n",
    "    plt.scatter([],[], c='k', alpha=0.6, s=area,\n",
    "                label=str(area) + ' Gly')\n",
    "#plt.scatter(df3.iloc[:,[2,2]], df3.iloc[:,[3,3]], label=None,\n",
    "plt.scatter(df.iloc[:,[3,3]], df.iloc[:,[2,2]],label=None,            \n",
    "#            c=np.log10(table4), cmap='viridis',\n",
    "            cmap='viridis',\n",
    "            s=area, linewidth=0, alpha=0.6)\n",
    "#plt.scatter(df3.iloc[:,[2,2]], df3.iloc[:,[3,3]], s=3 )\n",
    "#plt.ylabel('Value displayed in $10^{10}Gly$')\n",
    "#plt.xlabel('Value displayed in $10^{26}m$')\n",
    "plt.title('Hubble Table', fontsize=14, color=\"black\")\n",
    "\n",
    "plt.legend(scatterpoints=1, frameon=False, labelspacing=1, title='Hubble radius')\n",
    "plt.colorbar(label='')\n",
    "plt.clim(1.378,1.392)\n",
    "plt.grid()"
   ]
  },
  {
   "cell_type": "code",
   "execution_count": 347,
   "metadata": {},
   "outputs": [],
   "source": [
    "import pandas as pd\n",
    "df = df.convert_dtypes(convert_integer=True)"
   ]
  },
  {
   "cell_type": "code",
   "execution_count": 348,
   "metadata": {},
   "outputs": [
    {
     "data": {
      "text/plain": [
       "1.3071337184211224e+26"
      ]
     },
     "execution_count": 348,
     "metadata": {},
     "output_type": "execute_result"
    }
   ],
   "source": [
    "# Example\n",
    "(4*P**3*l_wi*lambdabare)/R_N"
   ]
  },
  {
   "cell_type": "code",
   "execution_count": 349,
   "metadata": {},
   "outputs": [
    {
     "data": {
      "text/plain": [
       "13.813717718551707"
      ]
     },
     "execution_count": 349,
     "metadata": {},
     "output_type": "execute_result"
    }
   ],
   "source": [
    "((e**e**e)**(np.sqrt(a))*(a-136))**(1/2)*lambdabare/(constants.light_year*10**9)"
   ]
  },
  {
   "cell_type": "code",
   "execution_count": 350,
   "metadata": {},
   "outputs": [
    {
     "data": {
      "text/plain": [
       "3814279.1047601975"
      ]
     },
     "execution_count": 350,
     "metadata": {},
     "output_type": "execute_result"
    }
   ],
   "source": [
    "e**e**e"
   ]
  },
  {
   "cell_type": "markdown",
   "metadata": {},
   "source": [
    "$$E_3=e^{e^{e}} \\approx E_4^{(1/ap)}$$"
   ]
  },
  {
   "cell_type": "code",
   "execution_count": 351,
   "metadata": {},
   "outputs": [],
   "source": [
    "# To be tested on Julia\n",
    "#e**e**e**e**(1/a*p)"
   ]
  },
  {
   "cell_type": "code",
   "execution_count": 352,
   "metadata": {},
   "outputs": [],
   "source": [
    "#!pip install tabulate"
   ]
  },
  {
   "cell_type": "code",
   "execution_count": 353,
   "metadata": {},
   "outputs": [],
   "source": [
    "#import pandas as pd\n",
    "#from io import StringIO\n",
    "#from tabulate import tabulate\n",
    "\n",
    "#df = pd.read_csv(\"hubble-table.csv\", dtype = {\"gly_value\" : \"float64\",\"m_value\" : \"float64\"}, skiprows = [22], sep = \",\")\n",
    "#print(tabulate(df, headers='keys', tablefmt='psql'))"
   ]
  },
  {
   "cell_type": "markdown",
   "metadata": {},
   "source": [
    "### Print the last 20 constants of the constant table used in the calculation given above"
   ]
  },
  {
   "cell_type": "code",
   "execution_count": 354,
   "metadata": {},
   "outputs": [
    {
     "data": {
      "text/html": [
       "<div>\n",
       "<style scoped>\n",
       "    .dataframe tbody tr th:only-of-type {\n",
       "        vertical-align: middle;\n",
       "    }\n",
       "\n",
       "    .dataframe tbody tr th {\n",
       "        vertical-align: top;\n",
       "    }\n",
       "\n",
       "    .dataframe thead th {\n",
       "        text-align: right;\n",
       "    }\n",
       "</style>\n",
       "<table border=\"1\" class=\"dataframe\">\n",
       "  <thead>\n",
       "    <tr style=\"text-align: right;\">\n",
       "      <th></th>\n",
       "      <th>symbol</th>\n",
       "      <th>value</th>\n",
       "    </tr>\n",
       "  </thead>\n",
       "  <tbody>\n",
       "    <tr>\n",
       "      <th>15</th>\n",
       "      <td>n</td>\n",
       "      <td>1838.68366173</td>\n",
       "    </tr>\n",
       "    <tr>\n",
       "      <th>16</th>\n",
       "      <td>m_e</td>\n",
       "      <td>constants.m_e</td>\n",
       "    </tr>\n",
       "    <tr>\n",
       "      <th>17</th>\n",
       "      <td>m_p</td>\n",
       "      <td>constants.m_p</td>\n",
       "    </tr>\n",
       "    <tr>\n",
       "      <th>18</th>\n",
       "      <td>m_n</td>\n",
       "      <td>constants.m_n</td>\n",
       "    </tr>\n",
       "    <tr>\n",
       "      <th>19</th>\n",
       "      <td>beta</td>\n",
       "      <td>(H-p)**(-1)</td>\n",
       "    </tr>\n",
       "    <tr>\n",
       "      <th>20</th>\n",
       "      <td>j</td>\n",
       "      <td>(8*np.pi**2)/np.log(2)</td>\n",
       "    </tr>\n",
       "    <tr>\n",
       "      <th>21</th>\n",
       "      <td>k_B</td>\n",
       "      <td>constants.Boltzmann</td>\n",
       "    </tr>\n",
       "    <tr>\n",
       "      <th>22</th>\n",
       "      <td>T_cmb</td>\n",
       "      <td>2.7255</td>\n",
       "    </tr>\n",
       "    <tr>\n",
       "      <th>23</th>\n",
       "      <td>l_P</td>\n",
       "      <td>((constants.hbar*G_s)/constants.c**3)**0.5</td>\n",
       "    </tr>\n",
       "    <tr>\n",
       "      <th>24</th>\n",
       "      <td>ƛ_w</td>\n",
       "      <td>(constants.hbar/(constants.m_e*constants.c))/F**2</td>\n",
       "    </tr>\n",
       "    <tr>\n",
       "      <th>25</th>\n",
       "      <td>b</td>\n",
       "      <td>2.897771955*10**(-3)</td>\n",
       "    </tr>\n",
       "    <tr>\n",
       "      <th>26</th>\n",
       "      <td>𝜔</td>\n",
       "      <td>(h*c)/(k_B*b)</td>\n",
       "    </tr>\n",
       "    <tr>\n",
       "      <th>27</th>\n",
       "      <td>l_ph</td>\n",
       "      <td>(lambdabare*(np.pi*(a**2))**2)</td>\n",
       "    </tr>\n",
       "    <tr>\n",
       "      <th>28</th>\n",
       "      <td>aprime</td>\n",
       "      <td>137.1106292</td>\n",
       "    </tr>\n",
       "    <tr>\n",
       "      <th>29</th>\n",
       "      <td>r_H</td>\n",
       "      <td>(lambdabare*aprime)</td>\n",
       "    </tr>\n",
       "    <tr>\n",
       "      <th>30</th>\n",
       "      <td>G_s</td>\n",
       "      <td>6.67545372e-11</td>\n",
       "    </tr>\n",
       "    <tr>\n",
       "      <th>31</th>\n",
       "      <td>Lucas</td>\n",
       "      <td>170141183460469231731687303715884105727</td>\n",
       "    </tr>\n",
       "    <tr>\n",
       "      <th>32</th>\n",
       "      <td>OM</td>\n",
       "      <td>808017424794512875886459904961710757005754368000000000</td>\n",
       "    </tr>\n",
       "    <tr>\n",
       "      <th>33</th>\n",
       "      <td>OB</td>\n",
       "      <td>4154781481226426191177580544000000</td>\n",
       "    </tr>\n",
       "    <tr>\n",
       "      <th>34</th>\n",
       "      <td>OP</td>\n",
       "      <td>2663849798329448283764291471531459318169741293570162121768960000000000000</td>\n",
       "    </tr>\n",
       "  </tbody>\n",
       "</table>\n",
       "</div>"
      ],
      "text/plain": [
       "    symbol  \\\n",
       "15       n   \n",
       "16     m_e   \n",
       "17     m_p   \n",
       "18     m_n   \n",
       "19    beta   \n",
       "20       j   \n",
       "21     k_B   \n",
       "22   T_cmb   \n",
       "23     l_P   \n",
       "24     ƛ_w   \n",
       "25       b   \n",
       "26       𝜔   \n",
       "27    l_ph   \n",
       "28  aprime   \n",
       "29     r_H   \n",
       "30     G_s   \n",
       "31   Lucas   \n",
       "32      OM   \n",
       "33      OB   \n",
       "34      OP   \n",
       "\n",
       "                                                                        value  \n",
       "15                                                             1838.68366173   \n",
       "16                                                              constants.m_e  \n",
       "17                                                              constants.m_p  \n",
       "18                                                              constants.m_n  \n",
       "19                                                                (H-p)**(-1)  \n",
       "20                                                     (8*np.pi**2)/np.log(2)  \n",
       "21                                                        constants.Boltzmann  \n",
       "22                                                                     2.7255  \n",
       "23                                 ((constants.hbar*G_s)/constants.c**3)**0.5  \n",
       "24                          (constants.hbar/(constants.m_e*constants.c))/F**2  \n",
       "25                                                       2.897771955*10**(-3)  \n",
       "26                                                              (h*c)/(k_B*b)  \n",
       "27                                             (lambdabare*(np.pi*(a**2))**2)  \n",
       "28                                                                137.1106292  \n",
       "29                                                        (lambdabare*aprime)  \n",
       "30                                                             6.67545372e-11  \n",
       "31                                    170141183460469231731687303715884105727  \n",
       "32                     808017424794512875886459904961710757005754368000000000  \n",
       "33                                         4154781481226426191177580544000000  \n",
       "34  2663849798329448283764291471531459318169741293570162121768960000000000000  "
      ]
     },
     "execution_count": 354,
     "metadata": {},
     "output_type": "execute_result"
    }
   ],
   "source": [
    "#df1 = pd.read_csv(\"constant-table.csv\", dtype = {\"value\" : \"float64\"}, skiprows = [2], sep = \",\")\n",
    "df4 = pd.read_csv(\"constant-table.csv\", dtype = {\"value\" : \"float64\"}, skiprows = [11], sep = \",\")\n",
    "#df = pd.to_csv('hubble-table.csv', float_format='%.3f')\n",
    "#df1.head ()\n",
    "df4.tail(20)"
   ]
  },
  {
   "cell_type": "code",
   "execution_count": 355,
   "metadata": {},
   "outputs": [
    {
     "data": {
      "text/plain": [
       "symbol    object\n",
       " value    object\n",
       "dtype: object"
      ]
     },
     "execution_count": 355,
     "metadata": {},
     "output_type": "execute_result"
    }
   ],
   "source": [
    "df4.dtypes"
   ]
  },
  {
   "cell_type": "code",
   "execution_count": 356,
   "metadata": {},
   "outputs": [],
   "source": [
    "# 3**210"
   ]
  },
  {
   "cell_type": "code",
   "execution_count": 357,
   "metadata": {},
   "outputs": [
    {
     "name": "stdout",
     "output_type": "stream",
     "text": [
      "6.67545372e-11\n"
     ]
    }
   ],
   "source": [
    "# Using G_s the Newtonian constant of gravitation estimate by Francis M. Sanchez (Jan 2020)\n",
    "G_s=6.67545372*10**-11\n",
    "print(G_s)"
   ]
  },
  {
   "cell_type": "markdown",
   "metadata": {},
   "source": [
    "========================================================================================================================="
   ]
  },
  {
   "cell_type": "markdown",
   "metadata": {},
   "source": [
    "# Universe Horizon Radius calculus in 3 minutes (method 1)\n",
    "$$R_U=\\frac{2.\\hbar^2}{G.m_e.m_p.m_n}$$"
   ]
  },
  {
   "cell_type": "code",
   "execution_count": 358,
   "metadata": {},
   "outputs": [
    {
     "name": "stdout",
     "output_type": "stream",
     "text": [
      "1.3056258355517771e+26\n"
     ]
    }
   ],
   "source": [
    "R_U=2*constants.hbar**2/(G_s*constants.m_e*constants.m_p*constants.m_n)\n",
    "print(R_U)"
   ]
  },
  {
   "cell_type": "markdown",
   "metadata": {},
   "source": [
    "## Yields 13.802861522337478 Gly (G) and 13.80047597102314 Gyr (G_s)"
   ]
  },
  {
   "cell_type": "code",
   "execution_count": 359,
   "metadata": {},
   "outputs": [
    {
     "data": {
      "text/plain": [
       "13.80047597102314"
      ]
     },
     "execution_count": 359,
     "metadata": {},
     "output_type": "execute_result"
    }
   ],
   "source": [
    "R_U/(constants.light_year*10**9)"
   ]
  },
  {
   "cell_type": "markdown",
   "metadata": {},
   "source": [
    "========================================================================================================================="
   ]
  },
  {
   "cell_type": "markdown",
   "metadata": {},
   "source": [
    "# Nambu Universe Radius calculus in 3 minutes (method 2)\n",
    "$$R_N=\\frac{2.\\hbar^2}{G.(m_N)^3}$$"
   ]
  },
  {
   "cell_type": "markdown",
   "metadata": {},
   "source": [
    "### https://en.wikipedia.org/wiki/Yoichiro_Nambu"
   ]
  },
  {
   "cell_type": "markdown",
   "metadata": {},
   "source": [
    "With Nambu mass $$m_N=m_e.a$$ and $$a=1/\\alpha$$"
   ]
  },
  {
   "cell_type": "code",
   "execution_count": 360,
   "metadata": {},
   "outputs": [
    {
     "name": "stdout",
     "output_type": "stream",
     "text": [
      "137.0359990836958\n"
     ]
    }
   ],
   "source": [
    "a=(1/constants.fine_structure)\n",
    "print(a)"
   ]
  },
  {
   "cell_type": "code",
   "execution_count": 361,
   "metadata": {},
   "outputs": [
    {
     "name": "stdout",
     "output_type": "stream",
     "text": [
      "1.2483134965717876e-28\n"
     ]
    }
   ],
   "source": [
    "m_N=constants.m_e*a\n",
    "print(m_N)"
   ]
  },
  {
   "cell_type": "code",
   "execution_count": 362,
   "metadata": {},
   "outputs": [
    {
     "name": "stdout",
     "output_type": "stream",
     "text": [
      "1.7128941663434102e+26\n"
     ]
    }
   ],
   "source": [
    "R_N=2*constants.hbar**2/(G_s*((a)*constants.m_e)**3)\n",
    "print(R_N)"
   ]
  },
  {
   "cell_type": "markdown",
   "metadata": {},
   "source": [
    "## One obtains 18.10530562420883 Gly with method 2"
   ]
  },
  {
   "cell_type": "code",
   "execution_count": 363,
   "metadata": {},
   "outputs": [
    {
     "data": {
      "text/plain": [
       "18.10530562420883"
      ]
     },
     "execution_count": 363,
     "metadata": {},
     "output_type": "execute_result"
    }
   ],
   "source": [
    "R_N/(constants.light_year*10**9)"
   ]
  },
  {
   "cell_type": "markdown",
   "metadata": {},
   "source": [
    "$$R_N'=ƛ_e(2R/R_N)^{210}$$ and $$R=\\frac{2.\\hbar^2}{G.m_e.m_p.m_H}$$"
   ]
  },
  {
   "cell_type": "markdown",
   "metadata": {},
   "source": [
    "$$H=p+1-\\frac{1/2}{a'^2}$$ and $a'=H/p=137.11$"
   ]
  },
  {
   "cell_type": "code",
   "execution_count": 364,
   "metadata": {},
   "outputs": [
    {
     "data": {
      "text/plain": [
       "1.67262192369e-27"
      ]
     },
     "execution_count": 364,
     "metadata": {},
     "output_type": "execute_result"
    }
   ],
   "source": [
    "# proton mass 1.672 621 923 69 e-27\n",
    "constants.m_p"
   ]
  },
  {
   "cell_type": "code",
   "execution_count": 365,
   "metadata": {},
   "outputs": [
    {
     "name": "stdout",
     "output_type": "stream",
     "text": [
      "1.6735328361530618e-27\n"
     ]
    }
   ],
   "source": [
    "H=constants.m_e*1837.152645\n",
    "print(H)"
   ]
  },
  {
   "cell_type": "code",
   "execution_count": 366,
   "metadata": {},
   "outputs": [
    {
     "name": "stdout",
     "output_type": "stream",
     "text": [
      "1.3067138970179814e+26\n"
     ]
    }
   ],
   "source": [
    "R=2*constants.hbar**2/(G_s*constants.m_e*constants.m_p*H)\n",
    "print(R)"
   ]
  },
  {
   "cell_type": "code",
   "execution_count": 367,
   "metadata": {},
   "outputs": [
    {
     "name": "stdout",
     "output_type": "stream",
     "text": [
      "1.3108749648748815e+26\n"
     ]
    }
   ],
   "source": [
    "R_Nprime=(constants.hbar/(constants.m_e*constants.c))*(2*R/R_N)**210\n",
    "print(R_Nprime)"
   ]
  },
  {
   "cell_type": "markdown",
   "metadata": {},
   "source": [
    "## One obtains 13.855959311747384 Gly with method 2'"
   ]
  },
  {
   "cell_type": "code",
   "execution_count": 368,
   "metadata": {},
   "outputs": [
    {
     "data": {
      "text/plain": [
       "13.855959311747384"
      ]
     },
     "execution_count": 368,
     "metadata": {},
     "output_type": "execute_result"
    }
   ],
   "source": [
    "R_Nprime/(constants.light_year*10**9)"
   ]
  },
  {
   "cell_type": "markdown",
   "metadata": {},
   "source": [
    "========================================================================================================================="
   ]
  },
  {
   "cell_type": "markdown",
   "metadata": {},
   "source": [
    "# Eddington Universe Radius calculus in 3 minutes (method 3)\n",
    "$$R_{Edd}=\\frac{2.\\hbar^2}{G.m_e.m_p^2}$$"
   ]
  },
  {
   "cell_type": "markdown",
   "metadata": {},
   "source": [
    "### https://en.wikipedia.org/wiki/Eddington_number"
   ]
  },
  {
   "cell_type": "code",
   "execution_count": 369,
   "metadata": {},
   "outputs": [
    {
     "name": "stdout",
     "output_type": "stream",
     "text": [
      "15747724136275002577605653961181555468044717914527116709366231425076185631031296\n"
     ]
    }
   ],
   "source": [
    "# Number of Hydrogen Atoms of mass m_H in the visible universe\n",
    "N_Edd=136*2**256\n",
    "print(N_Edd)"
   ]
  },
  {
   "cell_type": "code",
   "execution_count": 370,
   "metadata": {},
   "outputs": [
    {
     "name": "stdout",
     "output_type": "stream",
     "text": [
      "1.6735328361530618e-27\n"
     ]
    }
   ],
   "source": [
    "m_H=1837.152645*constants.m_e\n",
    "print(m_H)"
   ]
  },
  {
   "cell_type": "code",
   "execution_count": 371,
   "metadata": {},
   "outputs": [
    {
     "data": {
      "text/plain": [
       "6.666666666666667"
      ]
     },
     "execution_count": 371,
     "metadata": {},
     "output_type": "execute_result"
    }
   ],
   "source": [
    "20/3"
   ]
  },
  {
   "cell_type": "code",
   "execution_count": 372,
   "metadata": {},
   "outputs": [],
   "source": [
    "R_Edd=(6.666666666666667*N_Edd*G_s*m_H)/constants.c**2"
   ]
  },
  {
   "cell_type": "markdown",
   "metadata": {},
   "source": [
    "## One obtains 13.793532128031092 Gly for R_Edd"
   ]
  },
  {
   "cell_type": "code",
   "execution_count": 373,
   "metadata": {},
   "outputs": [
    {
     "data": {
      "text/plain": [
       "13.793532128031092"
      ]
     },
     "execution_count": 373,
     "metadata": {},
     "output_type": "execute_result"
    }
   ],
   "source": [
    "R_Edd/(constants.light_year*10**9)"
   ]
  },
  {
   "cell_type": "code",
   "execution_count": 374,
   "metadata": {},
   "outputs": [
    {
     "name": "stdout",
     "output_type": "stream",
     "text": [
      "1.3049688972818604e+26\n"
     ]
    }
   ],
   "source": [
    "R_Edd2=2*constants.hbar**2/(G_s*constants.m_e*constants.m_p**2)\n",
    "print(R_Edd)"
   ]
  },
  {
   "cell_type": "markdown",
   "metadata": {},
   "source": [
    "## One obtains 13.819498813523245 Gly for R_Edd2"
   ]
  },
  {
   "cell_type": "code",
   "execution_count": 375,
   "metadata": {},
   "outputs": [
    {
     "data": {
      "text/plain": [
       "13.819498813523245"
      ]
     },
     "execution_count": 375,
     "metadata": {},
     "output_type": "execute_result"
    }
   ],
   "source": [
    "R_Edd2/(constants.light_year*10**9)"
   ]
  },
  {
   "cell_type": "markdown",
   "metadata": {},
   "source": [
    "========================================================================================================================="
   ]
  },
  {
   "cell_type": "markdown",
   "metadata": {},
   "source": [
    "# Francis M. Sanchez Universe Radius calculus in 3 minutes (method 4)\n",
    "$$R_{Francis.M.Sanchez}=ƛ_e.g(6)$$"
   ]
  },
  {
   "cell_type": "markdown",
   "metadata": {},
   "source": [
    "With $$g(k)=exp(2^{k+1/2})/k$$ when $$k=6$$"
   ]
  },
  {
   "cell_type": "markdown",
   "metadata": {},
   "source": [
    "and ƛ$_e=\\frac{\\hbar}{m_e.c}$ as the reduced Compton (electron) wavelength"
   ]
  },
  {
   "cell_type": "code",
   "execution_count": 376,
   "metadata": {},
   "outputs": [
    {
     "data": {
      "text/plain": [
       "3.8615926796089057e-13"
      ]
     },
     "execution_count": 376,
     "metadata": {},
     "output_type": "execute_result"
    }
   ],
   "source": [
    "# Reduced Compton Wavelength\n",
    "(constants.hbar/(constants.m_e*constants.c))"
   ]
  },
  {
   "cell_type": "code",
   "execution_count": 377,
   "metadata": {},
   "outputs": [
    {
     "name": "stdout",
     "output_type": "stream",
     "text": [
      "1.307568892158173e+26\n"
     ]
    }
   ],
   "source": [
    "import numpy as np\n",
    "from scipy import constants\n",
    "R_FMS=(constants.hbar/(constants.m_e*constants.c))*np.exp(2**(6+(1/2)))/6\n",
    "print(R_FMS)"
   ]
  },
  {
   "cell_type": "markdown",
   "metadata": {},
   "source": [
    "## One obtains 13.821014095558315 Gly with method 4"
   ]
  },
  {
   "cell_type": "code",
   "execution_count": 378,
   "metadata": {},
   "outputs": [
    {
     "data": {
      "text/plain": [
       "13.821014095558315"
      ]
     },
     "execution_count": 378,
     "metadata": {},
     "output_type": "execute_result"
    }
   ],
   "source": [
    "R_FMS/(constants.light_year*10**9)"
   ]
  },
  {
   "cell_type": "markdown",
   "metadata": {},
   "source": [
    "========================================================================================================================="
   ]
  },
  {
   "cell_type": "markdown",
   "metadata": {},
   "source": [
    "# Universe Radius calculus based on Rydberg reduced wavelength (method 5) \n",
    "$$R_{Rydberg}=\\frac{(ƛ_{Ryd}.n^4)^2}{ƛ_p}$$"
   ]
  },
  {
   "cell_type": "code",
   "execution_count": 379,
   "metadata": {},
   "outputs": [
    {
     "name": "stdout",
     "output_type": "stream",
     "text": [
      "137.0359990836958\n"
     ]
    }
   ],
   "source": [
    "a=constants.fine_structure**-1\n",
    "print(a)"
   ]
  },
  {
   "cell_type": "code",
   "execution_count": 380,
   "metadata": {},
   "outputs": [
    {
     "data": {
      "text/plain": [
       "18778.865044866678"
      ]
     },
     "execution_count": 380,
     "metadata": {},
     "output_type": "execute_result"
    }
   ],
   "source": [
    "a**2"
   ]
  },
  {
   "cell_type": "code",
   "execution_count": 381,
   "metadata": {},
   "outputs": [
    {
     "name": "stdout",
     "output_type": "stream",
     "text": [
      "1838.6836617324586\n"
     ]
    }
   ],
   "source": [
    "# n equals mass ratio between Neutron and Electron\n",
    "n=(constants.m_n)/(constants.m_e)\n",
    "print(n)"
   ]
  },
  {
   "cell_type": "code",
   "execution_count": 382,
   "metadata": {},
   "outputs": [
    {
     "data": {
      "text/plain": [
       "11429522003521.688"
      ]
     },
     "execution_count": 382,
     "metadata": {},
     "output_type": "execute_result"
    }
   ],
   "source": [
    "n**4"
   ]
  },
  {
   "cell_type": "code",
   "execution_count": 383,
   "metadata": {},
   "outputs": [
    {
     "name": "stdout",
     "output_type": "stream",
     "text": [
      "1.4503265557724145e-08\n"
     ]
    }
   ],
   "source": [
    "lambdabarRyd=2*(constants.hbar/(constants.m_e*constants.c))*(a**2)\n",
    "print(lambdabarRyd)"
   ]
  },
  {
   "cell_type": "code",
   "execution_count": 384,
   "metadata": {},
   "outputs": [
    {
     "name": "stdout",
     "output_type": "stream",
     "text": [
      "2.1030891033555923e-16\n"
     ]
    }
   ],
   "source": [
    "lambdabar_p=(constants.hbar/(constants.m_p*constants.c))\n",
    "print(lambdabar_p)"
   ]
  },
  {
   "cell_type": "code",
   "execution_count": 385,
   "metadata": {},
   "outputs": [
    {
     "name": "stdout",
     "output_type": "stream",
     "text": [
      "1.3065621143319103e+26\n"
     ]
    }
   ],
   "source": [
    "R_Ryd=((lambdabarRyd*n**4)**2)/lambdabar_p\n",
    "print(R_Ryd)"
   ]
  },
  {
   "cell_type": "markdown",
   "metadata": {},
   "source": [
    "## One obtains 13.810372445537942 Gly with method 5"
   ]
  },
  {
   "cell_type": "code",
   "execution_count": 386,
   "metadata": {},
   "outputs": [
    {
     "data": {
      "text/plain": [
       "13.810372445537942"
      ]
     },
     "execution_count": 386,
     "metadata": {},
     "output_type": "execute_result"
    }
   ],
   "source": [
    "# Incorrect result , method to be modified\n",
    "R_Ryd/(constants.light_year*10**9)"
   ]
  },
  {
   "cell_type": "markdown",
   "metadata": {},
   "source": [
    "========================================================================================================================="
   ]
  },
  {
   "cell_type": "markdown",
   "metadata": {},
   "source": [
    "# Universe Radius calculus based on pi (method 6) \n",
    "$$R_{\\pi}=ƛ_e.\\pi^{155/2}$$"
   ]
  },
  {
   "cell_type": "code",
   "execution_count": 387,
   "metadata": {},
   "outputs": [
    {
     "name": "stdout",
     "output_type": "stream",
     "text": [
      "1.3058148293550039e+26\n"
     ]
    }
   ],
   "source": [
    "R_pi=(constants.hbar/(constants.m_e*constants.c))*constants.pi**(155/2)\n",
    "print(R_pi)"
   ]
  },
  {
   "cell_type": "markdown",
   "metadata": {},
   "source": [
    "## One obtains 13.802473637099501 Gly with method 6"
   ]
  },
  {
   "cell_type": "code",
   "execution_count": 388,
   "metadata": {},
   "outputs": [
    {
     "data": {
      "text/plain": [
       "13.802473637099501"
      ]
     },
     "execution_count": 388,
     "metadata": {},
     "output_type": "execute_result"
    }
   ],
   "source": [
    "R_pi/(constants.light_year*10**9)"
   ]
  },
  {
   "cell_type": "markdown",
   "metadata": {},
   "source": [
    "========================================================================================================================="
   ]
  },
  {
   "cell_type": "markdown",
   "metadata": {},
   "source": [
    "# Universe Radius calculus based on 2 (method 7) \n",
    "$$R_{2}=ƛ_e.2^{128}$$"
   ]
  },
  {
   "cell_type": "code",
   "execution_count": 389,
   "metadata": {},
   "outputs": [
    {
     "name": "stdout",
     "output_type": "stream",
     "text": [
      "1.3140318971018876e+26\n"
     ]
    }
   ],
   "source": [
    "R_2=(constants.hbar/(constants.m_e*constants.c))*2**128\n",
    "print(R_2)"
   ]
  },
  {
   "cell_type": "markdown",
   "metadata": {},
   "source": [
    "## One obtains 13.889328111716429 Gly with method 7"
   ]
  },
  {
   "cell_type": "code",
   "execution_count": 390,
   "metadata": {},
   "outputs": [
    {
     "data": {
      "text/plain": [
       "13.889328111716429"
      ]
     },
     "execution_count": 390,
     "metadata": {},
     "output_type": "execute_result"
    }
   ],
   "source": [
    "R_2/(constants.light_year*10**9)"
   ]
  },
  {
   "cell_type": "markdown",
   "metadata": {},
   "source": [
    "========================================================================================================================="
   ]
  },
  {
   "cell_type": "markdown",
   "metadata": {},
   "source": [
    "# Universe Radius calculus based on Fermi's mass and Kotov period (method 8) "
   ]
  },
  {
   "cell_type": "markdown",
   "metadata": {},
   "source": [
    "$$R_{kotov-fermi}=\\frac{2.(c.t_k)^2/ƛ_e}{F^2}$$"
   ]
  },
  {
   "cell_type": "markdown",
   "metadata": {},
   "source": [
    "Fermi's mass given by the relation: $$F=(2\\times 137 \\times \\Gamma)^{3/2}$$"
   ]
  },
  {
   "cell_type": "code",
   "execution_count": 391,
   "metadata": {},
   "outputs": [
    {
     "name": "stdout",
     "output_type": "stream",
     "text": [
      "25.178097241906\n"
     ]
    }
   ],
   "source": [
    "# Atiyah's Gamma\n",
    "Gamma=a*np.euler_gamma/np.pi\n",
    "print(Gamma)"
   ]
  },
  {
   "cell_type": "code",
   "execution_count": 392,
   "metadata": {},
   "outputs": [
    {
     "name": "stdout",
     "output_type": "stream",
     "text": [
      "573007.364905975\n"
     ]
    }
   ],
   "source": [
    "# F**(2/3)=2*137*Gamma\n",
    "# Fermi's mass given by \n",
    "F=(2*137*Gamma)**1.5\n",
    "print(F)"
   ]
  },
  {
   "cell_type": "code",
   "execution_count": 393,
   "metadata": {},
   "outputs": [
    {
     "data": {
      "text/plain": [
       "1.3067162206121416e+26"
      ]
     },
     "execution_count": 393,
     "metadata": {},
     "output_type": "execute_result"
    }
   ],
   "source": [
    "((2*(constants.c*9600.6)**2)/(constants.hbar/(constants.m_e*constants.c)))/F**2"
   ]
  },
  {
   "cell_type": "code",
   "execution_count": 394,
   "metadata": {},
   "outputs": [
    {
     "name": "stdout",
     "output_type": "stream",
     "text": [
      "1.3067162206121416e+26\n"
     ]
    }
   ],
   "source": [
    "R_kf=(2*(constants.c*9600.6)**2)/(constants.hbar/(constants.m_e*constants.c)) / F**2\n",
    "print(R_kf)"
   ]
  },
  {
   "cell_type": "markdown",
   "metadata": {},
   "source": [
    "https://en.wikipedia.org/wiki/Light-year"
   ]
  },
  {
   "cell_type": "code",
   "execution_count": 395,
   "metadata": {},
   "outputs": [
    {
     "data": {
      "text/plain": [
       "9460730472580800.0"
      ]
     },
     "execution_count": 395,
     "metadata": {},
     "output_type": "execute_result"
    }
   ],
   "source": [
    "# https://en.wikipedia.org/wiki/Light-year\n",
    "constants.light_year"
   ]
  },
  {
   "cell_type": "code",
   "execution_count": 396,
   "metadata": {},
   "outputs": [
    {
     "data": {
      "text/plain": [
       "13.812001350205271"
      ]
     },
     "execution_count": 396,
     "metadata": {},
     "output_type": "execute_result"
    }
   ],
   "source": [
    "R_kf/(constants.light_year*10**9)"
   ]
  },
  {
   "cell_type": "markdown",
   "metadata": {},
   "source": [
    "========================================================================================================================="
   ]
  },
  {
   "cell_type": "markdown",
   "metadata": {},
   "source": [
    "# Universe Radius calculus based on \"a\"  (method 9) \n",
    "$$a=1/\\alpha$$ $\\alpha$ being the fine structure constant  $$R_{a}=ƛ_e.(2.\\pi^2.a^3)^5$$"
   ]
  },
  {
   "cell_type": "code",
   "execution_count": 397,
   "metadata": {},
   "outputs": [
    {
     "name": "stdout",
     "output_type": "stream",
     "text": [
      "3.8615926796089057e-13\n"
     ]
    }
   ],
   "source": [
    "lambdabare=(constants.hbar/(constants.m_e*constants.c))\n",
    "print(lambdabare)"
   ]
  },
  {
   "cell_type": "code",
   "execution_count": 398,
   "metadata": {},
   "outputs": [
    {
     "data": {
      "text/plain": [
       "2.2276645699260076e+33"
      ]
     },
     "execution_count": 398,
     "metadata": {},
     "output_type": "execute_result"
    }
   ],
   "source": [
    "(2*constants.pi**2)*((1/constants.fine_structure)**3)**5"
   ]
  },
  {
   "cell_type": "code",
   "execution_count": 399,
   "metadata": {},
   "outputs": [
    {
     "name": "stdout",
     "output_type": "stream",
     "text": [
      "1.3059760854303987e+26\n"
     ]
    }
   ],
   "source": [
    "R_a=((constants.pi**2*(2*(1/constants.fine_structure)**3))**5)*(constants.hbar/(constants.m_e*constants.c))\n",
    "print(R_a)"
   ]
  },
  {
   "cell_type": "code",
   "execution_count": 400,
   "metadata": {},
   "outputs": [
    {
     "data": {
      "text/plain": [
       "13.80417811516134"
      ]
     },
     "execution_count": 400,
     "metadata": {},
     "output_type": "execute_result"
    }
   ],
   "source": [
    "R_a/(constants.light_year*10**9)"
   ]
  },
  {
   "cell_type": "markdown",
   "metadata": {},
   "source": [
    "========================================================================================================================="
   ]
  },
  {
   "cell_type": "markdown",
   "metadata": {},
   "source": [
    "# Universe Radius calculus based on $\\lambda_{CMB}$ (method 10) \n"
   ]
  },
  {
   "cell_type": "markdown",
   "metadata": {},
   "source": [
    "$l_P$ is the Planck length , $j$ is the sternheimer constant"
   ]
  },
  {
   "cell_type": "markdown",
   "metadata": {},
   "source": [
    "$$R_{cmb} = \\frac{(\\lambda_{cmb}/(j+1))^2}{l_P}$$"
   ]
  },
  {
   "cell_type": "code",
   "execution_count": 401,
   "metadata": {},
   "outputs": [
    {
     "name": "stdout",
     "output_type": "stream",
     "text": [
      "113.91063459990004\n"
     ]
    }
   ],
   "source": [
    "j=(8*np.pi**2)/np.log(2)\n",
    "print(j)"
   ]
  },
  {
   "cell_type": "code",
   "execution_count": 402,
   "metadata": {},
   "outputs": [
    {
     "name": "stdout",
     "output_type": "stream",
     "text": [
      "1.380649e-23 2.72582\n"
     ]
    }
   ],
   "source": [
    "k_B=constants.Boltzmann\n",
    "T_cmb=2.72582\n",
    "print(k_B,T_cmb)"
   ]
  },
  {
   "cell_type": "code",
   "execution_count": 403,
   "metadata": {},
   "outputs": [
    {
     "name": "stdout",
     "output_type": "stream",
     "text": [
      "0.0008400718024707187\n"
     ]
    }
   ],
   "source": [
    "lambdabar_cmb=(constants.hbar*constants.c)/(k_B*T_cmb)\n",
    "print(lambdabar_cmb)"
   ]
  },
  {
   "cell_type": "code",
   "execution_count": 404,
   "metadata": {},
   "outputs": [
    {
     "name": "stdout",
     "output_type": "stream",
     "text": [
      "0.005278326806259892\n"
     ]
    }
   ],
   "source": [
    "lambda_cmb=lambdabar_cmb*2*np.pi\n",
    "print(lambda_cmb)"
   ]
  },
  {
   "cell_type": "code",
   "execution_count": 405,
   "metadata": {},
   "outputs": [
    {
     "name": "stdout",
     "output_type": "stream",
     "text": [
      "1.6163947113699356e-35\n"
     ]
    }
   ],
   "source": [
    "# Planck's length CODATA2018 (hbar.G/c^3)^1/2 = 1.61639471.10^-35\n",
    "# l_P=1.616255*10**(-35) CODATA2018\n",
    "l_P=((constants.hbar*G_s)/constants.c**3)**0.5\n",
    "print(l_P)"
   ]
  },
  {
   "cell_type": "code",
   "execution_count": 406,
   "metadata": {},
   "outputs": [
    {
     "name": "stdout",
     "output_type": "stream",
     "text": [
      "1.3053431213288355e+26\n"
     ]
    }
   ],
   "source": [
    "R_cmb=((lambda_cmb/(j+1))**2)/l_P\n",
    "print(R_cmb)"
   ]
  },
  {
   "cell_type": "code",
   "execution_count": 407,
   "metadata": {},
   "outputs": [
    {
     "data": {
      "text/plain": [
       "13.79748767932874"
      ]
     },
     "execution_count": 407,
     "metadata": {},
     "output_type": "execute_result"
    }
   ],
   "source": [
    "R_cmb/(constants.light_year*10**9)"
   ]
  },
  {
   "cell_type": "markdown",
   "metadata": {},
   "source": [
    "========================================================================================================================="
   ]
  },
  {
   "cell_type": "markdown",
   "metadata": {},
   "source": [
    "# Universe Radius calculus based on $ƛ_w$, $\\gamma$ and $\\Gamma$ (method 11) "
   ]
  },
  {
   "cell_type": "markdown",
   "metadata": {},
   "source": [
    "$$R_{ƛ_w}=ƛ_w.(\\frac{2^{70}.\\gamma.n^3}{\\Gamma^4})^2$$"
   ]
  },
  {
   "cell_type": "markdown",
   "metadata": {},
   "source": [
    "$$ƛ_w=ƛ_e/F^2$$"
   ]
  },
  {
   "cell_type": "code",
   "execution_count": 408,
   "metadata": {},
   "outputs": [],
   "source": [
    "import numpy as np"
   ]
  },
  {
   "cell_type": "code",
   "execution_count": 409,
   "metadata": {},
   "outputs": [
    {
     "name": "stdout",
     "output_type": "stream",
     "text": [
      "137.0359990836958\n"
     ]
    }
   ],
   "source": [
    "a=constants.fine_structure**-1\n",
    "print(a)"
   ]
  },
  {
   "cell_type": "code",
   "execution_count": 410,
   "metadata": {},
   "outputs": [
    {
     "name": "stdout",
     "output_type": "stream",
     "text": [
      "25.178097241906\n"
     ]
    }
   ],
   "source": [
    "# Atiyah's Gamma\n",
    "Gamma=a*np.euler_gamma/np.pi\n",
    "print(Gamma)"
   ]
  },
  {
   "cell_type": "code",
   "execution_count": 411,
   "metadata": {},
   "outputs": [
    {
     "data": {
      "text/plain": [
       "3.141592653589793"
      ]
     },
     "execution_count": 411,
     "metadata": {},
     "output_type": "execute_result"
    }
   ],
   "source": [
    "np.pi"
   ]
  },
  {
   "cell_type": "code",
   "execution_count": 412,
   "metadata": {},
   "outputs": [
    {
     "name": "stdout",
     "output_type": "stream",
     "text": [
      "1.1761048867371158e-24\n"
     ]
    }
   ],
   "source": [
    "ƛ_w=(constants.hbar/(constants.m_e*constants.c))/F**2\n",
    "print(ƛ_w)"
   ]
  },
  {
   "cell_type": "code",
   "execution_count": 413,
   "metadata": {},
   "outputs": [
    {
     "name": "stdout",
     "output_type": "stream",
     "text": [
      "1.306713911982143e+26\n"
     ]
    }
   ],
   "source": [
    "R_w=(((2**70*np.euler_gamma*n**3)/Gamma**4)**2)*ƛ_w\n",
    "print(R_w)"
   ]
  },
  {
   "cell_type": "code",
   "execution_count": 414,
   "metadata": {},
   "outputs": [
    {
     "data": {
      "text/plain": [
       "13.811976947966931"
      ]
     },
     "execution_count": 414,
     "metadata": {},
     "output_type": "execute_result"
    }
   ],
   "source": [
    "R_w/(constants.light_year*10**9)"
   ]
  },
  {
   "cell_type": "markdown",
   "metadata": {},
   "source": [
    "========================================================================================================================="
   ]
  },
  {
   "cell_type": "markdown",
   "metadata": {},
   "source": [
    "# $R =$  ƛe $ g(6)/ (1 + √(137^2+√136)/jn)$ (method 12) "
   ]
  },
  {
   "cell_type": "markdown",
   "metadata": {},
   "source": [
    "With $$g(k)=exp(2^{k+1/2})/k$$ when $$k=6$$"
   ]
  },
  {
   "cell_type": "markdown",
   "metadata": {},
   "source": [
    "and ƛ$_e=\\frac{\\hbar}{m_e.c}$ as the reduced Compton (electron) wavelength"
   ]
  },
  {
   "cell_type": "code",
   "execution_count": 415,
   "metadata": {},
   "outputs": [
    {
     "name": "stdout",
     "output_type": "stream",
     "text": [
      "1.3067138950061914e+26\n"
     ]
    }
   ],
   "source": [
    "import numpy as np\n",
    "from scipy import constants\n",
    "R_12=((constants.hbar/(constants.m_e*constants.c))*np.exp(2**(6+(1/2)))/6)/(1+np.sqrt(137**2+np.sqrt(136))/(j*n))\n",
    "print(R_12)"
   ]
  },
  {
   "cell_type": "code",
   "execution_count": 416,
   "metadata": {},
   "outputs": [
    {
     "name": "stdout",
     "output_type": "stream",
     "text": [
      "6.675453730277392e-11\n"
     ]
    }
   ],
   "source": [
    "G_12=2*constants.hbar**2/(R_12*m_e*m_p*m_H)\n",
    "print(G_12)"
   ]
  },
  {
   "cell_type": "code",
   "execution_count": 417,
   "metadata": {},
   "outputs": [
    {
     "data": {
      "text/plain": [
       "1.0006543109055848"
      ]
     },
     "execution_count": 417,
     "metadata": {},
     "output_type": "execute_result"
    }
   ],
   "source": [
    "(1+np.sqrt(137**2+np.sqrt(136))/(j*n))"
   ]
  },
  {
   "cell_type": "code",
   "execution_count": 418,
   "metadata": {},
   "outputs": [
    {
     "data": {
      "text/plain": [
       "13.811976768530982"
      ]
     },
     "execution_count": 418,
     "metadata": {},
     "output_type": "execute_result"
    }
   ],
   "source": [
    "R_12/(constants.light_year*10**9)"
   ]
  },
  {
   "cell_type": "code",
   "execution_count": null,
   "metadata": {},
   "outputs": [],
   "source": []
  },
  {
   "cell_type": "markdown",
   "metadata": {},
   "source": [
    "========================================================================================================================="
   ]
  },
  {
   "cell_type": "markdown",
   "metadata": {},
   "source": [
    "# $R =  \\frac{2.ƛe(p.n/H^2).g(5)^2}{ln^2 (2 – 1/j.a^2)} $ (method 13) "
   ]
  },
  {
   "cell_type": "markdown",
   "metadata": {},
   "source": [
    "With $$g(k)=exp(2^{k+1/2})/k$$ when $$k=5$$"
   ]
  },
  {
   "cell_type": "markdown",
   "metadata": {},
   "source": [
    "and ƛ$_e=\\frac{\\hbar}{m_e.c}$ as the reduced Compton (electron) wavelength"
   ]
  },
  {
   "cell_type": "code",
   "execution_count": 419,
   "metadata": {},
   "outputs": [],
   "source": [
    "import numpy as np\n",
    "from scipy import constants\n",
    "# R_13=(2*(constants.hbar/(constants.m_e*constants.c))*(p*n/H**2)*(np.exp(2**(5+(1/2)))/5)**2)/(np.log(2-1/(j*a**2)))**2\n",
    "# print(R_13)"
   ]
  },
  {
   "cell_type": "code",
   "execution_count": 420,
   "metadata": {},
   "outputs": [],
   "source": [
    "#R_13/(constants.light_year*10**9)"
   ]
  },
  {
   "cell_type": "code",
   "execution_count": 421,
   "metadata": {},
   "outputs": [],
   "source": [
    "#(2*(constants.hbar/(constants.m_e*constants.c))*(p*n/H**2)*(np.exp(2**(5+(1/2)))/5)**2)"
   ]
  },
  {
   "cell_type": "code",
   "execution_count": 422,
   "metadata": {},
   "outputs": [
    {
     "data": {
      "text/plain": [
       "0.480452689883273"
      ]
     },
     "execution_count": 422,
     "metadata": {},
     "output_type": "execute_result"
    }
   ],
   "source": [
    "(np.log(2-1/(j*a**2)))**2"
   ]
  },
  {
   "cell_type": "code",
   "execution_count": 423,
   "metadata": {},
   "outputs": [],
   "source": [
    "#G_13=2*constants.hbar**2/(R_13*m_e*m_p*m_H)\n",
    "#print(G_13)"
   ]
  },
  {
   "cell_type": "markdown",
   "metadata": {},
   "source": [
    "========================================================================================================================="
   ]
  },
  {
   "cell_type": "markdown",
   "metadata": {},
   "source": [
    "# $R_N(O_M O_B/n_{ph})^2$ (method 14)"
   ]
  },
  {
   "cell_type": "code",
   "execution_count": 424,
   "metadata": {},
   "outputs": [
    {
     "name": "stdout",
     "output_type": "stream",
     "text": [
      "3.8379999999999998e+87\n"
     ]
    }
   ],
   "source": [
    "n_ph=3.838*10**87\n",
    "print(n_ph)"
   ]
  },
  {
   "cell_type": "code",
   "execution_count": 425,
   "metadata": {},
   "outputs": [
    {
     "data": {
      "text/plain": [
       "1.7128941663434102e+26"
      ]
     },
     "execution_count": 425,
     "metadata": {},
     "output_type": "execute_result"
    }
   ],
   "source": [
    "R_N"
   ]
  },
  {
   "cell_type": "code",
   "execution_count": 426,
   "metadata": {},
   "outputs": [
    {
     "name": "stdout",
     "output_type": "stream",
     "text": [
      "1.3105645508705246e+26\n"
     ]
    }
   ],
   "source": [
    "R_14=R_N*(OM*OB/n_ph)**2\n",
    "print(R_14)"
   ]
  },
  {
   "cell_type": "code",
   "execution_count": 427,
   "metadata": {},
   "outputs": [
    {
     "data": {
      "text/plain": [
       "13.852678233132401"
      ]
     },
     "execution_count": 427,
     "metadata": {},
     "output_type": "execute_result"
    }
   ],
   "source": [
    "R_14/(constants.light_year*10**9)"
   ]
  },
  {
   "cell_type": "markdown",
   "metadata": {},
   "source": [
    "========================================================================================================================="
   ]
  },
  {
   "cell_type": "markdown",
   "metadata": {},
   "source": [
    "# $\\lambda_e OM^{7/10}$ (method 15)"
   ]
  },
  {
   "cell_type": "code",
   "execution_count": 428,
   "metadata": {},
   "outputs": [],
   "source": [
    "lambda_e=lambdabare*2*np.pi"
   ]
  },
  {
   "cell_type": "code",
   "execution_count": 429,
   "metadata": {},
   "outputs": [
    {
     "name": "stdout",
     "output_type": "stream",
     "text": [
      "1.3186843114021136e+26\n"
     ]
    }
   ],
   "source": [
    "#lambda_e*OM**(7/10)\n",
    "R_15=lambda_e*OM**(7/10)\n",
    "print(R_15)"
   ]
  },
  {
   "cell_type": "code",
   "execution_count": 430,
   "metadata": {},
   "outputs": [
    {
     "data": {
      "text/plain": [
       "13.938504169672099"
      ]
     },
     "execution_count": 430,
     "metadata": {},
     "output_type": "execute_result"
    }
   ],
   "source": [
    "R_15/(constants.light_year*10**9)"
   ]
  },
  {
   "cell_type": "markdown",
   "metadata": {},
   "source": [
    "========================================================================================================================="
   ]
  },
  {
   "cell_type": "markdown",
   "metadata": {},
   "source": [
    "# $(2\\pi^{32}Pƛe)^2/R_N$"
   ]
  },
  {
   "cell_type": "code",
   "execution_count": 431,
   "metadata": {},
   "outputs": [
    {
     "name": "stdout",
     "output_type": "stream",
     "text": [
      "2.389015908333496e+22\n"
     ]
    }
   ],
   "source": [
    "# \n",
    "P=lambdabare/l_P\n",
    "print(P)"
   ]
  },
  {
   "cell_type": "code",
   "execution_count": 432,
   "metadata": {},
   "outputs": [
    {
     "name": "stdout",
     "output_type": "stream",
     "text": [
      "1.3058470789771101e+26\n"
     ]
    }
   ],
   "source": [
    "# Radius in m\n",
    "R_16=((2*np.pi**32)*P*lambdabare)**2/R_N\n",
    "print(R_16)"
   ]
  },
  {
   "cell_type": "code",
   "execution_count": 433,
   "metadata": {},
   "outputs": [
    {
     "data": {
      "text/plain": [
       "13.802814515874134"
      ]
     },
     "execution_count": 433,
     "metadata": {},
     "output_type": "execute_result"
    }
   ],
   "source": [
    "# Radius in Gly\n",
    "R_16/(constants.light_year*10**9)"
   ]
  },
  {
   "cell_type": "markdown",
   "metadata": {},
   "source": [
    "========================================================================================================================="
   ]
  },
  {
   "cell_type": "markdown",
   "metadata": {},
   "source": [
    "# $ƛ_FP^3/p^7$"
   ]
  },
  {
   "cell_type": "code",
   "execution_count": 434,
   "metadata": {},
   "outputs": [
    {
     "data": {
      "text/plain": [
       "2.389015908333496e+22"
      ]
     },
     "execution_count": 434,
     "metadata": {},
     "output_type": "execute_result"
    }
   ],
   "source": [
    "P"
   ]
  },
  {
   "cell_type": "code",
   "execution_count": 435,
   "metadata": {},
   "outputs": [
    {
     "name": "stdout",
     "output_type": "stream",
     "text": [
      "1.30587575365127e+26\n"
     ]
    }
   ],
   "source": [
    "R_17=(lambdabar_F*P**3)/p**7\n",
    "print(R_17)"
   ]
  },
  {
   "cell_type": "code",
   "execution_count": 436,
   "metadata": {},
   "outputs": [
    {
     "data": {
      "text/plain": [
       "13.803117607419157"
      ]
     },
     "execution_count": 436,
     "metadata": {},
     "output_type": "execute_result"
    }
   ],
   "source": [
    "# Radius in Gly\n",
    "R_17/(constants.light_year*10**9)"
   ]
  },
  {
   "cell_type": "markdown",
   "metadata": {},
   "source": [
    "========================================================================================================================="
   ]
  },
  {
   "cell_type": "markdown",
   "metadata": {},
   "source": [
    "# $ƛ_FP^2e/8$"
   ]
  },
  {
   "cell_type": "code",
   "execution_count": 437,
   "metadata": {},
   "outputs": [
    {
     "name": "stdout",
     "output_type": "stream",
     "text": [
      "1.3069194966342527e+26\n"
     ]
    }
   ],
   "source": [
    "R_18=(lambdabar_F*(P**2)*np.e)/8\n",
    "print(R_18)"
   ]
  },
  {
   "cell_type": "code",
   "execution_count": 438,
   "metadata": {},
   "outputs": [
    {
     "data": {
      "text/plain": [
       "13.814149979454358"
      ]
     },
     "execution_count": 438,
     "metadata": {},
     "output_type": "execute_result"
    }
   ],
   "source": [
    "# Radius in Gly\n",
    "R_18/(constants.light_year*10**9)"
   ]
  },
  {
   "cell_type": "markdown",
   "metadata": {},
   "source": [
    "========================================================================================================================="
   ]
  },
  {
   "cell_type": "markdown",
   "metadata": {},
   "source": [
    "# $4P^3l_{Wi}ƛe/R_N$"
   ]
  },
  {
   "cell_type": "code",
   "execution_count": 439,
   "metadata": {},
   "outputs": [
    {
     "data": {
      "text/plain": [
       "0.0010632074683544304"
      ]
     },
     "execution_count": 439,
     "metadata": {},
     "output_type": "execute_result"
    }
   ],
   "source": [
    "# l_wi\n",
    "((2.897771955*10**-3)/2.7255)"
   ]
  },
  {
   "cell_type": "code",
   "execution_count": 440,
   "metadata": {},
   "outputs": [
    {
     "name": "stdout",
     "output_type": "stream",
     "text": [
      "0.0010630824999999999\n"
     ]
    }
   ],
   "source": [
    "# l_wi=constants.Wien\n",
    "l_wi=1.0630825*10**-3\n",
    "print(l_wi)"
   ]
  },
  {
   "cell_type": "code",
   "execution_count": 441,
   "metadata": {},
   "outputs": [
    {
     "name": "stdout",
     "output_type": "stream",
     "text": [
      "1.3071337184211224e+26\n"
     ]
    }
   ],
   "source": [
    "R_19=(4*P**3*l_wi*lambdabare)/R_N\n",
    "print(R_19)"
   ]
  },
  {
   "cell_type": "code",
   "execution_count": 442,
   "metadata": {},
   "outputs": [
    {
     "data": {
      "text/plain": [
       "13.816414305528234"
      ]
     },
     "execution_count": 442,
     "metadata": {},
     "output_type": "execute_result"
    }
   ],
   "source": [
    "# Radius in Gly\n",
    "R_19/(constants.light_year*10**9)"
   ]
  },
  {
   "cell_type": "markdown",
   "metadata": {},
   "source": [
    "========================================================================================================================="
   ]
  },
  {
   "cell_type": "markdown",
   "metadata": {},
   "source": [
    "# $ƛe.exp((e^{4e-1/a}-ln^2(P^4/a^3))/2)^{1/2}$"
   ]
  },
  {
   "cell_type": "code",
   "execution_count": 443,
   "metadata": {},
   "outputs": [
    {
     "data": {
      "text/plain": [
       "52356.42609346239"
      ]
     },
     "execution_count": 443,
     "metadata": {},
     "output_type": "execute_result"
    }
   ],
   "source": [
    "(e**(4*e-1/a))"
   ]
  },
  {
   "cell_type": "code",
   "execution_count": 444,
   "metadata": {},
   "outputs": [
    {
     "data": {
      "text/plain": [
       "1.2658205894579623e+83"
      ]
     },
     "execution_count": 444,
     "metadata": {},
     "output_type": "execute_result"
    }
   ],
   "source": [
    "P**4/a**3"
   ]
  },
  {
   "cell_type": "code",
   "execution_count": 445,
   "metadata": {},
   "outputs": [
    {
     "data": {
      "text/plain": [
       "36614.930925762965"
      ]
     },
     "execution_count": 445,
     "metadata": {},
     "output_type": "execute_result"
    }
   ],
   "source": [
    "np.log(P**4/a**3)**2"
   ]
  },
  {
   "cell_type": "code",
   "execution_count": 446,
   "metadata": {},
   "outputs": [
    {
     "name": "stdout",
     "output_type": "stream",
     "text": [
      "1.3066870223677776e+26\n"
     ]
    }
   ],
   "source": [
    "R_20=np.exp(np.sqrt((e**(4*e-1/a)-np.log(P**4/a**3)**2)/2))*lambdabare\n",
    "print(R_20)"
   ]
  },
  {
   "cell_type": "code",
   "execution_count": 447,
   "metadata": {},
   "outputs": [
    {
     "name": "stdout",
     "output_type": "stream",
     "text": [
      "1.3066870223677776e+26\n"
     ]
    }
   ],
   "source": [
    "# R_20=(lambdabare*np.exp((e**(4*e-1/a)-np.log(P**4/a**3)**2))/2)**0.5\n",
    "print(R_20)"
   ]
  },
  {
   "cell_type": "code",
   "execution_count": 448,
   "metadata": {},
   "outputs": [
    {
     "data": {
      "text/plain": [
       "13.811692724518824"
      ]
     },
     "execution_count": 448,
     "metadata": {},
     "output_type": "execute_result"
    }
   ],
   "source": [
    "# Radius in Gly\n",
    "R_20/(constants.light_year*10**9)"
   ]
  },
  {
   "cell_type": "markdown",
   "metadata": {},
   "source": [
    "========================================================================================================================="
   ]
  },
  {
   "cell_type": "markdown",
   "metadata": {},
   "source": [
    "# $ƛ_F(Pe^e)^2/√(pn)$"
   ]
  },
  {
   "cell_type": "code",
   "execution_count": 449,
   "metadata": {},
   "outputs": [
    {
     "name": "stdout",
     "output_type": "stream",
     "text": [
      "6.739167620022749e-19\n"
     ]
    }
   ],
   "source": [
    "lambdabar_f=lambdabare/F\n",
    "print(lambdabar_f)"
   ]
  },
  {
   "cell_type": "code",
   "execution_count": 450,
   "metadata": {},
   "outputs": [
    {
     "data": {
      "text/plain": [
       "1.939073444929389e+44"
      ]
     },
     "execution_count": 450,
     "metadata": {},
     "output_type": "execute_result"
    }
   ],
   "source": [
    "e*(P*e**e)**2/np.sqrt(p*n)"
   ]
  },
  {
   "cell_type": "code",
   "execution_count": 451,
   "metadata": {},
   "outputs": [
    {
     "name": "stdout",
     "output_type": "stream",
     "text": [
      "1.3067740972914103e+26\n"
     ]
    }
   ],
   "source": [
    "R_21=lambdabar_f*e*(P*e**e)**2/np.sqrt(p*n)\n",
    "print(R_21)"
   ]
  },
  {
   "cell_type": "code",
   "execution_count": 452,
   "metadata": {},
   "outputs": [
    {
     "data": {
      "text/plain": [
       "13.812613107187849"
      ]
     },
     "execution_count": 452,
     "metadata": {},
     "output_type": "execute_result"
    }
   ],
   "source": [
    "# Radius in Gly\n",
    "R_21/(constants.light_year*10**9)"
   ]
  },
  {
   "cell_type": "code",
   "execution_count": 453,
   "metadata": {},
   "outputs": [
    {
     "data": {
      "text/plain": [
       "2.1189663868972993e+292"
      ]
     },
     "execution_count": 453,
     "metadata": {},
     "output_type": "execute_result"
    }
   ],
   "source": [
    "a**a/np.pi"
   ]
  },
  {
   "cell_type": "markdown",
   "metadata": {},
   "source": [
    "========================================================================================================================="
   ]
  },
  {
   "cell_type": "markdown",
   "metadata": {},
   "source": [
    "# Measurement Confirmation of the methods given above by:"
   ]
  },
  {
   "cell_type": "markdown",
   "metadata": {},
   "source": [
    "### Confirmation Measurement #1 (WMAP)\n",
    "https://en.wikipedia.org/wiki/Wilkinson_Microwave_Anisotropy_Probe\n",
    "\n",
    "$R_{wmap}=13.74$ Â±0.11 Gly (over 9 years)"
   ]
  },
  {
   "cell_type": "markdown",
   "metadata": {},
   "source": [
    "### Confirmation Measurement #2\n",
    "https://en.wikipedia.org/wiki/Type_Ia_supernova\n",
    "Universe Radius measurement based on supernovae 1a\n",
    "$$R_{SN1a}=13.6(6)Gly$$"
   ]
  },
  {
   "cell_type": "markdown",
   "metadata": {},
   "source": [
    "### Confirmation Measurement #3 (Planck Space Observatory)\n",
    "https://en.wikipedia.org/wiki/Planck_(spacecraft)\n",
    "13.8 billion years (as of 2015) – 13.799±0.021 billion (109) years within the Lambda-CDM concordance model."
   ]
  },
  {
   "cell_type": "markdown",
   "metadata": {},
   "source": [
    "$$R_{Planck}=13.799±0.021 Gly$$"
   ]
  },
  {
   "cell_type": "markdown",
   "metadata": {},
   "source": [
    "### Confirmation Measurement #4 (James Webb Space Telescope)"
   ]
  },
  {
   "cell_type": "markdown",
   "metadata": {},
   "source": [
    "#### https://en.wikipedia.org/wiki/James_Webb_Space_Telescope"
   ]
  },
  {
   "cell_type": "markdown",
   "metadata": {},
   "source": [
    "Measurements due to start in 2021"
   ]
  },
  {
   "cell_type": "markdown",
   "metadata": {},
   "source": [
    "========================================================================================================================="
   ]
  },
  {
   "cell_type": "markdown",
   "metadata": {},
   "source": [
    "# Other estimates"
   ]
  },
  {
   "cell_type": "markdown",
   "metadata": {},
   "source": [
    "## Universe mass calculus given by the relation:"
   ]
  },
  {
   "cell_type": "markdown",
   "metadata": {},
   "source": [
    "$m_P$ is the Planck Mass , $m_e$ the electron mass, $m_p$ the proton mass, $m_n$ the neutron mass"
   ]
  },
  {
   "cell_type": "code",
   "execution_count": 454,
   "metadata": {},
   "outputs": [
    {
     "data": {
      "text/latex": [
       "\\begin{align}\n",
       "\\frac{m_P^4}{m_e\\cdot m_p\\cdot\\ m_n} = M_U \\\\\n",
       "\\end{align}\n"
      ],
      "text/plain": [
       "<IPython.core.display.Latex object>"
      ]
     },
     "metadata": {},
     "output_type": "display_data"
    }
   ],
   "source": [
    "%%latex\n",
    "\\begin{align}\n",
    "\\frac{m_P^4}{m_e\\cdot m_p\\cdot\\ m_n} = M_U \\\\\n",
    "\\end{align}"
   ]
  },
  {
   "cell_type": "code",
   "execution_count": 455,
   "metadata": {},
   "outputs": [
    {
     "name": "stdout",
     "output_type": "stream",
     "text": [
      "2.176434e-08\n"
     ]
    }
   ],
   "source": [
    "# Planck's mass\n",
    "m_P=2.176434*10**(-8)\n",
    "print(m_P)"
   ]
  },
  {
   "cell_type": "code",
   "execution_count": 456,
   "metadata": {},
   "outputs": [
    {
     "name": "stdout",
     "output_type": "stream",
     "text": [
      "2.2437889614753534e-31\n"
     ]
    }
   ],
   "source": [
    "print(m_P**4)"
   ]
  },
  {
   "cell_type": "code",
   "execution_count": 457,
   "metadata": {},
   "outputs": [
    {
     "data": {
      "text/plain": [
       "2.5520124761382513e-84"
      ]
     },
     "execution_count": 457,
     "metadata": {},
     "output_type": "execute_result"
    }
   ],
   "source": [
    "constants.m_e*constants.m_p*constants.m_n"
   ]
  },
  {
   "cell_type": "markdown",
   "metadata": {},
   "source": [
    "### Universe Mass $8.792233511611562.10^{52}$ kg"
   ]
  },
  {
   "cell_type": "code",
   "execution_count": 458,
   "metadata": {},
   "outputs": [
    {
     "name": "stdout",
     "output_type": "stream",
     "text": [
      "8.792233511611562e+52\n"
     ]
    }
   ],
   "source": [
    "M_U=(m_P**4)/(constants.m_e*constants.m_p*constants.m_n)\n",
    "print(M_U)"
   ]
  },
  {
   "cell_type": "markdown",
   "metadata": {},
   "source": [
    "========================================================================================================================="
   ]
  },
  {
   "cell_type": "markdown",
   "metadata": {},
   "source": [
    "## GrandCosmos radius calculus given by the relation:"
   ]
  },
  {
   "cell_type": "markdown",
   "metadata": {},
   "source": [
    "# $R_{GC} = R_N^2/(2.l_P)$"
   ]
  },
  {
   "cell_type": "code",
   "execution_count": 459,
   "metadata": {},
   "outputs": [
    {
     "name": "stdout",
     "output_type": "stream",
     "text": [
      "9.075773400070832e+86\n"
     ]
    }
   ],
   "source": [
    "R_GC=R_N**2/(2*l_P)\n",
    "print(R_GC)"
   ]
  },
  {
   "cell_type": "code",
   "execution_count": 460,
   "metadata": {},
   "outputs": [
    {
     "data": {
      "text/plain": [
       "9.59310005329329e+61"
      ]
     },
     "execution_count": 460,
     "metadata": {},
     "output_type": "execute_result"
    }
   ],
   "source": [
    "R_GC/(constants.light_year*10**9)"
   ]
  },
  {
   "cell_type": "markdown",
   "metadata": {},
   "source": [
    "========================================================================================================================="
   ]
  },
  {
   "cell_type": "markdown",
   "metadata": {},
   "source": [
    "# Volume calculus of R_GC: $V_{GC}=(R_{GC}/r_H)^3(4\\pi/3)$"
   ]
  },
  {
   "cell_type": "code",
   "execution_count": 461,
   "metadata": {},
   "outputs": [
    {
     "name": "stdout",
     "output_type": "stream",
     "text": [
      "137.11\n"
     ]
    }
   ],
   "source": [
    "#aprime=a/(H/p)\n",
    "aprime=137.11\n",
    "print(aprime)"
   ]
  },
  {
   "cell_type": "code",
   "execution_count": 462,
   "metadata": {},
   "outputs": [
    {
     "name": "stdout",
     "output_type": "stream",
     "text": [
      "5.2946297230117714e-11\n"
     ]
    }
   ],
   "source": [
    "# Hydrogen Atom Radius\n",
    "r_H=(lambdabare*aprime)\n",
    "print(r_H)"
   ]
  },
  {
   "cell_type": "code",
   "execution_count": 463,
   "metadata": {},
   "outputs": [
    {
     "name": "stdout",
     "output_type": "stream",
     "text": [
      "2.109758578455705e+292\n"
     ]
    }
   ],
   "source": [
    "# Volume of R_GC\n",
    "V_GC=((R_GC/r_H)**3)*(4*np.pi/3)\n",
    "print(V_GC)"
   ]
  },
  {
   "cell_type": "code",
   "execution_count": 464,
   "metadata": {},
   "outputs": [
    {
     "data": {
      "text/plain": [
       "2.1189663868972993e+292"
      ]
     },
     "execution_count": 464,
     "metadata": {},
     "output_type": "execute_result"
    }
   ],
   "source": [
    "a**a/np.pi"
   ]
  },
  {
   "cell_type": "code",
   "execution_count": 465,
   "metadata": {},
   "outputs": [
    {
     "data": {
      "text/latex": [
       "\\begin{eqnarray}\n",
       "\\ (R_{GC}/r_H)^3(4\\pi/3) \\approx a^a/\\pi \\\\\n",
       "\\end{eqnarray}"
      ],
      "text/plain": [
       "<IPython.core.display.Latex object>"
      ]
     },
     "execution_count": 465,
     "metadata": {},
     "output_type": "execute_result"
    }
   ],
   "source": [
    "from IPython.display import Latex\n",
    "Latex(r\"\"\"\\begin{eqnarray}\n",
    "\\ (R_{GC}/r_H)^3(4\\pi/3) \\approx a^a/\\pi \\\\\n",
    "\\end{eqnarray}\"\"\")"
   ]
  },
  {
   "cell_type": "code",
   "execution_count": 466,
   "metadata": {},
   "outputs": [],
   "source": [
    "aprime=137.1106292"
   ]
  },
  {
   "cell_type": "code",
   "execution_count": 467,
   "metadata": {},
   "outputs": [
    {
     "name": "stdout",
     "output_type": "stream",
     "text": [
      "1837.15266013165\n"
     ]
    }
   ],
   "source": [
    "H=p+1 -1/(2*(aprime))**2\n",
    "print(H)\n",
    "# p + 1 – 1/2(aH/p)^2\n"
   ]
  },
  {
   "cell_type": "code",
   "execution_count": 468,
   "metadata": {},
   "outputs": [
    {
     "data": {
      "text/plain": [
       "292.8061605778735"
      ]
     },
     "execution_count": 468,
     "metadata": {},
     "output_type": "execute_result"
    }
   ],
   "source": [
    "# Fermi's Energy in GeV\n",
    "np.sqrt(1/(1.1663787*10**-5))"
   ]
  },
  {
   "cell_type": "code",
   "execution_count": 469,
   "metadata": {},
   "outputs": [
    {
     "data": {
      "text/plain": [
       "573007.3624962899"
      ]
     },
     "execution_count": 469,
     "metadata": {},
     "output_type": "execute_result"
    }
   ],
   "source": [
    "# ratio of Fermi/Electron (electron in MeV)\n",
    "(np.sqrt(1/(1.1663787*10**-5))/0.510998950)*1000"
   ]
  },
  {
   "cell_type": "markdown",
   "metadata": {},
   "source": [
    "========================================================================================================================="
   ]
  },
  {
   "cell_type": "markdown",
   "metadata": {},
   "source": [
    "$A*OP=1.432938112.10^{365}=\\Pi_{Pariah}.a^a=(R_{GC}/l_P)^3$"
   ]
  },
  {
   "cell_type": "code",
   "execution_count": 470,
   "metadata": {},
   "outputs": [
    {
     "data": {
      "text/plain": [
       "2663849798329448283764291471531459318169741293570162121768960000000000000"
      ]
     },
     "execution_count": 470,
     "metadata": {},
     "output_type": "execute_result"
    }
   ],
   "source": [
    "OP"
   ]
  },
  {
   "cell_type": "code",
   "execution_count": 471,
   "metadata": {},
   "outputs": [
    {
     "name": "stdout",
     "output_type": "stream",
     "text": [
      "6.656929234280262e+292\n"
     ]
    }
   ],
   "source": [
    "A=a**a\n",
    "print(A)"
   ]
  },
  {
   "cell_type": "markdown",
   "metadata": {},
   "source": [
    "========================================================================================================================="
   ]
  },
  {
   "cell_type": "markdown",
   "metadata": {},
   "source": [
    "$((a/√137(4\\pi.F)^2)ƛe^4l{ph}^3(ƛ_{CMB}/l_P)^8)^{1/7}$"
   ]
  },
  {
   "cell_type": "markdown",
   "metadata": {},
   "source": [
    "# $l_{ph}=(ƛe(\\pi a^2)^2)^{-3}  $"
   ]
  },
  {
   "cell_type": "code",
   "execution_count": 472,
   "metadata": {},
   "outputs": [
    {
     "data": {
      "text/plain": [
       "3.8615926796089057e-13"
      ]
     },
     "execution_count": 472,
     "metadata": {},
     "output_type": "execute_result"
    }
   ],
   "source": [
    "lambdabare"
   ]
  },
  {
   "cell_type": "code",
   "execution_count": 473,
   "metadata": {},
   "outputs": [
    {
     "name": "stdout",
     "output_type": "stream",
     "text": [
      "0.0013440173951173593\n"
     ]
    }
   ],
   "source": [
    "# 0.0013440173951173593\n",
    "l_ph=(lambdabare*(np.pi*(a**2))**2)\n",
    "print(l_ph)"
   ]
  },
  {
   "cell_type": "code",
   "execution_count": 474,
   "metadata": {},
   "outputs": [
    {
     "name": "stdout",
     "output_type": "stream",
     "text": [
      "12771295365.93782\n"
     ]
    }
   ],
   "source": [
    "l_ph1=(lambdabare*(np.pi*(a**2)**2))**-3\n",
    "print(l_ph1)"
   ]
  },
  {
   "cell_type": "code",
   "execution_count": 475,
   "metadata": {},
   "outputs": [
    {
     "name": "stdout",
     "output_type": "stream",
     "text": [
      "2.83988529656067e-40\n"
     ]
    }
   ],
   "source": [
    "l_ph2=(lambdabare*(np.pi*(a**2)**2)**-3)\n",
    "print(l_ph2)"
   ]
  },
  {
   "cell_type": "code",
   "execution_count": 476,
   "metadata": {},
   "outputs": [],
   "source": [
    "# 𝜉(3)=1.202056903159594\n",
    "apery=1.202056903159594"
   ]
  },
  {
   "cell_type": "code",
   "execution_count": 477,
   "metadata": {},
   "outputs": [
    {
     "name": "stdout",
     "output_type": "stream",
     "text": [
      "0.020712279754473314\n"
     ]
    }
   ],
   "source": [
    "# l_ph^-3=16𝜋𝜉(3))/l_{CMB}^3\n",
    "l_ph3=lambda_cmb/(16*np.pi*apery)**(-1/3)\n",
    "print(l_ph3)"
   ]
  },
  {
   "cell_type": "code",
   "execution_count": 478,
   "metadata": {},
   "outputs": [
    {
     "data": {
      "text/plain": [
       "2.8736403508066634e+195"
      ]
     },
     "execution_count": 478,
     "metadata": {},
     "output_type": "execute_result"
    }
   ],
   "source": [
    "(lambdabare**4)*(l_ph**3)*(lambdabar_cmb/l_P)**8"
   ]
  },
  {
   "cell_type": "code",
   "execution_count": 479,
   "metadata": {},
   "outputs": [
    {
     "data": {
      "text/plain": [
       "1.863350346618644"
      ]
     },
     "execution_count": 479,
     "metadata": {},
     "output_type": "execute_result"
    }
   ],
   "source": [
    "a/np.sqrt(137*4*np.pi**2)"
   ]
  },
  {
   "cell_type": "code",
   "execution_count": 480,
   "metadata": {},
   "outputs": [
    {
     "data": {
      "text/plain": [
       "2.223647026545871e-50"
      ]
     },
     "execution_count": 480,
     "metadata": {},
     "output_type": "execute_result"
    }
   ],
   "source": [
    "lambdabare**4"
   ]
  },
  {
   "cell_type": "code",
   "execution_count": 481,
   "metadata": {},
   "outputs": [
    {
     "data": {
      "text/plain": [
       "2.4278098495001795e-09"
      ]
     },
     "execution_count": 481,
     "metadata": {},
     "output_type": "execute_result"
    }
   ],
   "source": [
    "l_ph**3"
   ]
  },
  {
   "cell_type": "code",
   "execution_count": 482,
   "metadata": {},
   "outputs": [
    {
     "data": {
      "text/plain": [
       "0.07414035459408844"
      ]
     },
     "execution_count": 482,
     "metadata": {},
     "output_type": "execute_result"
    }
   ],
   "source": [
    "a/(np.sqrt(137)*(4*np.pi)**2)"
   ]
  },
  {
   "cell_type": "code",
   "execution_count": 483,
   "metadata": {},
   "outputs": [
    {
     "data": {
      "text/plain": [
       "1.3062424977649562e+26"
      ]
     },
     "execution_count": 483,
     "metadata": {},
     "output_type": "execute_result"
    }
   ],
   "source": [
    "((a/(np.sqrt(137)*(4*np.pi*F)**2))*(lambdabare**4)*(l_ph**3)*(lambdabar_cmb/l_P)**8)**(1/7)"
   ]
  },
  {
   "cell_type": "code",
   "execution_count": 484,
   "metadata": {},
   "outputs": [],
   "source": [
    "#((a/np.sqrt(137)*(4*np.pi*F)**2)*(lambdabare**4)*(l_ph**3)*(lambdabar_cmb/l_P)**8)**(1/7)"
   ]
  },
  {
   "cell_type": "code",
   "execution_count": 485,
   "metadata": {},
   "outputs": [
    {
     "data": {
      "text/plain": [
       "1.3062424977649562e+26"
      ]
     },
     "execution_count": 485,
     "metadata": {},
     "output_type": "execute_result"
    }
   ],
   "source": [
    "(a/(np.sqrt(137)*(4*np.pi*F)**2)*(lambdabare**4)*(l_ph**3)*(lambdabar_cmb/l_P)**8)**(1/7)"
   ]
  },
  {
   "cell_type": "code",
   "execution_count": 486,
   "metadata": {},
   "outputs": [],
   "source": [
    "R_22=((a/(np.sqrt(137)*(4*np.pi*F)**2)*lambdabare**4*l_ph**3)*(lambdabar_cmb/l_P)**8)**(1/7)"
   ]
  },
  {
   "cell_type": "code",
   "execution_count": 487,
   "metadata": {},
   "outputs": [
    {
     "data": {
      "text/plain": [
       "13.806994095759556"
      ]
     },
     "execution_count": 487,
     "metadata": {},
     "output_type": "execute_result"
    }
   ],
   "source": [
    "# Radius in Gly\n",
    "R_22/(constants.light_year*10**9)"
   ]
  },
  {
   "cell_type": "markdown",
   "metadata": {},
   "source": [
    "========================================================================================================================="
   ]
  },
  {
   "cell_type": "markdown",
   "metadata": {},
   "source": [
    "# $R_{23}=(x.R1^2)/R_N$\n",
    "* With $x=(11/4)^{3/610}$"
   ]
  },
  {
   "cell_type": "code",
   "execution_count": 488,
   "metadata": {},
   "outputs": [
    {
     "data": {
      "text/plain": [
       "2.499978924038854"
      ]
     },
     "execution_count": 488,
     "metadata": {},
     "output_type": "execute_result"
    }
   ],
   "source": [
    "((1/np.log(2))**2.5)"
   ]
  },
  {
   "cell_type": "code",
   "execution_count": 489,
   "metadata": {},
   "outputs": [
    {
     "name": "stdout",
     "output_type": "stream",
     "text": [
      "1.4923645070720404e+26 1.7128941630000002e+26 1.0049874827424896\n"
     ]
    }
   ],
   "source": [
    "R1=(np.exp((((a*H)/p*0.6449340668482264)+1)-gamma))*lambdabare\n",
    "x=(11/4)**(3/610)\n",
    "RN=1.712894163*10**26 \n",
    "print(R1,RN,x)"
   ]
  },
  {
   "cell_type": "code",
   "execution_count": 490,
   "metadata": {},
   "outputs": [
    {
     "data": {
      "text/plain": [
       "1.0049874827424896"
      ]
     },
     "execution_count": 490,
     "metadata": {},
     "output_type": "execute_result"
    }
   ],
   "source": [
    "(11/4)**(3/610)"
   ]
  },
  {
   "cell_type": "code",
   "execution_count": 491,
   "metadata": {},
   "outputs": [],
   "source": [
    "# R_1=1.492365475 × 10^26 \n",
    "R_23=(x*R1**2)/RN"
   ]
  },
  {
   "cell_type": "code",
   "execution_count": 492,
   "metadata": {},
   "outputs": [
    {
     "data": {
      "text/plain": [
       "13.811958871705365"
      ]
     },
     "execution_count": 492,
     "metadata": {},
     "output_type": "execute_result"
    }
   ],
   "source": [
    "# Radius in Gly\n",
    "R_23/(constants.light_year*10**9)"
   ]
  },
  {
   "cell_type": "markdown",
   "metadata": {},
   "source": [
    "========================================================================================================================="
   ]
  },
  {
   "cell_type": "markdown",
   "metadata": {},
   "source": [
    "# Mono-electron universe radius calculus \n",
    "$ƛe.exp((\\pi^2/6-1).(aH/p) + 1 - \\gamma )$\n",
    "* With $a \\approx a.H/p \\approx a.((1+1/p)) \\approx a.(1/(1/p+1))$\n"
   ]
  },
  {
   "cell_type": "code",
   "execution_count": 493,
   "metadata": {},
   "outputs": [
    {
     "data": {
      "text/plain": [
       "136.96140756984636"
      ]
     },
     "execution_count": 493,
     "metadata": {},
     "output_type": "execute_result"
    }
   ],
   "source": [
    "a*(1/(1/p+1))"
   ]
  },
  {
   "cell_type": "code",
   "execution_count": 494,
   "metadata": {},
   "outputs": [
    {
     "data": {
      "text/plain": [
       "137.11063122135334"
      ]
     },
     "execution_count": 494,
     "metadata": {},
     "output_type": "execute_result"
    }
   ],
   "source": [
    "a*((1+1/p))"
   ]
  },
  {
   "cell_type": "code",
   "execution_count": 495,
   "metadata": {},
   "outputs": [
    {
     "data": {
      "text/plain": [
       "137.11063022886907"
      ]
     },
     "execution_count": 495,
     "metadata": {},
     "output_type": "execute_result"
    }
   ],
   "source": [
    "(a*H)/p"
   ]
  },
  {
   "cell_type": "code",
   "execution_count": 496,
   "metadata": {},
   "outputs": [
    {
     "data": {
      "text/plain": [
       "0.6449340668482264"
      ]
     },
     "execution_count": 496,
     "metadata": {},
     "output_type": "execute_result"
    }
   ],
   "source": [
    "(((np.pi**2)/6)-1)"
   ]
  },
  {
   "cell_type": "code",
   "execution_count": 497,
   "metadata": {},
   "outputs": [
    {
     "name": "stdout",
     "output_type": "stream",
     "text": [
      "1.4923654623153317e+26\n",
      "1.4923645070720404e+26\n"
     ]
    }
   ],
   "source": [
    "# monoelectronic universe radius in m\n",
    "R1prime=(np.exp((((a*H)/p*(((np.pi**2)/6)-1))+1)-gamma))*lambdabare\n",
    "R1=(np.exp(((a*((1+1/p))*(((np.pi**2)/6)-1))+1)-gamma))*lambdabare\n",
    "print(R1)\n",
    "print(R1prime)"
   ]
  },
  {
   "cell_type": "code",
   "execution_count": 498,
   "metadata": {},
   "outputs": [
    {
     "name": "stdout",
     "output_type": "stream",
     "text": [
      "15.774315383368366\n",
      "15.774305286438809\n"
     ]
    }
   ],
   "source": [
    "# Radius in Gly\n",
    "GlyR1=R1/(constants.light_year*10**9)\n",
    "GlyR1prime=R1prime/(constants.light_year*10**9)\n",
    "print(GlyR1)\n",
    "print(GlyR1prime)"
   ]
  },
  {
   "cell_type": "code",
   "execution_count": 499,
   "metadata": {},
   "outputs": [
    {
     "data": {
      "text/plain": [
       "2.6580092611335417e+26"
      ]
     },
     "execution_count": 499,
     "metadata": {},
     "output_type": "execute_result"
    }
   ],
   "source": [
    "#3.8610**38  ƛe.exp((\\pi^2/6-1).(aH/p) + 1 - \\gamma )\n",
    "(np.exp(((a*H)/p)*((np.pi**(2)/6)-1)+1)-gamma)*lambdabare"
   ]
  },
  {
   "cell_type": "markdown",
   "metadata": {},
   "source": [
    "$sin^2.\\theta$"
   ]
  },
  {
   "cell_type": "code",
   "execution_count": 500,
   "metadata": {},
   "outputs": [
    {
     "data": {
      "text/plain": [
       "0.9124443057840286"
      ]
     },
     "execution_count": 500,
     "metadata": {},
     "output_type": "execute_result"
    }
   ],
   "source": [
    "(1/np.log(2))**(-1/4)"
   ]
  },
  {
   "cell_type": "code",
   "execution_count": 501,
   "metadata": {},
   "outputs": [
    {
     "data": {
      "text/plain": [
       "136.9957461328975"
      ]
     },
     "execution_count": 501,
     "metadata": {},
     "output_type": "execute_result"
    }
   ],
   "source": [
    "np.log((OM*OB)/2)/(np.log(np.log(2)))/-4"
   ]
  },
  {
   "cell_type": "markdown",
   "metadata": {},
   "source": [
    "========================================================================================================================="
   ]
  },
  {
   "cell_type": "markdown",
   "metadata": {},
   "source": [
    "# $2βƛ_e j^{17} (4π)^2 √137$"
   ]
  },
  {
   "cell_type": "code",
   "execution_count": 502,
   "metadata": {},
   "outputs": [
    {
     "name": "stdout",
     "output_type": "stream",
     "text": [
      "1.0000132985268892\n"
     ]
    }
   ],
   "source": [
    "beta=(H-p)**(-1)\n",
    "print(beta)"
   ]
  },
  {
   "cell_type": "code",
   "execution_count": 503,
   "metadata": {},
   "outputs": [],
   "source": [
    "R_j17=(2*beta*lambdabare*j**17*(4*np.pi)**2)*np.sqrt(137)"
   ]
  },
  {
   "cell_type": "code",
   "execution_count": 504,
   "metadata": {},
   "outputs": [
    {
     "name": "stdout",
     "output_type": "stream",
     "text": [
      "13.811797040850742\n",
      "15.774305286438809\n"
     ]
    }
   ],
   "source": [
    "# Radius in Gly\n",
    "GlyRj17=R_j17/(constants.light_year*10**9)\n",
    "GlyR1prime=R1prime/(constants.light_year*10**9)\n",
    "print(GlyRj17)\n",
    "print(GlyR1prime)"
   ]
  },
  {
   "cell_type": "markdown",
   "metadata": {},
   "source": [
    "# $(ƛ_e^2 /l_P )(j/16)^{16} ( e^e )^2 d_e √2$"
   ]
  },
  {
   "cell_type": "code",
   "execution_count": 505,
   "metadata": {},
   "outputs": [
    {
     "data": {
      "text/plain": [
       "1.6163947113699356e-35"
      ]
     },
     "execution_count": 505,
     "metadata": {},
     "output_type": "execute_result"
    }
   ],
   "source": [
    "l_P"
   ]
  },
  {
   "cell_type": "code",
   "execution_count": 506,
   "metadata": {},
   "outputs": [],
   "source": [
    "Rj16=(lambdabare**2/l_P*((j/16)**16)*(e**e)**2)*(d_e)*np.sqrt(2)"
   ]
  },
  {
   "cell_type": "code",
   "execution_count": 507,
   "metadata": {},
   "outputs": [
    {
     "data": {
      "text/plain": [
       "43562081064894.15"
      ]
     },
     "execution_count": 507,
     "metadata": {},
     "output_type": "execute_result"
    }
   ],
   "source": [
    "(j/16)**16"
   ]
  },
  {
   "cell_type": "code",
   "execution_count": 508,
   "metadata": {},
   "outputs": [
    {
     "data": {
      "text/plain": [
       "229.65166408352397"
      ]
     },
     "execution_count": 508,
     "metadata": {},
     "output_type": "execute_result"
    }
   ],
   "source": [
    "(e**e)**2"
   ]
  },
  {
   "cell_type": "code",
   "execution_count": 509,
   "metadata": {},
   "outputs": [
    {
     "data": {
      "text/plain": [
       "1.00115965218128"
      ]
     },
     "execution_count": 509,
     "metadata": {},
     "output_type": "execute_result"
    }
   ],
   "source": [
    "d_e"
   ]
  },
  {
   "cell_type": "code",
   "execution_count": 510,
   "metadata": {},
   "outputs": [
    {
     "name": "stdout",
     "output_type": "stream",
     "text": [
      "13.811797040850742\n",
      "13.812025973801315\n"
     ]
    }
   ],
   "source": [
    "# Radius in Gly\n",
    "GlyRj17=R_j17/(constants.light_year*10**9)\n",
    "GlyRj16=Rj16/(constants.light_year*10**9)\n",
    "print(GlyRj17)\n",
    "print(GlyRj16)"
   ]
  },
  {
   "cell_type": "markdown",
   "metadata": {},
   "source": [
    "# $ƛ_e(3j^j /2H)^{1/6}$"
   ]
  },
  {
   "cell_type": "code",
   "execution_count": 511,
   "metadata": {},
   "outputs": [
    {
     "name": "stdout",
     "output_type": "stream",
     "text": [
      "1.3067153874771553e+26\n"
     ]
    }
   ],
   "source": [
    "# Radius in m\n",
    "Rjj=lambdabare*((3*j**j)/(2*H))**(1/6)\n",
    "print(Rjj)"
   ]
  },
  {
   "cell_type": "code",
   "execution_count": 512,
   "metadata": {},
   "outputs": [
    {
     "name": "stdout",
     "output_type": "stream",
     "text": [
      "13.811992543961518\n"
     ]
    }
   ],
   "source": [
    "# Distance Radius Length in Gly\n",
    "GlyRjj=Rjj/(constants.light_year*10**9)\n",
    "print(GlyRjj)"
   ]
  },
  {
   "cell_type": "markdown",
   "metadata": {},
   "source": [
    "========================================================================================================================="
   ]
  },
  {
   "cell_type": "markdown",
   "metadata": {},
   "source": [
    "# Electric Constant \"a\" calculus"
   ]
  },
  {
   "cell_type": "markdown",
   "metadata": {},
   "source": [
    "$a \\approx (\\frac{\\lambda_{cmb}^5.l_{Wien}^4/l_{ph}^9}{\\pi^3})^2 \\approx (16\\xi(3)^3/\\omega^4)^2$"
   ]
  },
  {
   "cell_type": "code",
   "execution_count": 513,
   "metadata": {},
   "outputs": [
    {
     "data": {
      "text/plain": [
       "137.0359990836958"
      ]
     },
     "execution_count": 513,
     "metadata": {},
     "output_type": "execute_result"
    }
   ],
   "source": [
    "a"
   ]
  },
  {
   "cell_type": "code",
   "execution_count": 514,
   "metadata": {},
   "outputs": [
    {
     "data": {
      "text/plain": [
       "139.09491763634472"
      ]
     },
     "execution_count": 514,
     "metadata": {},
     "output_type": "execute_result"
    }
   ],
   "source": [
    "(((lambda_cmb**5*l_wi**4)/l_ph**9)/np.pi**3)**2\n",
    "#lambda**5"
   ]
  },
  {
   "cell_type": "code",
   "execution_count": 515,
   "metadata": {},
   "outputs": [
    {
     "name": "stdout",
     "output_type": "stream",
     "text": [
      "0.002897771955\n"
     ]
    }
   ],
   "source": [
    "#2.897 771 955... e-3 m.K - NIST CODATA 2018\n",
    "b=2.897771955*10**(-3)\n",
    "#lambdawien=(h*c)/(k_B*)\n",
    "# b=lambda/lambdawien\n",
    "print(b)"
   ]
  },
  {
   "cell_type": "code",
   "execution_count": 516,
   "metadata": {},
   "outputs": [
    {
     "name": "stdout",
     "output_type": "stream",
     "text": [
      "2.6226555739400742e+34\n"
     ]
    }
   ],
   "source": [
    "𝜔=(h*c)/(k_B*b)\n",
    "print(𝜔)"
   ]
  },
  {
   "cell_type": "code",
   "execution_count": 517,
   "metadata": {},
   "outputs": [
    {
     "data": {
      "text/plain": [
       "2.2612052226456562e-268"
      ]
     },
     "execution_count": 517,
     "metadata": {},
     "output_type": "execute_result"
    }
   ],
   "source": [
    "(((16*apery)**3)/𝜔**4)**2"
   ]
  },
  {
   "cell_type": "markdown",
   "metadata": {},
   "source": [
    "========================================================================================================================="
   ]
  },
  {
   "cell_type": "markdown",
   "metadata": {},
   "source": [
    "# Wien Constant\n",
    "$ω = hc/k_B \\lambda_{wien} = 5(1-e^{-ω} )$\n",
    "(official value : $hc/bk_B$ = 4.9651141632 : )"
   ]
  },
  {
   "cell_type": "code",
   "execution_count": 518,
   "metadata": {},
   "outputs": [
    {
     "name": "stdout",
     "output_type": "stream",
     "text": [
      "0.002897771955\n"
     ]
    }
   ],
   "source": [
    "#2.897 771 955... e-3 m.K - NIST CODATA 2018\n",
    "b=2.897771955*10**(-3)\n",
    "#lambdawien=(h*c)/(k_B*)\n",
    "# b=lambda/lambdawien\n",
    "print(b)"
   ]
  },
  {
   "cell_type": "code",
   "execution_count": 519,
   "metadata": {},
   "outputs": [
    {
     "name": "stdout",
     "output_type": "stream",
     "text": [
      "2.6226555739400742e+34\n"
     ]
    }
   ],
   "source": [
    "𝜔=(h*c)/(k_B*b)\n",
    "print(𝜔)"
   ]
  },
  {
   "cell_type": "code",
   "execution_count": 520,
   "metadata": {},
   "outputs": [
    {
     "name": "stdout",
     "output_type": "stream",
     "text": [
      "7.599857769787976e+31\n"
     ]
    }
   ],
   "source": [
    "𝜆=(h*c)/k_B\n",
    "print(𝜆)"
   ]
  },
  {
   "cell_type": "code",
   "execution_count": 521,
   "metadata": {},
   "outputs": [
    {
     "name": "stdout",
     "output_type": "stream",
     "text": [
      "4.965114231744277\n"
     ]
    }
   ],
   "source": [
    "𝜔1=5*(1-np.e**-(4.9651142317443))\n",
    "print(𝜔1)"
   ]
  },
  {
   "cell_type": "markdown",
   "metadata": {},
   "source": [
    "========================================================================================================================="
   ]
  },
  {
   "cell_type": "markdown",
   "metadata": {},
   "source": [
    "In the following example, one can write the equation with Latex:"
   ]
  },
  {
   "cell_type": "code",
   "execution_count": 522,
   "metadata": {},
   "outputs": [
    {
     "data": {
      "text/latex": [
       "\\begin{eqnarray}\n",
       "\\ T^2=L^3=M^5=F^7 \\\\\n",
       "\\ R_U = \\frac{2\\cdot \\hbar^2}{G.m_e.m_p.m_n} \\\\\n",
       "\\ M_U = \\frac{{R}{c}^2}{2G} = \\frac{{m_P}^4}{m_em_pm_n} \\\\\n",
       "\\frac{r_H}{ƛ_e} = \\frac{\\sum\\frac{1}{n}}{\\sum\\frac{1}{n^2}}\\\\\n",
       "\\end{eqnarray}"
      ],
      "text/plain": [
       "<IPython.core.display.Latex object>"
      ]
     },
     "execution_count": 522,
     "metadata": {},
     "output_type": "execute_result"
    }
   ],
   "source": [
    "from IPython.display import Latex\n",
    "Latex(r\"\"\"\\begin{eqnarray}\n",
    "\\ T^2=L^3=M^5=F^7 \\\\\n",
    "\\ R_U = \\frac{2\\cdot \\hbar^2}{G.m_e.m_p.m_n} \\\\\n",
    "\\ M_U = \\frac{{R}{c}^2}{2G} = \\frac{{m_P}^4}{m_em_pm_n} \\\\\n",
    "\\frac{r_H}{ƛ_e} = \\frac{\\sum\\frac{1}{n}}{\\sum\\frac{1}{n^2}}\\\\\n",
    "\\end{eqnarray}\"\"\")\n"
   ]
  },
  {
   "cell_type": "markdown",
   "metadata": {},
   "source": [
    "========================================================================================================================="
   ]
  },
  {
   "cell_type": "markdown",
   "metadata": {},
   "source": [
    ":star:\n",
    "\n",
    "# Docs\n",
    "\n",
    "This project aims at providing a repository dedicated to Dr Francis Michel Sanchez's work in holography and cosmology; it is just a mere continuation of what was initiated and published in a set of theoritical physics articles.\n",
    "\n",
    "\n",
    "## Publications\n",
    "* Please, cite this paper (http://vixra.org/pdf/1811.0146v8.pdf) if you employ this package in your research work.\n",
    "* [Vixra Publications](http://vixra.org/author/francis_m_sanchez)\n",
    "* [Rxiv Publications](http://rxiv.org/author/f_m_sanchez)\n",
    "* [Nature: Observations of solar oscillations with periods of 160 minutes](https://www.nature.com/articles/277635a0)\n",
    "* [A coherent resonant cosmology approach and its implications in microphysics and Biophysics Pages 375-407 of Quantum Systems in Physics, Chemistry](https://www.springer.com/fr/book/9783319502540?token=gbgen&wt_mc=GoogleBooks.GoogleBooks.3.EN#)\n",
    "* [From Coherent Cosmic Oscillations to the Steady-State Cyclic Ultrafast](https://rxiv.org/abs/1401.0228)\n",
    "* [Evidence for a Steady-State, Holographic, Tachyonic and Super-Symmetric Cosmology](https://www.researchgate.net/publication/267430152_Evidence_for_a_Steady-State_Holographic_Tachyonic_and_Super-Symmetric_Cosmology)\n",
    "* [academia.edu Correcting Five Historical Faults in Modern Cosmology](https://www.academia.edu/30843365/Correcting_Five_Historical_Faults_in_Modern_Cosmology)\n",
    "\n",
    "## Videos\n",
    "\n",
    "* [L'enigme des grands nombres Part1](https://www.youtube.com/watch?v=ev_eIqLtK8s)\n",
    "* [L'enigme des grands nombres Part2](https://www.youtube.com/watch?v=i4w392nYqns)\n",
    "* [L'enigme des grands nombres Part3](https://www.youtube.com/watch?v=b4WvI0yVXnE)\n",
    "* [Exposés de Francis Sanchez playlist created by J.Bailhache](https://www.youtube.com/playlist?list=PLQXUNrzoAeFbmfHo3jgWzzExlVoBn2JUw)\n",
    "* [Khelif/Torgoz/Sanchez' Debate on LE FORMALISME EN PHYSIQUE ET EN SCIENCE](https://www.youtube.com/watch?v=TEK2hCI2we0)\n",
    "\n",
    "* [La science du 3eme millenaire playlist created by J.Bailhache](https://www.youtube.com/playlist?list=PLQXUNrzoAeFbLOuEsltAUWJWCcAEgeGJE)\n",
    "* [Francis Sanchez Cosmologie 23/03/2017](https://www.youtube.com/watch?v=NmvvIQjxBw8)\n",
    "* [La complexité mathématique face à la simplicité cosmique - Exposé de Francis Sanchez](https://www.youtube.com/watch?v=dyUlUahgHGg)\n",
    "* [La méthode scientifique en question et les constantes fondamentales - Exposé](https://www.youtube.com/watch?v=zUt1hxTdiuA)\n",
    "* [Jean Maruani chez lui et Francis Sanchez autour du nombre 237 29. 12. 17](https://www.youtube.com/watch?v=05g416VWjnw)\n",
    "* [Pr. Michel Grosmann: Holographie quanto-cosmique](https://www.youtube.com/watch?v=M7bJnekDIt0)\n",
    "* [Pr. Renée Veysseyre: La constante d'Atiyah réunifie Physique et Mathématique](https://www.youtube.com/watch?v=mbPpKqakDAU)\n",
    "* [Christian Bizouard, astronome: Omniprésence astrophysique du cycle de Kotov](https://www.youtube.com/watch?v=DGeBC73kKvQ)\n",
    "* [Pr. Francis Sanchez: Historique, Principe Calculatoire, Axe Topologique et Principe Holique](https://www.youtube.com/watch?v=IgKSrfsqFEs)\n",
    "\n",
    "## Books\n",
    "\n",
    "* [Bizouard, Kotov, Sanchez wrote in 20th Natural Philosophy Alliance Proceedings by David de Hilster, published by Lulu.com in 2013]()\n",
    "* [Quantum Systems in Physics, Chemistry, Springer Ed](https://www.amazon.com/gp/search?index=books&linkCode=qs&keywords=9783319502557)\n",
    "* [The Worldwide List of Alternative Theories and Critics](https://books.google.com/books?isbn=2902425171)\n",
    "* [The Dirac Electron: From Quantum Chemistry to Holistic Cosmology by J.Maruani](https://onlinelibrary.wiley.com/doi/abs/10.1002/jccs.201500374#)\n",
    "* [solar 22 years cycle](https://link.springer.com/article/10.1007%2Fs10509-016-2985-8)\n",
    "* [Current Issues in Cosmology](https://www.cambridge.org/gb/academic/subjects/physics/cosmology-relativity-and-gravitation/current-issues-cosmology?format=HB&isbn=9780521858984)\n",
    "* ```@inproceedings{Sanchez2015RemarkablePO,\n",
    "  title=Remarkable Properties of the Eddington Number 137 and Electric Parameter 137 . 036 excluding the Multiverse Hypothesis},\n",
    "  author={Francis M. Sanchez and Valery A. Kotov,\n",
    "  year=2015```\n",
    "\n",
    "## Papers\n",
    "\n",
    "* [College de France (2004): Discussions sur les oscillations cosmiques, les nombres sans dimension et les periodicites en microphysique et cosmologie - College de France 27th Feb 2004](https://lempel.pagesperso-orange.fr/occ_cdf.pdf)\n",
    "\n",
    "More to come soon stay tuned.../.:stars:."
   ]
  },
  {
   "cell_type": "markdown",
   "metadata": {},
   "source": [
    "========================================================================================================================="
   ]
  },
  {
   "cell_type": "code",
   "execution_count": 523,
   "metadata": {},
   "outputs": [
    {
     "data": {
      "text/latex": [
       "\\begin{eqnarray}\n",
       "T^2=L^3=M^5=F^7 \\\\\n",
       "\\frac{m_p^4}{m_p\\cdot m_H\\cdot\\ m_e} = M_U \\\\\n",
       "\\frac{\\pi_Pt}{\\pi_Bb} = 6 \\cdot \\frac{\\pi^5}{p_H^9} \\\\\n",
       "\\end{eqnarray}"
      ],
      "text/plain": [
       "<IPython.core.display.Latex object>"
      ]
     },
     "execution_count": 523,
     "metadata": {},
     "output_type": "execute_result"
    }
   ],
   "source": [
    "#Write your equation in a dedicated cell with latex\n",
    "\n",
    "from IPython.display import Latex\n",
    "Latex(r\"\"\"\\begin{eqnarray}\n",
    "T^2=L^3=M^5=F^7 \\\\\n",
    "\\frac{m_p^4}{m_p\\cdot m_H\\cdot\\ m_e} = M_U \\\\\n",
    "\\frac{\\pi_Pt}{\\pi_Bb} = 6 \\cdot \\frac{\\pi^5}{p_H^9} \\\\\n",
    "\\end{eqnarray}\"\"\")"
   ]
  },
  {
   "cell_type": "code",
   "execution_count": 524,
   "metadata": {},
   "outputs": [
    {
     "data": {
      "text/latex": [
       "\\begin{eqnarray}\n",
       "S = \\frac{c^3 k A}{4 \\hbar G} \\\\\n",
       "\\end{eqnarray}"
      ],
      "text/plain": [
       "<IPython.core.display.Latex object>"
      ]
     },
     "execution_count": 524,
     "metadata": {},
     "output_type": "execute_result"
    }
   ],
   "source": [
    "#Write Bekenstein-Hawking Entropy \n",
    "from IPython.display import Latex\n",
    "Latex(r\"\"\"\\begin{eqnarray}\n",
    "S = \\frac{c^3 k A}{4 \\hbar G} \\\\\n",
    "\\end{eqnarray}\"\"\")"
   ]
  },
  {
   "cell_type": "code",
   "execution_count": null,
   "metadata": {},
   "outputs": [],
   "source": []
  },
  {
   "cell_type": "code",
   "execution_count": null,
   "metadata": {},
   "outputs": [],
   "source": []
  }
 ],
 "metadata": {
  "kernelspec": {
   "display_name": "Python 3",
   "language": "python",
   "name": "python3"
  },
  "language_info": {
   "codemirror_mode": {
    "name": "ipython",
    "version": 3
   },
   "file_extension": ".py",
   "mimetype": "text/x-python",
   "name": "python",
   "nbconvert_exporter": "python",
   "pygments_lexer": "ipython3",
   "version": "3.7.6"
  }
 },
 "nbformat": 4,
 "nbformat_minor": 4
}
