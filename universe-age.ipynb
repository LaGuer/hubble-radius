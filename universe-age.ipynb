{
 "cells": [
  {
   "cell_type": "markdown",
   "metadata": {},
   "source": [
    "========================================================================================================================="
   ]
  },
  {
   "cell_type": "markdown",
   "metadata": {},
   "source": [
    "# How to determine the age of the Universe in a Jupyter Notebook"
   ]
  },
  {
   "cell_type": "markdown",
   "metadata": {},
   "source": [
    "========================================================================================================================="
   ]
  },
  {
   "cell_type": "markdown",
   "metadata": {},
   "source": [
    "## 10 Methods "
   ]
  },
  {
   "cell_type": "markdown",
   "metadata": {},
   "source": [
    "========================================================================================================================="
   ]
  },
  {
   "cell_type": "markdown",
   "metadata": {},
   "source": [
    "========================================================================================================================="
   ]
  },
  {
   "cell_type": "markdown",
   "metadata": {},
   "source": [
    "# Universe Horizon Radius calculus in 3 minutes (method 1)\n",
    "$$R_U=\\frac{2.\\hbar^2}{G.m_e.m_p.m_n}$$"
   ]
  },
  {
   "cell_type": "code",
   "execution_count": 1,
   "metadata": {},
   "outputs": [],
   "source": [
    "from scipy import constants"
   ]
  },
  {
   "cell_type": "code",
   "execution_count": 2,
   "metadata": {},
   "outputs": [
    {
     "name": "stdout",
     "output_type": "stream",
     "text": [
      "1.3058515261319119e+26\n"
     ]
    }
   ],
   "source": [
    "R_U=2*constants.hbar**2/(constants.G*constants.m_e*constants.m_p*constants.m_n)\n",
    "print(R_U)"
   ]
  },
  {
   "cell_type": "markdown",
   "metadata": {},
   "source": [
    "## One obtains 13.802861522337478 Gly with method 1"
   ]
  },
  {
   "cell_type": "code",
   "execution_count": 3,
   "metadata": {},
   "outputs": [
    {
     "data": {
      "text/plain": [
       "13.802861522337478"
      ]
     },
     "execution_count": 3,
     "metadata": {},
     "output_type": "execute_result"
    }
   ],
   "source": [
    "R_U/(constants.light_year*10**9)"
   ]
  },
  {
   "cell_type": "markdown",
   "metadata": {},
   "source": [
    "========================================================================================================================="
   ]
  },
  {
   "cell_type": "markdown",
   "metadata": {},
   "source": [
    "# Nambu Universe Radius calculus in 3 minutes (method 2)\n",
    "$$R_N=\\frac{2.\\hbar^2}{G.(m_N)^3}$$"
   ]
  },
  {
   "cell_type": "markdown",
   "metadata": {},
   "source": [
    "### https://en.wikipedia.org/wiki/Yoichiro_Nambu"
   ]
  },
  {
   "cell_type": "markdown",
   "metadata": {},
   "source": [
    "With Nambu mass $$m_N=m_e.a$$ and $$a=1/\\alpha$$"
   ]
  },
  {
   "cell_type": "code",
   "execution_count": 5,
   "metadata": {},
   "outputs": [
    {
     "name": "stdout",
     "output_type": "stream",
     "text": [
      "137.0359990836958\n"
     ]
    }
   ],
   "source": [
    "a=(1/constants.fine_structure)\n",
    "print(a)"
   ]
  },
  {
   "cell_type": "code",
   "execution_count": 6,
   "metadata": {},
   "outputs": [
    {
     "name": "stdout",
     "output_type": "stream",
     "text": [
      "1.7131902573578377e+26\n"
     ]
    }
   ],
   "source": [
    "R_N=2*constants.hbar**2/(constants.G*((a)*constants.m_e)**3)\n",
    "print(R_N)"
   ]
  },
  {
   "cell_type": "markdown",
   "metadata": {},
   "source": [
    "## One obtains 18.108435308700802 Gly with method 2"
   ]
  },
  {
   "cell_type": "code",
   "execution_count": 7,
   "metadata": {},
   "outputs": [
    {
     "data": {
      "text/plain": [
       "18.108435308700802"
      ]
     },
     "execution_count": 7,
     "metadata": {},
     "output_type": "execute_result"
    }
   ],
   "source": [
    "R_N/(constants.light_year*10**9)"
   ]
  },
  {
   "cell_type": "markdown",
   "metadata": {},
   "source": [
    "$$R_N'=ƛ_e(2R/R_N)^{210}$$ and $$R=\\frac{2.\\hbar^2}{G.m_e.m_p.m_H}$$"
   ]
  },
  {
   "cell_type": "code",
   "execution_count": 41,
   "metadata": {},
   "outputs": [
    {
     "ename": "SyntaxError",
     "evalue": "invalid syntax (<ipython-input-41-bd479024f253>, line 1)",
     "output_type": "error",
     "traceback": [
      "\u001b[0;36m  File \u001b[0;32m\"<ipython-input-41-bd479024f253>\"\u001b[0;36m, line \u001b[0;32m1\u001b[0m\n\u001b[0;31m    constants.physical_constants[]\u001b[0m\n\u001b[0m                                 ^\u001b[0m\n\u001b[0;31mSyntaxError\u001b[0m\u001b[0;31m:\u001b[0m invalid syntax\n"
     ]
    }
   ],
   "source": [
    "constants.physical_constants[]"
   ]
  },
  {
   "cell_type": "code",
   "execution_count": null,
   "metadata": {},
   "outputs": [],
   "source": [
    "constants."
   ]
  },
  {
   "cell_type": "code",
   "execution_count": null,
   "metadata": {},
   "outputs": [],
   "source": [
    "m_H=constants.m_e"
   ]
  },
  {
   "cell_type": "code",
   "execution_count": null,
   "metadata": {},
   "outputs": [],
   "source": [
    "R=2*constants.hbar**2/(constants.G*constants.m_e*constants.m_p*constants.m_H)\n",
    "print(R)"
   ]
  },
  {
   "cell_type": "code",
   "execution_count": 7,
   "metadata": {},
   "outputs": [
    {
     "ename": "NameError",
     "evalue": "name 'R' is not defined",
     "output_type": "error",
     "traceback": [
      "\u001b[0;31m---------------------------------------------------------------------------\u001b[0m",
      "\u001b[0;31mNameError\u001b[0m                                 Traceback (most recent call last)",
      "\u001b[0;32m<ipython-input-7-43432ea2a3ba>\u001b[0m in \u001b[0;36m<module>\u001b[0;34m\u001b[0m\n\u001b[0;32m----> 1\u001b[0;31m \u001b[0mR_Nprime\u001b[0m\u001b[0;34m=\u001b[0m\u001b[0;34m(\u001b[0m\u001b[0mconstants\u001b[0m\u001b[0;34m.\u001b[0m\u001b[0mhbar\u001b[0m\u001b[0;34m/\u001b[0m\u001b[0;34m(\u001b[0m\u001b[0mconstants\u001b[0m\u001b[0;34m.\u001b[0m\u001b[0mm_e\u001b[0m\u001b[0;34m*\u001b[0m\u001b[0mconstants\u001b[0m\u001b[0;34m.\u001b[0m\u001b[0mc\u001b[0m\u001b[0;34m)\u001b[0m\u001b[0;34m)\u001b[0m\u001b[0;34m*\u001b[0m\u001b[0;34m(\u001b[0m\u001b[0;36m2\u001b[0m\u001b[0;34m*\u001b[0m\u001b[0mR\u001b[0m\u001b[0;34m/\u001b[0m\u001b[0mR_N\u001b[0m\u001b[0;34m)\u001b[0m\u001b[0;34m**\u001b[0m\u001b[0;36m210\u001b[0m\u001b[0;34m\u001b[0m\u001b[0;34m\u001b[0m\u001b[0m\n\u001b[0m",
      "\u001b[0;31mNameError\u001b[0m: name 'R' is not defined"
     ]
    }
   ],
   "source": [
    "R_Nprime=(constants.hbar/(constants.m_e*constants.c))*(2*R/R_N)**210"
   ]
  },
  {
   "cell_type": "markdown",
   "metadata": {},
   "source": [
    "========================================================================================================================="
   ]
  },
  {
   "cell_type": "markdown",
   "metadata": {},
   "source": [
    "# Eddington Universe Radius calculus in 3 minutes (method 3)\n",
    "$$R_{Edd}=\\frac{2.\\hbar^2}{G.m_e.m_p^2}$$"
   ]
  },
  {
   "cell_type": "markdown",
   "metadata": {},
   "source": [
    "### https://en.wikipedia.org/wiki/Eddington_number"
   ]
  },
  {
   "cell_type": "code",
   "execution_count": 8,
   "metadata": {},
   "outputs": [
    {
     "name": "stdout",
     "output_type": "stream",
     "text": [
      "1.3076515370853231e+26\n"
     ]
    }
   ],
   "source": [
    "R_Edd=2*constants.hbar**2/(constants.G*constants.m_e*constants.m_p**2)\n",
    "print(R_Edd)"
   ]
  },
  {
   "cell_type": "markdown",
   "metadata": {},
   "source": [
    "## One obtains 13.82188765312757 Gly with method 3"
   ]
  },
  {
   "cell_type": "code",
   "execution_count": 9,
   "metadata": {},
   "outputs": [
    {
     "data": {
      "text/plain": [
       "13.82188765312757"
      ]
     },
     "execution_count": 9,
     "metadata": {},
     "output_type": "execute_result"
    }
   ],
   "source": [
    "R_Edd/(constants.light_year*10**9)"
   ]
  },
  {
   "cell_type": "markdown",
   "metadata": {},
   "source": [
    "========================================================================================================================="
   ]
  },
  {
   "cell_type": "markdown",
   "metadata": {},
   "source": [
    "# Francis M. Sanchez Universe Radius calculus in 3 minutes (method 4)\n",
    "$$R_{Francis.M.Sanchez}=ƛ_e.g(6)$$"
   ]
  },
  {
   "cell_type": "markdown",
   "metadata": {},
   "source": [
    "With $$g(k)=exp(2^{k+1/2})/k$$ when $$k=6$$"
   ]
  },
  {
   "cell_type": "markdown",
   "metadata": {},
   "source": [
    "And $$ƛ_e=\\frac{\\hbar}{m_e.c}$$ as the reduced Compton electron wavelength radius"
   ]
  },
  {
   "cell_type": "code",
   "execution_count": 10,
   "metadata": {},
   "outputs": [
    {
     "name": "stdout",
     "output_type": "stream",
     "text": [
      "1.307568892158173e+26\n"
     ]
    }
   ],
   "source": [
    "import numpy as np\n",
    "from scipy import constants\n",
    "R_FMS=(constants.hbar/(constants.m_e*constants.c))*np.exp(2**(6+(1/2)))/6\n",
    "print(R_FMS)"
   ]
  },
  {
   "cell_type": "markdown",
   "metadata": {},
   "source": [
    "## One obtains 13.821014095558315 Gly with method 4"
   ]
  },
  {
   "cell_type": "code",
   "execution_count": 11,
   "metadata": {},
   "outputs": [
    {
     "data": {
      "text/plain": [
       "13.821014095558315"
      ]
     },
     "execution_count": 11,
     "metadata": {},
     "output_type": "execute_result"
    }
   ],
   "source": [
    "R_FMS/(constants.light_year*10**9)"
   ]
  },
  {
   "cell_type": "markdown",
   "metadata": {},
   "source": [
    "========================================================================================================================="
   ]
  },
  {
   "cell_type": "markdown",
   "metadata": {},
   "source": [
    "# Universe Radius calculus based on Rydberg reduced wavelength (method 5) \n",
    "$$R_{Rydberg}=\\frac{(ƛ_{Ryd}.n^4)^2}{ƛ_p}$$"
   ]
  },
  {
   "cell_type": "code",
   "execution_count": 12,
   "metadata": {},
   "outputs": [
    {
     "name": "stdout",
     "output_type": "stream",
     "text": [
      "137.0359990836958\n"
     ]
    }
   ],
   "source": [
    "a=constants.fine_structure**-1\n",
    "print(a)"
   ]
  },
  {
   "cell_type": "code",
   "execution_count": 13,
   "metadata": {},
   "outputs": [
    {
     "data": {
      "text/plain": [
       "18778.865044866678"
      ]
     },
     "execution_count": 13,
     "metadata": {},
     "output_type": "execute_result"
    }
   ],
   "source": [
    "a**2"
   ]
  },
  {
   "cell_type": "code",
   "execution_count": 14,
   "metadata": {},
   "outputs": [
    {
     "name": "stdout",
     "output_type": "stream",
     "text": [
      "7.898725289848868e-12\n"
     ]
    }
   ],
   "source": [
    "lambdabarRyd=2*(constants.hbar/(constants.m_p*constants.c))*(a**2)\n",
    "print(lambdabarRyd)"
   ]
  },
  {
   "cell_type": "code",
   "execution_count": 50,
   "metadata": {},
   "outputs": [
    {
     "name": "stdout",
     "output_type": "stream",
     "text": [
      "2.966581924890947e-07\n"
     ]
    }
   ],
   "source": [
    "R_Ryd=(lambdabarRyd**2)/(constants.hbar/(constants.m_p*constants.c))\n",
    "print(R_Ryd)"
   ]
  },
  {
   "cell_type": "code",
   "execution_count": 51,
   "metadata": {},
   "outputs": [
    {
     "data": {
      "text/plain": [
       "3.13567956881208e-32"
      ]
     },
     "execution_count": 51,
     "metadata": {},
     "output_type": "execute_result"
    }
   ],
   "source": [
    "# Incorrect result , method to be modified\n",
    "R_Ryd/(constants.light_year*10**9)"
   ]
  },
  {
   "cell_type": "markdown",
   "metadata": {},
   "source": [
    "========================================================================================================================="
   ]
  },
  {
   "cell_type": "markdown",
   "metadata": {},
   "source": [
    "# Universe Radius calculus based on pi (method 6) \n",
    "$$R_{\\pi}=ƛ_e.\\pi^{155/2}$$"
   ]
  },
  {
   "cell_type": "code",
   "execution_count": 17,
   "metadata": {},
   "outputs": [
    {
     "name": "stdout",
     "output_type": "stream",
     "text": [
      "1.3058148293550039e+26\n"
     ]
    }
   ],
   "source": [
    "R_pi=(constants.hbar/(constants.m_e*constants.c))*constants.pi**(155/2)\n",
    "print(R_pi)"
   ]
  },
  {
   "cell_type": "markdown",
   "metadata": {},
   "source": [
    "## One obtains 13.802473637099501 Gly with method 6"
   ]
  },
  {
   "cell_type": "code",
   "execution_count": 18,
   "metadata": {},
   "outputs": [
    {
     "data": {
      "text/plain": [
       "13.802473637099501"
      ]
     },
     "execution_count": 18,
     "metadata": {},
     "output_type": "execute_result"
    }
   ],
   "source": [
    "R_pi/(constants.light_year*10**9)"
   ]
  },
  {
   "cell_type": "markdown",
   "metadata": {},
   "source": [
    "========================================================================================================================="
   ]
  },
  {
   "cell_type": "markdown",
   "metadata": {},
   "source": [
    "# Universe Radius calculus based on 2 (method 7) \n",
    "$$R_{2}=ƛ_e.2^{128}$$"
   ]
  },
  {
   "cell_type": "code",
   "execution_count": 19,
   "metadata": {},
   "outputs": [
    {
     "name": "stdout",
     "output_type": "stream",
     "text": [
      "1.3140318971018876e+26\n"
     ]
    }
   ],
   "source": [
    "R_2=(constants.hbar/(constants.m_e*constants.c))*2**128\n",
    "print(R_2)"
   ]
  },
  {
   "cell_type": "markdown",
   "metadata": {},
   "source": [
    "## One obtains 13.889328111716429 Gly with method 7"
   ]
  },
  {
   "cell_type": "code",
   "execution_count": 20,
   "metadata": {},
   "outputs": [
    {
     "data": {
      "text/plain": [
       "13.889328111716429"
      ]
     },
     "execution_count": 20,
     "metadata": {},
     "output_type": "execute_result"
    }
   ],
   "source": [
    "R_2/(constants.light_year*10**9)"
   ]
  },
  {
   "cell_type": "markdown",
   "metadata": {},
   "source": [
    "========================================================================================================================="
   ]
  },
  {
   "cell_type": "markdown",
   "metadata": {},
   "source": [
    "# Universe Radius calculus based on Fermion and Kotov period (method 8) \n",
    "$$R_{kotov-fermi}=(2.(c.t_k)^2)/(F^2.ƛ_e)$$"
   ]
  },
  {
   "cell_type": "code",
   "execution_count": 22,
   "metadata": {},
   "outputs": [
    {
     "name": "stdout",
     "output_type": "stream",
     "text": [
      "45400591780805.734\n"
     ]
    }
   ],
   "source": [
    "R_kf1=(2*(constants.c*9600.6))/(573007.82**2*(constants.hbar/(constants.m_e*constants.c)))\n",
    "print(R_kf1)"
   ]
  },
  {
   "cell_type": "markdown",
   "metadata": {},
   "source": [
    "$$R_{kotov-fermi}=\\frac{((2.t_k)^2/ƛ_e)}{F^2}$$"
   ]
  },
  {
   "cell_type": "code",
   "execution_count": 23,
   "metadata": {},
   "outputs": [
    {
     "name": "stdout",
     "output_type": "stream",
     "text": [
      "1.3067141449737733e+26\n"
     ]
    }
   ],
   "source": [
    "R_kf=(2*(constants.c*9600.6)**2)/(constants.hbar/(constants.m_e*constants.c)) / 573007.82**2\n",
    "print(R_kf)"
   ]
  },
  {
   "cell_type": "markdown",
   "metadata": {},
   "source": [
    "https://en.wikipedia.org/wiki/Light-year"
   ]
  },
  {
   "cell_type": "code",
   "execution_count": 24,
   "metadata": {},
   "outputs": [
    {
     "data": {
      "text/plain": [
       "9460730472580800.0"
      ]
     },
     "execution_count": 24,
     "metadata": {},
     "output_type": "execute_result"
    }
   ],
   "source": [
    "# https://en.wikipedia.org/wiki/Light-year\n",
    "constants.light_year"
   ]
  },
  {
   "cell_type": "code",
   "execution_count": 25,
   "metadata": {},
   "outputs": [
    {
     "data": {
      "text/plain": [
       "13.811979410690407"
      ]
     },
     "execution_count": 25,
     "metadata": {},
     "output_type": "execute_result"
    }
   ],
   "source": [
    "R_kf/(constants.light_year*10**9)"
   ]
  },
  {
   "cell_type": "markdown",
   "metadata": {},
   "source": [
    "========================================================================================================================="
   ]
  },
  {
   "cell_type": "markdown",
   "metadata": {},
   "source": [
    "# Universe Radius calculus based on \"a\"  (method 9) \n",
    "$$a=1/\\alpha$$ $\\alpha$ being the fine structure constant  $$R_{a}=ƛ_e.(2.\\pi^2.a^3)^5$$"
   ]
  },
  {
   "cell_type": "code",
   "execution_count": 26,
   "metadata": {},
   "outputs": [
    {
     "name": "stdout",
     "output_type": "stream",
     "text": [
      "3.8615926796089057e-13\n"
     ]
    }
   ],
   "source": [
    "lambdabare=(constants.hbar/(constants.m_e*constants.c))\n",
    "print(lambdabare)"
   ]
  },
  {
   "cell_type": "code",
   "execution_count": 27,
   "metadata": {},
   "outputs": [
    {
     "data": {
      "text/plain": [
       "2.2276645699260076e+33"
      ]
     },
     "execution_count": 27,
     "metadata": {},
     "output_type": "execute_result"
    }
   ],
   "source": [
    "(2*constants.pi**2)*((1/constants.fine_structure)**3)**5"
   ]
  },
  {
   "cell_type": "code",
   "execution_count": 28,
   "metadata": {},
   "outputs": [
    {
     "name": "stdout",
     "output_type": "stream",
     "text": [
      "1.3059760854303987e+26\n"
     ]
    }
   ],
   "source": [
    "R_a=((constants.pi**2*(2*(1/constants.fine_structure)**3))**5)*(constants.hbar/(constants.m_e*constants.c))\n",
    "print(R_a)"
   ]
  },
  {
   "cell_type": "code",
   "execution_count": 29,
   "metadata": {},
   "outputs": [
    {
     "data": {
      "text/plain": [
       "13.80417811516134"
      ]
     },
     "execution_count": 29,
     "metadata": {},
     "output_type": "execute_result"
    }
   ],
   "source": [
    "R_a/(constants.light_year*10**9)"
   ]
  },
  {
   "cell_type": "markdown",
   "metadata": {},
   "source": [
    "========================================================================================================================="
   ]
  },
  {
   "cell_type": "markdown",
   "metadata": {},
   "source": [
    "# Universe Radius calculus based on $c$ and $$M_U$$ (method 10) \n"
   ]
  },
  {
   "cell_type": "markdown",
   "metadata": {},
   "source": [
    "$$R_U = \\frac{2\\cdot G\\cdot M_U}{c^2}$$"
   ]
  },
  {
   "cell_type": "markdown",
   "metadata": {},
   "source": [
    "$$\\frac{m_p^4}{m_p\\cdot m_H\\cdot\\ m_e} = M_U$$"
   ]
  },
  {
   "cell_type": "code",
   "execution_count": 37,
   "metadata": {},
   "outputs": [
    {
     "name": "stdout",
     "output_type": "stream",
     "text": [
      "3.066961657680341e-24\n"
     ]
    }
   ],
   "source": [
    "# Use m_H instead of m_n\n",
    "M_U=((constants.m_p)**4)/(constants.m_p*constants.m_e*constants.m_n)\n",
    "print(M_U)"
   ]
  },
  {
   "cell_type": "code",
   "execution_count": 47,
   "metadata": {},
   "outputs": [
    {
     "name": "stdout",
     "output_type": "stream",
     "text": [
      "4.555149761835214e-51\n"
     ]
    }
   ],
   "source": [
    "R_method10=(2*constants.G*M_U)/constants.c**2\n",
    "print(R_method10)"
   ]
  },
  {
   "cell_type": "code",
   "execution_count": 45,
   "metadata": {},
   "outputs": [
    {
     "name": "stdout",
     "output_type": "stream",
     "text": [
      "1.4852320538237331e-27\n"
     ]
    }
   ],
   "source": [
    "R_method10=2*constants.G/constants.c**2\n",
    "print(R_method10)"
   ]
  },
  {
   "cell_type": "code",
   "execution_count": 48,
   "metadata": {},
   "outputs": [
    {
     "data": {
      "text/plain": [
       "4.81479709736685e-76"
      ]
     },
     "execution_count": 48,
     "metadata": {},
     "output_type": "execute_result"
    }
   ],
   "source": [
    "# Incorrect result , method to be modified\n",
    "R_method10/(constants.light_year*10**9)"
   ]
  },
  {
   "cell_type": "markdown",
   "metadata": {},
   "source": [
    "========================================================================================================================="
   ]
  },
  {
   "cell_type": "markdown",
   "metadata": {},
   "source": [
    "# Measurement Confirmation of the methods given above by:"
   ]
  },
  {
   "cell_type": "markdown",
   "metadata": {},
   "source": [
    "### Confirmation Measurement #1\n",
    "Universe Radius measurement based on supernovae 1a\n",
    "$$R_{S1a}=13.6(6)Gly$$"
   ]
  },
  {
   "cell_type": "markdown",
   "metadata": {},
   "source": [
    "### Confirmation Measurement #2 (Planck Space Observatory)\n",
    "https://en.wikipedia.org/wiki/Planck_(spacecraft)\n",
    "13.8 billion years (as of 2015) – 13.799±0.021 billion (109) years within the Lambda-CDM concordance model."
   ]
  },
  {
   "cell_type": "markdown",
   "metadata": {},
   "source": [
    "$$R_{Planck}=13.799±0.021 Gly$$"
   ]
  },
  {
   "cell_type": "markdown",
   "metadata": {},
   "source": [
    "### Confirmation Measurement #3 (James Webb Space Telescope)"
   ]
  },
  {
   "cell_type": "markdown",
   "metadata": {},
   "source": [
    "#### https://en.wikipedia.org/wiki/James_Webb_Space_Telescope"
   ]
  },
  {
   "cell_type": "markdown",
   "metadata": {},
   "source": [
    "Measurements due to start in 2021"
   ]
  },
  {
   "cell_type": "markdown",
   "metadata": {},
   "source": [
    "========================================================================================================================="
   ]
  },
  {
   "cell_type": "markdown",
   "metadata": {},
   "source": [
    "# Other estimates"
   ]
  },
  {
   "cell_type": "markdown",
   "metadata": {},
   "source": [
    "## Universe mass calculus given by the relation:"
   ]
  },
  {
   "cell_type": "code",
   "execution_count": 5,
   "metadata": {},
   "outputs": [
    {
     "data": {
      "text/latex": [
       "\\begin{align}\n",
       "\\frac{m_p^4}{m_p\\cdot m_H\\cdot\\ m_e} = M \\\\\n",
       "\\end{align}\n"
      ],
      "text/plain": [
       "<IPython.core.display.Latex object>"
      ]
     },
     "metadata": {},
     "output_type": "display_data"
    }
   ],
   "source": [
    "%%latex\n",
    "\\begin{align}\n",
    "\\frac{m_p^4}{m_p\\cdot m_H\\cdot\\ m_e} = M \\\\\n",
    "\\end{align}"
   ]
  },
  {
   "cell_type": "code",
   "execution_count": null,
   "metadata": {},
   "outputs": [],
   "source": []
  },
  {
   "cell_type": "markdown",
   "metadata": {},
   "source": [
    "In the following example, one can write the equation with Latex:"
   ]
  },
  {
   "cell_type": "code",
   "execution_count": 6,
   "metadata": {},
   "outputs": [
    {
     "data": {
      "text/latex": [
       "\\begin{eqnarray}\n",
       "\\frac{m_p^4}{m_p\\cdot m_H\\cdot\\ m_e} = M  \\\\\n",
       "\\ R_U = \\frac{2\\cdot G\\cdot M_U}{c^2} \\\\\n",
       "\\ M_U = \\frac{({ħc}{G})^2}{m_em_pm_h} \\\\\n",
       "\\frac{r_H}{ƛ_e} = \\frac{\\sum\\frac{1}{n}}{\\sum\\frac{1}{n^2}}\\\\\n",
       "\\end{eqnarray}"
      ],
      "text/plain": [
       "<IPython.core.display.Latex object>"
      ]
     },
     "execution_count": 6,
     "metadata": {},
     "output_type": "execute_result"
    }
   ],
   "source": [
    "from IPython.display import Latex\n",
    "Latex(r\"\"\"\\begin{eqnarray}\n",
    "\\frac{m_p^4}{m_p\\cdot m_H\\cdot\\ m_e} = M  \\\\\n",
    "\\ R_U = \\frac{2\\cdot G\\cdot M_U}{c^2} \\\\\n",
    "\\ M_U = \\frac{({ħc}{G})^2}{m_em_pm_h} \\\\\n",
    "\\frac{r_H}{ƛ_e} = \\frac{\\sum\\frac{1}{n}}{\\sum\\frac{1}{n^2}}\\\\\n",
    "\\end{eqnarray}\"\"\")\n"
   ]
  },
  {
   "cell_type": "markdown",
   "metadata": {},
   "source": [
    "========================================================================================================================="
   ]
  },
  {
   "cell_type": "markdown",
   "metadata": {},
   "source": [
    ":star:\n",
    "\n",
    "# Docs\n",
    "\n",
    "This project aims at providing a repository dedicated to Dr Francis Michel Sanchez's work in holography and cosmology; it is just a mere continuation of what was initiated and published in a set of theoritical physics articles.\n",
    "\n",
    "\n",
    "## Publications\n",
    "* Please, cite this paper (http://vixra.org/pdf/1811.0146v8.pdf) if you employ this package in your research work.\n",
    "* [Vixra Publications](http://vixra.org/author/francis_m_sanchez)\n",
    "* [Rxiv Publications](http://rxiv.org/author/f_m_sanchez)\n",
    "* [A coherent resonant cosmology approach and its implications in microphysics and Biophysics Pages 375-407 of Quantum Systems in Physics, Chemistry](https://www.springer.com/fr/book/9783319502540?token=gbgen&wt_mc=GoogleBooks.GoogleBooks.3.EN#)\n",
    "* [From Coherent Cosmic Oscillations to the Steady-State Cyclic Ultrafast](https://rxiv.org/abs/1401.0228)\n",
    "* [Evidence for a Steady-State, Holographic, Tachyonic and Super-Symmetric Cosmology](https://www.researchgate.net/publication/267430152_Evidence_for_a_Steady-State_Holographic_Tachyonic_and_Super-Symmetric_Cosmology)\n",
    "* [academia.edu Correcting Five Historical Faults in Modern Cosmology](https://www.academia.edu/30843365/Correcting_Five_Historical_Faults_in_Modern_Cosmology)\n",
    "\n",
    "## Videos\n",
    "\n",
    "* [L'enigme des grands nombres Part1](https://www.youtube.com/watch?v=ev_eIqLtK8s)\n",
    "* [L'enigme des grands nombres Part2](https://www.youtube.com/watch?v=i4w392nYqns)\n",
    "* [L'enigme des grands nombres Part3](https://www.youtube.com/watch?v=b4WvI0yVXnE)\n",
    "* [Exposés de Francis Sanchez playlist created by J.Bailhache](https://www.youtube.com/playlist?list=PLQXUNrzoAeFbmfHo3jgWzzExlVoBn2JUw)\n",
    "* [Khelif/Torgoz/Sanchez' Debate on LE FORMALISME EN PHYSIQUE ET EN SCIENCE](https://www.youtube.com/watch?v=TEK2hCI2we0)\n",
    "\n",
    "* [La science du 3eme millenaire playlist created by J.Bailhache](https://www.youtube.com/playlist?list=PLQXUNrzoAeFbLOuEsltAUWJWCcAEgeGJE)\n",
    "* [Francis Sanchez Cosmologie 23/03/2017](https://www.youtube.com/watch?v=NmvvIQjxBw8)\n",
    "* [La complexité mathématique face à la simplicité cosmique - Exposé de Francis Sanchez](https://www.youtube.com/watch?v=dyUlUahgHGg)\n",
    "* [La méthode scientifique en question et les constantes fondamentales - Exposé](https://www.youtube.com/watch?v=zUt1hxTdiuA)\n",
    "* [Jean Maruani chez lui et Francis Sanchez autour du nombre 237 29. 12. 17](https://www.youtube.com/watch?v=05g416VWjnw)\n",
    "* [Pr. Michel Grosmann: Holographie quanto-cosmique](https://www.youtube.com/watch?v=M7bJnekDIt0)\n",
    "* [Pr. Renée Veysseyre: La constante d'Atiyah réunifie Physique et Mathématique](https://www.youtube.com/watch?v=mbPpKqakDAU)\n",
    "* [Christian Bizouard, astronome: Omniprésence astrophysique du cycle de Kotov](https://www.youtube.com/watch?v=DGeBC73kKvQ)\n",
    "* [Pr. Francis Sanchez: Historique, Principe Calculatoire, Axe Topologique et Principe Holique](https://www.youtube.com/watch?v=IgKSrfsqFEs)\n",
    "\n",
    "## Books\n",
    "\n",
    "* [Bizouard, Kotov, Sanchez wrote in 20th Natural Philosophy Alliance Proceedings by David de Hilster, published by Lulu.com in 2013]()\n",
    "* [Quantum Systems in Physics, Chemistry, Springer Ed](https://www.amazon.com/gp/search?index=books&linkCode=qs&keywords=9783319502557)\n",
    "* [The Worldwide List of Alternative Theories and Critics](https://books.google.com/books?isbn=2902425171)\n",
    "* [The Dirac Electron: From Quantum Chemistry to Holistic Cosmology by J.Maruani](https://onlinelibrary.wiley.com/doi/abs/10.1002/jccs.201500374#)\n",
    "* [solar 22 years cycle](https://link.springer.com/article/10.1007%2Fs10509-016-2985-8)\n",
    "* [Current Issues in Cosmology](https://www.cambridge.org/gb/academic/subjects/physics/cosmology-relativity-and-gravitation/current-issues-cosmology?format=HB&isbn=9780521858984)\n",
    "* ```@inproceedings{Sanchez2015RemarkablePO,\n",
    "  title=Remarkable Properties of the Eddington Number 137 and Electric Parameter 137 . 036 excluding the Multiverse Hypothesis},\n",
    "  author={Francis M. Sanchez and Valery A. Kotov,\n",
    "  year=2015```\n",
    "\n",
    "## Papers\n",
    "\n",
    "* [College de France (2004): Discussions sur les oscillations cosmiques, les nombres sans dimension et les periodicites en microphysique et cosmologie - College de France 27th Feb 2004](https://lempel.pagesperso-orange.fr/occ_cdf.pdf)\n",
    "\n",
    "More to come soon stay tuned.../.:stars:."
   ]
  },
  {
   "cell_type": "markdown",
   "metadata": {},
   "source": [
    "========================================================================================================================="
   ]
  },
  {
   "cell_type": "code",
   "execution_count": 9,
   "metadata": {},
   "outputs": [
    {
     "data": {
      "text/latex": [
       "\\begin{eqnarray}\n",
       "\\frac{m_p^4}{m_p\\cdot m_H\\cdot\\ m_e} = M \\\\\n",
       "\\frac{\\pi_Pt}{\\pi_Bb} = 6 \\cdot \\frac{\\pi^5}{p_H^9} \\\\\n",
       "\\end{eqnarray}"
      ],
      "text/plain": [
       "<IPython.core.display.Latex object>"
      ]
     },
     "execution_count": 9,
     "metadata": {},
     "output_type": "execute_result"
    }
   ],
   "source": [
    "#Write your equation in a dedicated cell with latex\n",
    "\n",
    "from IPython.display import Latex\n",
    "Latex(r\"\"\"\\begin{eqnarray}\n",
    "\\frac{m_p^4}{m_p\\cdot m_H\\cdot\\ m_e} = M \\\\\n",
    "\\frac{\\pi_Pt}{\\pi_Bb} = 6 \\cdot \\frac{\\pi^5}{p_H^9} \\\\\n",
    "\\end{eqnarray}\"\"\")"
   ]
  },
  {
   "cell_type": "code",
   "execution_count": 23,
   "metadata": {},
   "outputs": [
    {
     "data": {
      "text/latex": [
       "\\begin{eqnarray}\n",
       "S = \\frac{c^3 k A}{4 \\hbar G} \\\\\n",
       "\\end{eqnarray}"
      ],
      "text/plain": [
       "<IPython.core.display.Latex object>"
      ]
     },
     "execution_count": 23,
     "metadata": {},
     "output_type": "execute_result"
    }
   ],
   "source": [
    "#Write Bekenstein-Hawking Entropy \n",
    "from IPython.display import Latex\n",
    "Latex(r\"\"\"\\begin{eqnarray}\n",
    "S = \\frac{c^3 k A}{4 \\hbar G} \\\\\n",
    "\\end{eqnarray}\"\"\")"
   ]
  },
  {
   "cell_type": "code",
   "execution_count": null,
   "metadata": {},
   "outputs": [],
   "source": []
  }
 ],
 "metadata": {
  "kernelspec": {
   "display_name": "Python 3",
   "language": "python",
   "name": "python3"
  },
  "language_info": {
   "codemirror_mode": {
    "name": "ipython",
    "version": 3
   },
   "file_extension": ".py",
   "mimetype": "text/x-python",
   "name": "python",
   "nbconvert_exporter": "python",
   "pygments_lexer": "ipython3",
   "version": "3.7.3"
  }
 },
 "nbformat": 4,
 "nbformat_minor": 2
}
