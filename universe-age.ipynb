{
 "cells": [
  {
   "cell_type": "markdown",
   "metadata": {},
   "source": [
    "========================================================================================================================="
   ]
  },
  {
   "cell_type": "markdown",
   "metadata": {},
   "source": [
    "# How to determine the horizon of the visible universe in a Jupyter Notebook"
   ]
  },
  {
   "cell_type": "markdown",
   "metadata": {},
   "source": [
    "========================================================================================================================="
   ]
  },
  {
   "cell_type": "markdown",
   "metadata": {},
   "source": [
    "## 20 correlations establishing the theoritical value of the horizon of the visible universe see [Observable_universe](https://en.wikipedia.org/wiki/Observable_universe) and [Schwarzschild_radius](https://en.wikipedia.org/wiki/Schwarzschild_radius)"
   ]
  },
  {
   "cell_type": "markdown",
   "metadata": {},
   "source": [
    "# with ± 0.0001 billion (10^9) years approximation"
   ]
  },
  {
   "cell_type": "markdown",
   "metadata": {},
   "source": [
    "========================================================================================================================="
   ]
  },
  {
   "cell_type": "markdown",
   "metadata": {},
   "source": [
    "List of physical (NIST CODATA2018) and mathematical constants used:\n",
    "\n",
    "* $\\pi=3.141592653589793$\n",
    "* Euler natural logarithm $e=2.718281828459045$\n",
    "* Euler Mascheroni $\\gamma=0.5772156649015329$\n",
    "* Apery Constant $\\xi(3)=1.202056903159594$ [Apery Constant](https://en.wikipedia.org/wiki/Ap%C3%A9ry%27s_constant)\n",
    "* Atiyah's $\\Gamma=25.178097241906$ [Michael_Atiyah](https://en.wikipedia.org/wiki/Michael_Atiyah)\n",
    "* Lucas Mersenne number [Edouard Lucas](https://en.wikipedia.org/wiki/%C3%89douard_Lucas)\n",
    "* OM Monster [Monster_group](https://en.wikipedia.org/wiki/Monster_group) also known as Fischer–Griess monster\n",
    "* OB Baby Monster [Baby_monster_group](https://en.wikipedia.org/wiki/Baby_monster_group) baby monster group B\n",
    "* OP Pariah Group [Pariah_group](https://en.wikipedia.org/wiki/Pariah_group) six sporadic simple groups\n",
    "* Eddington Electric Constant $a=137.0359990836958$ also known as the inversed fine structure constant CODATA2018\n",
    "* $c=299792458.0$ m/s CODATA2018\n",
    "* $h=6.62607015.10^{-34}$ $J.Hz^{-1}$ Planck constant CODATA2018\n",
    "* $\\hbar=1.0545718176461565.10^{-34}$ $J.s$ Planck constant over 2 pi CODATA2018\n",
    "* $l_P=1.616255.10^{-35}$ m Planck length CODATA2018\n",
    "* $m_P=2.176434.10^{-8}$ kg Planck mass CODATA2018\n",
    "* ƛ$_e$ $=3.861 592 6796.10^{-13}$m Reduced (Electron) Compton Wavelength CODATA2018\n",
    "* ƛ$_p$ $=2.103 089 103 36.10^{-16}$m Reduced (Proton) Compton Wavelength CODATA2018\n",
    "* $\\lambda_{wi}=2.897771955.10^{-3}$ m K (exact) Wien wavelength displacement law constant CODATA2018\n",
    "* $k_B=1.380 649.10^{-23}$ J K^-1  (exact) Boltzmann constant CODATA2018\n",
    "* $t_K=9600.60(1)$s non-Doppler Kotov Periodicity (1000 ppb)\n",
    "* Fermi coupling constant : $1.1663787.10^{-5}$    (GeV)-2          (51 ppb)\n",
    "* Fermi's ratio   F = Fermi's mass / m_e = 573007.3625        (25 ppb)\n",
    "* Fermi-Atiyah's ratio : $F_A = (2\\Gamma . 137)^{3/2}$ ≈ 573007.3652        (0.22 ppb)\n",
    "* Mass of the electron $m_e=9.1093837015.10^{-31}$ kg CODATA2018\n",
    "* Mass of the proton $m_p=1.672 621 923 69.10^{-27}$ kg CODATA2018\n",
    "* Magnetic Moment of the electron/Bohr magneton: $d_e$ ≈ 1.00115965218128 (2 × 10-4  ppb)\n",
    "* Magnetic moment anomaly $1159.65218091.10^{−6}$ ± 0.00000026 [Particle Data Group Leptons](http://pdg.lbl.gov/2019/tables/rpp2019-sum-leptons.pdf) M. Tanabashi et al. (Particle Data Group), Phys. Rev. D 98, 030001 (2018) and 2019\n",
    "* Boson $W=80.379 GeV$ ± 0.012 [Particle Data Group Bosons](http://pdg.lbl.gov/2019/tables/rpp2019-sum-gauge-higgs-bosons.pdf) M. Tanabashi et al. (Particle Data Group), Phys. Rev. D 98, 030001 (2018) and 2019\n",
    "* Boson $Z=91.1876 GeV$ ± 0.0023 [Particle Data Group Bosons](http://pdg.lbl.gov/2019/tables/rpp2019-sum-gauge-higgs-bosons.pdf) M. Tanabashi et al. (Particle Data Group), Phys. Rev. D 98, 030001 (2018) and 2019\n",
    "* Lepton $e=0.5109989461 MeV$ [Particle Data Group Leptons](http://pdg.lbl.gov/2019/tables/rpp2019-sum-leptons.pdf) M. Tanabashi et al. (Particle Data Group), Phys. Rev. D 98, 030001 (2018) and 2019\n",
    "* Baryon $p=938.272081 MeV$ [Particle Data Group Baryons](http://pdg.lbl.gov/2019/tables/rpp2019-sum-baryons.pdf) M. Tanabashi et al. (Particle Data Group), Phys. Rev. D 98, 030001 (2018) and 2019\n",
    "* Baryon $n=939.565413 MeV$ [Particle Data Group Baryons](http://pdg.lbl.gov/2019/tables/rpp2019-sum-baryons.pdf) M. Tanabashi et al. (Particle Data Group), Phys. Rev. D 98, 030001 (2018) and 2019\n",
    "* $G=6.6743.10^{-11}$ $m^{3}.kg^{-1}.s^{-2}$ Newtonian constant of gravitation CODATA2018\n",
    "* $G_q=6.6755.10^{-11}$ $m^{3}.kg^{-1}.s^{-2}$ Newtonian constant of gravitation measured by T.Quinn et al. (2013) BIPM Sevres [Improved determination of G using two methods](https://www.bipm.org/utils/en/pdf/PhysRevLett.111.101102.pdf)\n",
    "* $G_s=6.67545372.10^{-11}$ $m^{3}.kg^{-1}.s^{-2}$ Newtonian constant of gravitation estimate by Francis M. Sanchez (Jan 2020)\n",
    "* Galaxies Doppler radius $R=c.f /\\Delta.f$=Universe Schwarzschild radius: $2G.M/c^2$\n",
    "* Hubble-Lemaître radius: $c/H_0$"
   ]
  },
  {
   "cell_type": "markdown",
   "metadata": {},
   "source": [
    "𝛢𝛼 𝛣𝛽 𝛤𝛾 𝛥𝛿 𝛦𝜀𝜖 𝛧𝜁 𝛨𝜂 𝛩𝜃𝜗 𝛪𝜄 𝛫𝜅 𝛬𝜆 𝛭𝜇 𝛮𝜈 𝛯𝜉 𝛰𝜊 𝛱𝜋 𝛲𝜌 𝛴𝜎 𝛵𝜏 𝛶𝜐 𝛷𝜙𝜑 𝛸𝜒 𝛹𝜓 𝛺𝜔"
   ]
  },
  {
   "cell_type": "code",
   "execution_count": 190,
   "metadata": {},
   "outputs": [],
   "source": [
    "from scipy import constants\n",
    "import numpy as np"
   ]
  },
  {
   "cell_type": "code",
   "execution_count": 191,
   "metadata": {},
   "outputs": [
    {
     "name": "stdout",
     "output_type": "stream",
     "text": [
      "299792458.0\n",
      "6.62607015e-34\n",
      "1.0545718176461565e-34\n",
      "137.0359990836958\n",
      "1.00115965218128\n",
      "1.202056903159594\n",
      "1.6449340668482264\n",
      "2.718281828459045\n",
      "0.5772156649015329\n",
      "25.178097241906\n",
      "573007.364905975\n",
      "3.8615926796089057e-13\n",
      "6.739167620022749e-19\n",
      "2.1030891033555923e-16\n",
      "1837.152646 1836.15267343 1838.68366173\n",
      "9.1093837015e-31 1.67262192369e-27 1.67492749804e-27\n",
      "1.000027430752471\n",
      "113.91063459990004\n",
      "1.380649e-23 2.72582\n",
      "0.0008400718024707187\n",
      "6.67545372e-11\n",
      "1.6163947113699356e-35\n",
      "1.1761048867371158e-24\n",
      "2.389015908333496e+22\n",
      "0.002897771955\n",
      "4.965114232061555\n",
      "0.0013440173951173593\n",
      "5.294654020152911e-11\n",
      "5.294654020152911e-11\n",
      "170141183460469231731687303715884105727\n",
      "808017424794512875886459904961710757005754368000000000\n",
      "4154781481226426191177580544000000\n",
      "2663849798329448283764291471531459318169741293570162121768960000000000000\n"
     ]
    }
   ],
   "source": [
    "c=constants.c\n",
    "print(c)\n",
    "h=constants.h\n",
    "print(h)\n",
    "hbar=constants.hbar\n",
    "print(hbar)\n",
    "a=137.0359990836958\n",
    "print(a)\n",
    "d_e=1.00115965218128\n",
    "print(d_e)\n",
    "xi3=1.202056903159594\n",
    "print(xi3)\n",
    "xi2=np.pi**2/6\n",
    "print(xi2)\n",
    "#print(c,h,hbar,a,d_e,xi3,xi2)\n",
    "e=np.e\n",
    "print(e)\n",
    "gamma=np.euler_gamma\n",
    "print(gamma)\n",
    "Gamma=(constants.fine_structure**-1*gamma)/np.pi\n",
    "print(Gamma)\n",
    "# F**(2/3)=2*137*Gamma\n",
    "# Fermi's mass given by \n",
    "F=(2*137*Gamma)**1.5\n",
    "print(F)\n",
    "lambdabare=constants.hbar/(constants.m_e*constants.c)\n",
    "print(lambdabare)\n",
    "lambdabar_F=lambdabare/F\n",
    "print(lambdabar_F)\n",
    "lambdabar_p=(constants.hbar/(constants.m_p*constants.c))\n",
    "print(lambdabar_p)\n",
    "H=1837.152646   # (0.06 ppb)\n",
    "p=1836.15267343 # 1836.1526734400013 #(0.06 ppb)\n",
    "n=1838.68366173 # 1838.6836617324586 #(0.5 ppb)\n",
    "print(H,p,n)\n",
    "m_e=constants.m_e\n",
    "m_p=constants.m_p\n",
    "m_n=constants.m_n\n",
    "print(m_e,m_p,m_n)\n",
    "beta=(H-p)**(-1)\n",
    "print(beta)\n",
    "j=(8*np.pi**2)/np.log(2)\n",
    "print(j)\n",
    "k_B=constants.Boltzmann\n",
    "T_cmb=2.72582\n",
    "print(k_B,T_cmb)\n",
    "lambdabar_cmb=(constants.hbar*constants.c)/(k_B*T_cmb)\n",
    "print(lambdabar_cmb)\n",
    "# Planck's length CODATA2018 (hbar.G/c^3)^1/2 = 1.61639471.10^-35\n",
    "# l_P=1.616255*10**(-35) CODATA2018\n",
    "G_s=6.67545372*10**-11\n",
    "print(G_s)\n",
    "l_P=((constants.hbar*G_s)/constants.c**3)**0.5\n",
    "print(l_P)\n",
    "ƛ_w=(constants.hbar/(constants.m_e*constants.c))/F**2\n",
    "print(ƛ_w)\n",
    "lambdabar_w=(constants.hbar/(constants.m_e*constants.c))/F**2\n",
    "P=lambdabare/l_P\n",
    "print(P)\n",
    "#2.897 771 955... e-3 m.K - NIST CODATA 2018\n",
    "b=2.897771955*10**(-3)\n",
    "#lambdawien=(h*c)/(k_B*)\n",
    "# b=lambda/lambdawien\n",
    "print(b)\n",
    "𝜔=(h*c)/(k_B*b)\n",
    "print(𝜔)\n",
    "l_ph=(lambdabare*(np.pi*(a**2))**2)\n",
    "print(l_ph)\n",
    "aprime=137.1106292\n",
    "# Hydrogen Atom Radius\n",
    "r_H=(lambdabare*aprime)\n",
    "print(r_H)\n",
    "# Hydrogen Atom Radius\n",
    "r_H=(lambdabare*aprime)\n",
    "print(r_H)\n",
    "Lucas=(2**127)-1\n",
    "print(Lucas)\n",
    "OM=2**46 * 3**20 * 5**9 * 7**6 * 11**2 * 13**3 * 17 * 19 * 23 * 29 * 31 * 41 * 47 * 59 * 71 # 808017424794512875886459904961710757005754368000000000\n",
    "print(OM)\n",
    "OB=2**41 * 3**13 * 5**6 * 7**2 * 11 * 13 * 17 * 19 * 23 * 31 * 47 # 4154781481226426191177580544000000\n",
    "print(OB)\n",
    "OP=2**8 * 3**7 * 5**6 * 7 * 11 * 31 * 37 * 67 * 2**9 * 3**4 * 5 * 7**3 * 11 * 19 * 31 * 2**14 * 3**3 * 5**3 * 7 * 13 * 29 * 2**21 * 3**3 * 5 * 7 * 11**3 * 23 * 29 * 31 * 37 * 43 * 2**7 * 3**5 * 5 * 17 * 19 * 2**3 * 3 * 5 * 7 * 11 * 19\n",
    "print(OP)"
   ]
  },
  {
   "cell_type": "code",
   "execution_count": 213,
   "metadata": {},
   "outputs": [
    {
     "data": {
      "text/plain": [
       "('hubble-table.csv', <http.client.HTTPMessage at 0x7f92a98faf90>)"
      ]
     },
     "execution_count": 213,
     "metadata": {},
     "output_type": "execute_result"
    }
   ],
   "source": [
    "# URL= 'https://github.com/laguer/hubble-table/hubble-table.csv'\n",
    "URL= 'https://raw.githubusercontent.com/LaGuer/hubble-table/master/hubble-table.csv'\n",
    "from urllib.request import urlretrieve\n",
    "urlretrieve (URL, 'hubble-table.csv')"
   ]
  },
  {
   "cell_type": "code",
   "execution_count": 193,
   "metadata": {},
   "outputs": [
    {
     "data": {
      "text/plain": [
       "('constant-table.csv', <http.client.HTTPMessage at 0x7f92b2a52ad0>)"
      ]
     },
     "execution_count": 193,
     "metadata": {},
     "output_type": "execute_result"
    }
   ],
   "source": [
    "URL= 'https://raw.githubusercontent.com/LaGuer/hubble-table/master/constant-table.csv'\n",
    "from urllib.request import urlretrieve\n",
    "urlretrieve (URL, 'constant-table.csv')"
   ]
  },
  {
   "cell_type": "code",
   "execution_count": 218,
   "metadata": {},
   "outputs": [
    {
     "data": {
      "text/html": [
       "<div>\n",
       "<style scoped>\n",
       "    .dataframe tbody tr th:only-of-type {\n",
       "        vertical-align: middle;\n",
       "    }\n",
       "\n",
       "    .dataframe tbody tr th {\n",
       "        vertical-align: top;\n",
       "    }\n",
       "\n",
       "    .dataframe thead th {\n",
       "        text-align: right;\n",
       "    }\n",
       "</style>\n",
       "<table border=\"1\" class=\"dataframe\">\n",
       "  <thead>\n",
       "    <tr style=\"text-align: right;\">\n",
       "      <th></th>\n",
       "      <th>Formula in Latex</th>\n",
       "      <th>Formula in plain</th>\n",
       "      <th>gly_value</th>\n",
       "      <th>m_value</th>\n",
       "    </tr>\n",
       "  </thead>\n",
       "  <tbody>\n",
       "    <tr>\n",
       "      <th>4</th>\n",
       "      <td>$$(ƛ_e^2/l_P)(j/16)^16( e^e )^2.d_e√2$$</td>\n",
       "      <td>(lambdabare**2/l_P)(j/16)**16( e**e )**2*d_e*...</td>\n",
       "      <td>1.381200e+10</td>\n",
       "      <td>1.306715e+26</td>\n",
       "    </tr>\n",
       "    <tr>\n",
       "      <th>5</th>\n",
       "      <td>$$((a/\\sqrt(137)(4πF)^2)ƛe4 l_ph^3(\\lambda_CMB...</td>\n",
       "      <td>((a/np.sqrt(137)*(4np.pi*F)**2)*lambdabar**4*...</td>\n",
       "      <td>1.381189e+10</td>\n",
       "      <td>1.306715e+26</td>\n",
       "    </tr>\n",
       "    <tr>\n",
       "      <th>6</th>\n",
       "      <td>$$2\\betaƛ_ej**{17}(4π)^2√137$$</td>\n",
       "      <td>2*beta*lambdabare*(j**17)*(4*np.pi)**2*np.sqr...</td>\n",
       "      <td>1.381198e+10</td>\n",
       "      <td>1.306715e+26</td>\n",
       "    </tr>\n",
       "    <tr>\n",
       "      <th>7</th>\n",
       "      <td>$$ƛ_e(3j^j /2H)^{1/6}$$</td>\n",
       "      <td>lambdabare*(3*j**j /(2*H))**(1/6)</td>\n",
       "      <td>1.381199e+10</td>\n",
       "      <td>1.306715e+26</td>\n",
       "    </tr>\n",
       "    <tr>\n",
       "      <th>8</th>\n",
       "      <td>$$(βFP^{3/2}(n/p)^{7/2}/2\\pi).ƛ_e$$</td>\n",
       "      <td>beta*F*P**(3/2)*(n/p)**(7/2)/(2*np.pi)*lambda...</td>\n",
       "      <td>1.381198e+10</td>\n",
       "      <td>1.306716e+26</td>\n",
       "    </tr>\n",
       "  </tbody>\n",
       "</table>\n",
       "</div>"
      ],
      "text/plain": [
       "                                    Formula in Latex  \\\n",
       "4            $$(ƛ_e^2/l_P)(j/16)^16( e^e )^2.d_e√2$$   \n",
       "5  $$((a/\\sqrt(137)(4πF)^2)ƛe4 l_ph^3(\\lambda_CMB...   \n",
       "6                     $$2\\betaƛ_ej**{17}(4π)^2√137$$   \n",
       "7                            $$ƛ_e(3j^j /2H)^{1/6}$$   \n",
       "8                $$(βFP^{3/2}(n/p)^{7/2}/2\\pi).ƛ_e$$   \n",
       "\n",
       "                                    Formula in plain     gly_value  \\\n",
       "4   (lambdabare**2/l_P)(j/16)**16( e**e )**2*d_e*...  1.381200e+10   \n",
       "5   ((a/np.sqrt(137)*(4np.pi*F)**2)*lambdabar**4*...  1.381189e+10   \n",
       "6   2*beta*lambdabare*(j**17)*(4*np.pi)**2*np.sqr...  1.381198e+10   \n",
       "7                  lambdabare*(3*j**j /(2*H))**(1/6)  1.381199e+10   \n",
       "8   beta*F*P**(3/2)*(n/p)**(7/2)/(2*np.pi)*lambda...  1.381198e+10   \n",
       "\n",
       "        m_value  \n",
       "4  1.306715e+26  \n",
       "5  1.306715e+26  \n",
       "6  1.306715e+26  \n",
       "7  1.306715e+26  \n",
       "8  1.306716e+26  "
      ]
     },
     "execution_count": 218,
     "metadata": {},
     "output_type": "execute_result"
    }
   ],
   "source": [
    "import pandas as pd\n",
    "#from StringIO import StringIO\n",
    "#df = pd.read_csv('hubble-table.csv')\n",
    "df = pd.read_csv(\"hubble-table.csv\", dtype = {\"gly_value\" : \"float64\",\"m_value\" : \"float64\"}, skiprows = [10], sep = \",\")\n",
    "#df = pd.read_csv(\"hubble-table.csv\", dtype = {\"gly_value\" : \"float64\",\"m_value\" : \"float64\"}, usecols=range(1), skiprows = [10], sep = \",\")\n",
    "#df1 = pd.read_csv(\"constant-table.csv\", dtype = {\" c_value\" : \"float64\"}, skiprows = [1], sep = \",\")\n",
    "#df = pd.to_csv('hubble-table.csv', float_format='%.3f')\n",
    "df.tail ()\n",
    "#df.head ()"
   ]
  },
  {
   "cell_type": "code",
   "execution_count": 219,
   "metadata": {},
   "outputs": [
    {
     "data": {
      "text/html": [
       "<div>\n",
       "<style scoped>\n",
       "    .dataframe tbody tr th:only-of-type {\n",
       "        vertical-align: middle;\n",
       "    }\n",
       "\n",
       "    .dataframe tbody tr th {\n",
       "        vertical-align: top;\n",
       "    }\n",
       "\n",
       "    .dataframe thead th {\n",
       "        text-align: right;\n",
       "    }\n",
       "</style>\n",
       "<table border=\"1\" class=\"dataframe\">\n",
       "  <thead>\n",
       "    <tr style=\"text-align: right;\">\n",
       "      <th></th>\n",
       "      <th>Formula in Latex</th>\n",
       "      <th>Formula in plain</th>\n",
       "      <th>gly_value</th>\n",
       "      <th>m_value</th>\n",
       "    </tr>\n",
       "  </thead>\n",
       "  <tbody>\n",
       "    <tr>\n",
       "      <th>0</th>\n",
       "      <td>$$2hbar^2/(G.m_e.m_p.m_n)$$</td>\n",
       "      <td>2*hbar**2/(G_s*m_e*m_p*m_n)</td>\n",
       "      <td>1.380048e+01</td>\n",
       "      <td>1.305626e+26</td>\n",
       "    </tr>\n",
       "    <tr>\n",
       "      <th>1</th>\n",
       "      <td>$$ƛ_e.exp((e{^4e-1/a}-ln2(P^4/a^3 ))/2)^{1/2}$$</td>\n",
       "      <td>\\t(lambdabare**2/l_P)*((j/16)**16)*( e**e )**...</td>\n",
       "      <td>1.381000e+10</td>\n",
       "      <td>1.306719e+26</td>\n",
       "    </tr>\n",
       "    <tr>\n",
       "      <th>2</th>\n",
       "      <td>$$((a/\\sqrt(137)(4\\pi.F)^2)ƛ_e^4l{ph}^3(ƛ_{CMB...</td>\n",
       "      <td>((a/(np.sqrt(137)*(4*np.pi*F)**2))*(lambdabar...</td>\n",
       "      <td>1.381170e+10</td>\n",
       "      <td>1.306242e+26</td>\n",
       "    </tr>\n",
       "    <tr>\n",
       "      <th>3</th>\n",
       "      <td>$$ƛ_eF_e(Pe^e)^2/√(pn)$$</td>\n",
       "      <td>lambdabare*F_e*(P*e**e)**2/np.sqrt(pn)</td>\n",
       "      <td>1.381260e+10</td>\n",
       "      <td>1.306715e+26</td>\n",
       "    </tr>\n",
       "    <tr>\n",
       "      <th>4</th>\n",
       "      <td>$$(ƛ_e^2/l_P)(j/16)^16( e^e )^2.d_e√2$$</td>\n",
       "      <td>(lambdabare**2/l_P)(j/16)**16( e**e )**2*d_e*...</td>\n",
       "      <td>1.381200e+10</td>\n",
       "      <td>1.306715e+26</td>\n",
       "    </tr>\n",
       "  </tbody>\n",
       "</table>\n",
       "</div>"
      ],
      "text/plain": [
       "                                    Formula in Latex  \\\n",
       "0                        $$2hbar^2/(G.m_e.m_p.m_n)$$   \n",
       "1    $$ƛ_e.exp((e{^4e-1/a}-ln2(P^4/a^3 ))/2)^{1/2}$$   \n",
       "2  $$((a/\\sqrt(137)(4\\pi.F)^2)ƛ_e^4l{ph}^3(ƛ_{CMB...   \n",
       "3                           $$ƛ_eF_e(Pe^e)^2/√(pn)$$   \n",
       "4            $$(ƛ_e^2/l_P)(j/16)^16( e^e )^2.d_e√2$$   \n",
       "\n",
       "                                    Formula in plain     gly_value  \\\n",
       "0                        2*hbar**2/(G_s*m_e*m_p*m_n)  1.380048e+01   \n",
       "1   \\t(lambdabare**2/l_P)*((j/16)**16)*( e**e )**...  1.381000e+10   \n",
       "2   ((a/(np.sqrt(137)*(4*np.pi*F)**2))*(lambdabar...  1.381170e+10   \n",
       "3             lambdabare*F_e*(P*e**e)**2/np.sqrt(pn)  1.381260e+10   \n",
       "4   (lambdabare**2/l_P)(j/16)**16( e**e )**2*d_e*...  1.381200e+10   \n",
       "\n",
       "        m_value  \n",
       "0  1.305626e+26  \n",
       "1  1.306719e+26  \n",
       "2  1.306242e+26  \n",
       "3  1.306715e+26  \n",
       "4  1.306715e+26  "
      ]
     },
     "execution_count": 219,
     "metadata": {},
     "output_type": "execute_result"
    }
   ],
   "source": [
    "import pandas as pd\n",
    "#from StringIO import StringIO\n",
    "#df = pd.read_csv('hubble-table.csv')\n",
    "df = pd.read_csv(\"hubble-table.csv\", dtype = {\"gly_value\" : \"float64\",\"m_value\" : \"float64\"}, skiprows = [10], sep = \",\")\n",
    "#df = pd.read_csv(\"hubble-table.csv\", dtype = {\"gly_value\" : \"float64\",\"m_value\" : \"float64\"}, usecols=range(1), skiprows = [10], sep = \",\")\n",
    "#df1 = pd.read_csv(\"constant-table.csv\", dtype = {\" c_value\" : \"float64\"}, skiprows = [1], sep = \",\")\n",
    "#df = pd.to_csv('hubble-table.csv', float_format='%.3f')\n",
    "#df.tail ()\n",
    "df.head ()"
   ]
  },
  {
   "cell_type": "code",
   "execution_count": 216,
   "metadata": {},
   "outputs": [
    {
     "data": {
      "text/html": [
       "<div>\n",
       "<style scoped>\n",
       "    .dataframe tbody tr th:only-of-type {\n",
       "        vertical-align: middle;\n",
       "    }\n",
       "\n",
       "    .dataframe tbody tr th {\n",
       "        vertical-align: top;\n",
       "    }\n",
       "\n",
       "    .dataframe thead th {\n",
       "        text-align: right;\n",
       "    }\n",
       "</style>\n",
       "<table border=\"1\" class=\"dataframe\">\n",
       "  <thead>\n",
       "    <tr style=\"text-align: right;\">\n",
       "      <th></th>\n",
       "      <th>symbol</th>\n",
       "      <th>value</th>\n",
       "    </tr>\n",
       "  </thead>\n",
       "  <tbody>\n",
       "    <tr>\n",
       "      <th>32</th>\n",
       "      <td>G_s</td>\n",
       "      <td>6.67545372e-11</td>\n",
       "    </tr>\n",
       "    <tr>\n",
       "      <th>33</th>\n",
       "      <td>Lucas</td>\n",
       "      <td>170141183460469231731687303715884105727</td>\n",
       "    </tr>\n",
       "    <tr>\n",
       "      <th>34</th>\n",
       "      <td>OM</td>\n",
       "      <td>8080174247945128758864599049617107570057543680...</td>\n",
       "    </tr>\n",
       "    <tr>\n",
       "      <th>35</th>\n",
       "      <td>OB</td>\n",
       "      <td>4154781481226426191177580544000000</td>\n",
       "    </tr>\n",
       "    <tr>\n",
       "      <th>36</th>\n",
       "      <td>OP</td>\n",
       "      <td>2663849798329448283764291471531459318169741293...</td>\n",
       "    </tr>\n",
       "  </tbody>\n",
       "</table>\n",
       "</div>"
      ],
      "text/plain": [
       "   symbol                                              value\n",
       "32    G_s                                     6.67545372e-11\n",
       "33  Lucas            170141183460469231731687303715884105727\n",
       "34     OM  8080174247945128758864599049617107570057543680...\n",
       "35     OB                 4154781481226426191177580544000000\n",
       "36     OP  2663849798329448283764291471531459318169741293..."
      ]
     },
     "execution_count": 216,
     "metadata": {},
     "output_type": "execute_result"
    }
   ],
   "source": [
    "df1 = pd.read_csv(\"constant-table.csv\", dtype = {\"value\" : \"float64\"}, skiprows = [2], sep = \",\")\n",
    "#df = pd.to_csv('hubble-table.csv', float_format='%.3f')\n",
    "#df1.head ()\n",
    "df1.tail ()"
   ]
  },
  {
   "cell_type": "code",
   "execution_count": 217,
   "metadata": {},
   "outputs": [
    {
     "data": {
      "text/plain": [
       "Formula in Latex      object\n",
       " Formula in plain     object\n",
       " gly_value           float64\n",
       " m_value             float64\n",
       "dtype: object"
      ]
     },
     "execution_count": 217,
     "metadata": {},
     "output_type": "execute_result"
    }
   ],
   "source": [
    "df.dtypes"
   ]
  },
  {
   "cell_type": "code",
   "execution_count": 21,
   "metadata": {},
   "outputs": [],
   "source": [
    "# 3**210"
   ]
  },
  {
   "cell_type": "code",
   "execution_count": 22,
   "metadata": {},
   "outputs": [
    {
     "name": "stdout",
     "output_type": "stream",
     "text": [
      "6.67545372e-11\n"
     ]
    }
   ],
   "source": [
    "# Using G_s the Newtonian constant of gravitation estimate by Francis M. Sanchez (Jan 2020)\n",
    "G_s=6.67545372*10**-11\n",
    "print(G_s)"
   ]
  },
  {
   "cell_type": "markdown",
   "metadata": {},
   "source": [
    "========================================================================================================================="
   ]
  },
  {
   "cell_type": "markdown",
   "metadata": {},
   "source": [
    "# Universe Horizon Radius calculus in 3 minutes (method 1)\n",
    "$$R_U=\\frac{2.\\hbar^2}{G.m_e.m_p.m_n}$$"
   ]
  },
  {
   "cell_type": "code",
   "execution_count": 23,
   "metadata": {},
   "outputs": [
    {
     "name": "stdout",
     "output_type": "stream",
     "text": [
      "1.3056258355517771e+26\n"
     ]
    }
   ],
   "source": [
    "R_U=2*constants.hbar**2/(G_s*constants.m_e*constants.m_p*constants.m_n)\n",
    "print(R_U)"
   ]
  },
  {
   "cell_type": "markdown",
   "metadata": {},
   "source": [
    "## Yields 13.802861522337478 Gly (G) and 13.80047597102314 Gyr (G_s)"
   ]
  },
  {
   "cell_type": "code",
   "execution_count": 24,
   "metadata": {},
   "outputs": [
    {
     "data": {
      "text/plain": [
       "13.80047597102314"
      ]
     },
     "execution_count": 24,
     "metadata": {},
     "output_type": "execute_result"
    }
   ],
   "source": [
    "R_U/(constants.light_year*10**9)"
   ]
  },
  {
   "cell_type": "markdown",
   "metadata": {},
   "source": [
    "========================================================================================================================="
   ]
  },
  {
   "cell_type": "code",
   "execution_count": null,
   "metadata": {},
   "outputs": [],
   "source": []
  }
 ],
 "metadata": {
  "kernelspec": {
   "display_name": "Python 3",
   "language": "python",
   "name": "python3"
  },
  "language_info": {
   "codemirror_mode": {
    "name": "ipython",
    "version": 3
   },
   "file_extension": ".py",
   "mimetype": "text/x-python",
   "name": "python",
   "nbconvert_exporter": "python",
   "pygments_lexer": "ipython3",
   "version": "3.7.6"
  }
 },
 "nbformat": 4,
 "nbformat_minor": 2
}
